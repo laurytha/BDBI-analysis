{
 "cells": [
  {
   "cell_type": "code",
   "execution_count": 5,
   "id": "42702061",
   "metadata": {},
   "outputs": [
    {
     "data": {
      "text/html": [
       "<div>\n",
       "<style scoped>\n",
       "    .dataframe tbody tr th:only-of-type {\n",
       "        vertical-align: middle;\n",
       "    }\n",
       "\n",
       "    .dataframe tbody tr th {\n",
       "        vertical-align: top;\n",
       "    }\n",
       "\n",
       "    .dataframe thead th {\n",
       "        text-align: right;\n",
       "    }\n",
       "</style>\n",
       "<table border=\"1\" class=\"dataframe\">\n",
       "  <thead>\n",
       "    <tr style=\"text-align: right;\">\n",
       "      <th></th>\n",
       "      <th>id</th>\n",
       "      <th>data_inversa</th>\n",
       "      <th>dia_semana</th>\n",
       "      <th>horario</th>\n",
       "      <th>uf</th>\n",
       "      <th>br</th>\n",
       "      <th>km</th>\n",
       "      <th>municipio</th>\n",
       "      <th>causa_acidente</th>\n",
       "      <th>tipo_acidente</th>\n",
       "      <th>...</th>\n",
       "      <th>feridos_graves</th>\n",
       "      <th>ilesos</th>\n",
       "      <th>ignorados</th>\n",
       "      <th>feridos</th>\n",
       "      <th>veiculos</th>\n",
       "      <th>latitude</th>\n",
       "      <th>longitude</th>\n",
       "      <th>regional</th>\n",
       "      <th>delegacia</th>\n",
       "      <th>uop</th>\n",
       "    </tr>\n",
       "  </thead>\n",
       "  <tbody>\n",
       "    <tr>\n",
       "      <th>0</th>\n",
       "      <td>182210.0</td>\n",
       "      <td>2019-01-01</td>\n",
       "      <td>terça-feira</td>\n",
       "      <td>01:30:00</td>\n",
       "      <td>SP</td>\n",
       "      <td>116.0</td>\n",
       "      <td>218</td>\n",
       "      <td>GUARULHOS</td>\n",
       "      <td>Falta de Atenção à Condução</td>\n",
       "      <td>Colisão com objeto estático</td>\n",
       "      <td>...</td>\n",
       "      <td>0</td>\n",
       "      <td>0</td>\n",
       "      <td>0</td>\n",
       "      <td>4</td>\n",
       "      <td>1</td>\n",
       "      <td>-23,46052014</td>\n",
       "      <td>-46,48772478</td>\n",
       "      <td>SR-SP</td>\n",
       "      <td>DEL6/1</td>\n",
       "      <td>UOP01/SP</td>\n",
       "    </tr>\n",
       "    <tr>\n",
       "      <th>1</th>\n",
       "      <td>182211.0</td>\n",
       "      <td>2019-01-01</td>\n",
       "      <td>terça-feira</td>\n",
       "      <td>01:30:00</td>\n",
       "      <td>PR</td>\n",
       "      <td>373.0</td>\n",
       "      <td>177,3</td>\n",
       "      <td>PONTA GROSSA</td>\n",
       "      <td>Falta de Atenção à Condução</td>\n",
       "      <td>Colisão traseira</td>\n",
       "      <td>...</td>\n",
       "      <td>0</td>\n",
       "      <td>0</td>\n",
       "      <td>0</td>\n",
       "      <td>1</td>\n",
       "      <td>1</td>\n",
       "      <td>-25,05533957</td>\n",
       "      <td>-50,22776753</td>\n",
       "      <td>SR-PR</td>\n",
       "      <td>DEL7/3</td>\n",
       "      <td>UOP01/PR</td>\n",
       "    </tr>\n",
       "    <tr>\n",
       "      <th>2</th>\n",
       "      <td>182212.0</td>\n",
       "      <td>2019-01-01</td>\n",
       "      <td>terça-feira</td>\n",
       "      <td>00:45:00</td>\n",
       "      <td>SC</td>\n",
       "      <td>101.0</td>\n",
       "      <td>16</td>\n",
       "      <td>GARUVA</td>\n",
       "      <td>Animais na Pista</td>\n",
       "      <td>Colisão com objeto estático</td>\n",
       "      <td>...</td>\n",
       "      <td>0</td>\n",
       "      <td>0</td>\n",
       "      <td>0</td>\n",
       "      <td>1</td>\n",
       "      <td>1</td>\n",
       "      <td>-26,1216</td>\n",
       "      <td>-48,8826</td>\n",
       "      <td>SR-SC</td>\n",
       "      <td>DEL8/3</td>\n",
       "      <td>UOP01/SC</td>\n",
       "    </tr>\n",
       "    <tr>\n",
       "      <th>3</th>\n",
       "      <td>182214.0</td>\n",
       "      <td>2019-01-01</td>\n",
       "      <td>terça-feira</td>\n",
       "      <td>00:00:00</td>\n",
       "      <td>CE</td>\n",
       "      <td>20.0</td>\n",
       "      <td>429,5</td>\n",
       "      <td>FORTALEZA</td>\n",
       "      <td>Ingestão de Substâncias Psicoativas</td>\n",
       "      <td>Colisão com objeto estático</td>\n",
       "      <td>...</td>\n",
       "      <td>1</td>\n",
       "      <td>0</td>\n",
       "      <td>0</td>\n",
       "      <td>1</td>\n",
       "      <td>1</td>\n",
       "      <td>-3,76999</td>\n",
       "      <td>-38,670063</td>\n",
       "      <td>SR-CE</td>\n",
       "      <td>DEL16/1</td>\n",
       "      <td>UOP02/CE</td>\n",
       "    </tr>\n",
       "    <tr>\n",
       "      <th>4</th>\n",
       "      <td>182215.0</td>\n",
       "      <td>2019-01-01</td>\n",
       "      <td>terça-feira</td>\n",
       "      <td>01:00:00</td>\n",
       "      <td>MG</td>\n",
       "      <td>381.0</td>\n",
       "      <td>327</td>\n",
       "      <td>NOVA ERA</td>\n",
       "      <td>Falta de Atenção à Condução</td>\n",
       "      <td>Colisão transversal</td>\n",
       "      <td>...</td>\n",
       "      <td>1</td>\n",
       "      <td>1</td>\n",
       "      <td>0</td>\n",
       "      <td>1</td>\n",
       "      <td>2</td>\n",
       "      <td>-19,7609</td>\n",
       "      <td>-43,0306</td>\n",
       "      <td>SR-MG</td>\n",
       "      <td>DEL4/3</td>\n",
       "      <td>UOP01/MG</td>\n",
       "    </tr>\n",
       "  </tbody>\n",
       "</table>\n",
       "<p>5 rows × 30 columns</p>\n",
       "</div>"
      ],
      "text/plain": [
       "         id data_inversa   dia_semana   horario  uf     br     km  \\\n",
       "0  182210.0   2019-01-01  terça-feira  01:30:00  SP  116.0    218   \n",
       "1  182211.0   2019-01-01  terça-feira  01:30:00  PR  373.0  177,3   \n",
       "2  182212.0   2019-01-01  terça-feira  00:45:00  SC  101.0     16   \n",
       "3  182214.0   2019-01-01  terça-feira  00:00:00  CE   20.0  429,5   \n",
       "4  182215.0   2019-01-01  terça-feira  01:00:00  MG  381.0    327   \n",
       "\n",
       "      municipio                       causa_acidente  \\\n",
       "0     GUARULHOS          Falta de Atenção à Condução   \n",
       "1  PONTA GROSSA          Falta de Atenção à Condução   \n",
       "2        GARUVA                     Animais na Pista   \n",
       "3     FORTALEZA  Ingestão de Substâncias Psicoativas   \n",
       "4      NOVA ERA          Falta de Atenção à Condução   \n",
       "\n",
       "                 tipo_acidente  ... feridos_graves ilesos ignorados feridos  \\\n",
       "0  Colisão com objeto estático  ...              0      0         0       4   \n",
       "1             Colisão traseira  ...              0      0         0       1   \n",
       "2  Colisão com objeto estático  ...              0      0         0       1   \n",
       "3  Colisão com objeto estático  ...              1      0         0       1   \n",
       "4          Colisão transversal  ...              1      1         0       1   \n",
       "\n",
       "  veiculos      latitude     longitude  regional  delegacia       uop  \n",
       "0        1  -23,46052014  -46,48772478     SR-SP     DEL6/1  UOP01/SP  \n",
       "1        1  -25,05533957  -50,22776753     SR-PR     DEL7/3  UOP01/PR  \n",
       "2        1      -26,1216      -48,8826     SR-SC     DEL8/3  UOP01/SC  \n",
       "3        1      -3,76999    -38,670063     SR-CE    DEL16/1  UOP02/CE  \n",
       "4        2      -19,7609      -43,0306     SR-MG     DEL4/3  UOP01/MG  \n",
       "\n",
       "[5 rows x 30 columns]"
      ]
     },
     "execution_count": 5,
     "metadata": {},
     "output_type": "execute_result"
    }
   ],
   "source": [
    "#importando as bibliotecas para cálculo e criação de visualização gráfica\n",
    "#%matplotlib inline comando para abrir gráficos no mesmo notebook que estou trabalhando\n",
    "\n",
    "import pandas as pd\n",
    "import matplotlib.pylab as plt\n",
    "%matplotlib inline\n",
    "import seaborn as sns\n",
    "import numpy as np\n",
    "import plotly.express as px\n",
    "\n",
    "dados = pd.read_csv('C:\\\\Users\\\\laury\\\\Downloads\\\\analisar-dados\\\\datatran2019.csv', encoding='latin-1', sep = ';')\n",
    "dados.head()"
   ]
  },
  {
   "cell_type": "code",
   "execution_count": 6,
   "id": "c0c8121b",
   "metadata": {},
   "outputs": [
    {
     "data": {
      "text/plain": [
       "(67446, 30)"
      ]
     },
     "execution_count": 6,
     "metadata": {},
     "output_type": "execute_result"
    }
   ],
   "source": [
    "#Retorna a quantidade de linhas e colunas, dimensão da base\n",
    "dados.shape"
   ]
  },
  {
   "cell_type": "code",
   "execution_count": 7,
   "id": "c3510a59",
   "metadata": {},
   "outputs": [
    {
     "data": {
      "text/plain": [
       "(67446, 30)"
      ]
     },
     "execution_count": 7,
     "metadata": {},
     "output_type": "execute_result"
    }
   ],
   "source": [
    "# pedido para remover as duplicatas, no caso não há\n",
    "dados = dados.drop_duplicates()\n",
    "dados.shape"
   ]
  },
  {
   "cell_type": "code",
   "execution_count": 8,
   "id": "cd7903ab",
   "metadata": {},
   "outputs": [
    {
     "data": {
      "text/plain": [
       "id                           0\n",
       "data_inversa                 0\n",
       "dia_semana                   0\n",
       "horario                      0\n",
       "uf                           0\n",
       "br                          95\n",
       "km                          95\n",
       "municipio                    0\n",
       "causa_acidente               0\n",
       "tipo_acidente                0\n",
       "classificacao_acidente       0\n",
       "fase_dia                     0\n",
       "sentido_via                  0\n",
       "condicao_metereologica       0\n",
       "tipo_pista                   0\n",
       "tracado_via                  0\n",
       "uso_solo                     0\n",
       "pessoas                      0\n",
       "mortos                       0\n",
       "feridos_leves                0\n",
       "feridos_graves               0\n",
       "ilesos                       0\n",
       "ignorados                    0\n",
       "feridos                      0\n",
       "veiculos                     0\n",
       "latitude                     0\n",
       "longitude                    0\n",
       "regional                     0\n",
       "delegacia                    0\n",
       "uop                       3440\n",
       "dtype: int64"
      ]
     },
     "execution_count": 8,
     "metadata": {},
     "output_type": "execute_result"
    }
   ],
   "source": [
    "#verificar qtde valores nulos existentes e retorna em sumário\n",
    "dados.isnull().sum()"
   ]
  },
  {
   "cell_type": "code",
   "execution_count": 9,
   "id": "f31fe2d7",
   "metadata": {},
   "outputs": [
    {
     "data": {
      "text/html": [
       "<div>\n",
       "<style scoped>\n",
       "    .dataframe tbody tr th:only-of-type {\n",
       "        vertical-align: middle;\n",
       "    }\n",
       "\n",
       "    .dataframe tbody tr th {\n",
       "        vertical-align: top;\n",
       "    }\n",
       "\n",
       "    .dataframe thead th {\n",
       "        text-align: right;\n",
       "    }\n",
       "</style>\n",
       "<table border=\"1\" class=\"dataframe\">\n",
       "  <thead>\n",
       "    <tr style=\"text-align: right;\">\n",
       "      <th></th>\n",
       "      <th>id</th>\n",
       "      <th>data_inversa</th>\n",
       "      <th>dia_semana</th>\n",
       "      <th>horario</th>\n",
       "      <th>uf</th>\n",
       "      <th>br</th>\n",
       "      <th>km</th>\n",
       "      <th>municipio</th>\n",
       "      <th>causa_acidente</th>\n",
       "      <th>tipo_acidente</th>\n",
       "      <th>...</th>\n",
       "      <th>feridos_graves</th>\n",
       "      <th>ilesos</th>\n",
       "      <th>ignorados</th>\n",
       "      <th>feridos</th>\n",
       "      <th>veiculos</th>\n",
       "      <th>latitude</th>\n",
       "      <th>longitude</th>\n",
       "      <th>regional</th>\n",
       "      <th>delegacia</th>\n",
       "      <th>uop</th>\n",
       "    </tr>\n",
       "  </thead>\n",
       "  <tbody>\n",
       "    <tr>\n",
       "      <th>0</th>\n",
       "      <td>182210.0</td>\n",
       "      <td>2019-01-01</td>\n",
       "      <td>terça-feira</td>\n",
       "      <td>01:30:00</td>\n",
       "      <td>SP</td>\n",
       "      <td>116.0</td>\n",
       "      <td>218</td>\n",
       "      <td>GUARULHOS</td>\n",
       "      <td>Falta de Atenção à Condução</td>\n",
       "      <td>Colisão com objeto estático</td>\n",
       "      <td>...</td>\n",
       "      <td>0</td>\n",
       "      <td>0</td>\n",
       "      <td>0</td>\n",
       "      <td>4</td>\n",
       "      <td>1</td>\n",
       "      <td>-23,46052014</td>\n",
       "      <td>-46,48772478</td>\n",
       "      <td>SR-SP</td>\n",
       "      <td>DEL6/1</td>\n",
       "      <td>n/a</td>\n",
       "    </tr>\n",
       "    <tr>\n",
       "      <th>1</th>\n",
       "      <td>182211.0</td>\n",
       "      <td>2019-01-01</td>\n",
       "      <td>terça-feira</td>\n",
       "      <td>01:30:00</td>\n",
       "      <td>PR</td>\n",
       "      <td>373.0</td>\n",
       "      <td>177,3</td>\n",
       "      <td>PONTA GROSSA</td>\n",
       "      <td>Falta de Atenção à Condução</td>\n",
       "      <td>Colisão traseira</td>\n",
       "      <td>...</td>\n",
       "      <td>0</td>\n",
       "      <td>0</td>\n",
       "      <td>0</td>\n",
       "      <td>1</td>\n",
       "      <td>1</td>\n",
       "      <td>-25,05533957</td>\n",
       "      <td>-50,22776753</td>\n",
       "      <td>SR-PR</td>\n",
       "      <td>DEL7/3</td>\n",
       "      <td>n/a</td>\n",
       "    </tr>\n",
       "    <tr>\n",
       "      <th>2</th>\n",
       "      <td>182212.0</td>\n",
       "      <td>2019-01-01</td>\n",
       "      <td>terça-feira</td>\n",
       "      <td>00:45:00</td>\n",
       "      <td>SC</td>\n",
       "      <td>101.0</td>\n",
       "      <td>16</td>\n",
       "      <td>GARUVA</td>\n",
       "      <td>Animais na Pista</td>\n",
       "      <td>Colisão com objeto estático</td>\n",
       "      <td>...</td>\n",
       "      <td>0</td>\n",
       "      <td>0</td>\n",
       "      <td>0</td>\n",
       "      <td>1</td>\n",
       "      <td>1</td>\n",
       "      <td>-26,1216</td>\n",
       "      <td>-48,8826</td>\n",
       "      <td>SR-SC</td>\n",
       "      <td>DEL8/3</td>\n",
       "      <td>n/a</td>\n",
       "    </tr>\n",
       "    <tr>\n",
       "      <th>3</th>\n",
       "      <td>182214.0</td>\n",
       "      <td>2019-01-01</td>\n",
       "      <td>terça-feira</td>\n",
       "      <td>00:00:00</td>\n",
       "      <td>CE</td>\n",
       "      <td>20.0</td>\n",
       "      <td>429,5</td>\n",
       "      <td>FORTALEZA</td>\n",
       "      <td>Ingestão de Substâncias Psicoativas</td>\n",
       "      <td>Colisão com objeto estático</td>\n",
       "      <td>...</td>\n",
       "      <td>1</td>\n",
       "      <td>0</td>\n",
       "      <td>0</td>\n",
       "      <td>1</td>\n",
       "      <td>1</td>\n",
       "      <td>-3,76999</td>\n",
       "      <td>-38,670063</td>\n",
       "      <td>SR-CE</td>\n",
       "      <td>DEL16/1</td>\n",
       "      <td>n/a</td>\n",
       "    </tr>\n",
       "    <tr>\n",
       "      <th>4</th>\n",
       "      <td>182215.0</td>\n",
       "      <td>2019-01-01</td>\n",
       "      <td>terça-feira</td>\n",
       "      <td>01:00:00</td>\n",
       "      <td>MG</td>\n",
       "      <td>381.0</td>\n",
       "      <td>327</td>\n",
       "      <td>NOVA ERA</td>\n",
       "      <td>Falta de Atenção à Condução</td>\n",
       "      <td>Colisão transversal</td>\n",
       "      <td>...</td>\n",
       "      <td>1</td>\n",
       "      <td>1</td>\n",
       "      <td>0</td>\n",
       "      <td>1</td>\n",
       "      <td>2</td>\n",
       "      <td>-19,7609</td>\n",
       "      <td>-43,0306</td>\n",
       "      <td>SR-MG</td>\n",
       "      <td>DEL4/3</td>\n",
       "      <td>n/a</td>\n",
       "    </tr>\n",
       "  </tbody>\n",
       "</table>\n",
       "<p>5 rows × 30 columns</p>\n",
       "</div>"
      ],
      "text/plain": [
       "         id data_inversa   dia_semana   horario  uf     br     km  \\\n",
       "0  182210.0   2019-01-01  terça-feira  01:30:00  SP  116.0    218   \n",
       "1  182211.0   2019-01-01  terça-feira  01:30:00  PR  373.0  177,3   \n",
       "2  182212.0   2019-01-01  terça-feira  00:45:00  SC  101.0     16   \n",
       "3  182214.0   2019-01-01  terça-feira  00:00:00  CE   20.0  429,5   \n",
       "4  182215.0   2019-01-01  terça-feira  01:00:00  MG  381.0    327   \n",
       "\n",
       "      municipio                       causa_acidente  \\\n",
       "0     GUARULHOS          Falta de Atenção à Condução   \n",
       "1  PONTA GROSSA          Falta de Atenção à Condução   \n",
       "2        GARUVA                     Animais na Pista   \n",
       "3     FORTALEZA  Ingestão de Substâncias Psicoativas   \n",
       "4      NOVA ERA          Falta de Atenção à Condução   \n",
       "\n",
       "                 tipo_acidente  ... feridos_graves ilesos ignorados feridos  \\\n",
       "0  Colisão com objeto estático  ...              0      0         0       4   \n",
       "1             Colisão traseira  ...              0      0         0       1   \n",
       "2  Colisão com objeto estático  ...              0      0         0       1   \n",
       "3  Colisão com objeto estático  ...              1      0         0       1   \n",
       "4          Colisão transversal  ...              1      1         0       1   \n",
       "\n",
       "  veiculos      latitude     longitude  regional  delegacia  uop  \n",
       "0        1  -23,46052014  -46,48772478     SR-SP     DEL6/1  n/a  \n",
       "1        1  -25,05533957  -50,22776753     SR-PR     DEL7/3  n/a  \n",
       "2        1      -26,1216      -48,8826     SR-SC     DEL8/3  n/a  \n",
       "3        1      -3,76999    -38,670063     SR-CE    DEL16/1  n/a  \n",
       "4        2      -19,7609      -43,0306     SR-MG     DEL4/3  n/a  \n",
       "\n",
       "[5 rows x 30 columns]"
      ]
     },
     "execution_count": 9,
     "metadata": {},
     "output_type": "execute_result"
    }
   ],
   "source": [
    "#trabalhando os dados = criando colunas para marcar colunas que tinham valores nulos \n",
    "#dados[''] = np.where(dados[''].isnull(), 'null', 'n/a')\n",
    "\n",
    "dados['uop'] = np.where(dados['uop'].isnull(), 'null', 'n/a')\n",
    "\n",
    "# verificando a base\n",
    "dados.head()\n",
    "\n",
    "#Aqui temos o código para criar as colunas de validação se há ou não valores nulos. \n",
    "#Isso é importante para manter um histórico das alterações realizadas na base."
   ]
  },
  {
   "cell_type": "code",
   "execution_count": 10,
   "id": "572d60b4",
   "metadata": {},
   "outputs": [
    {
     "data": {
      "text/plain": [
       "id                         0\n",
       "data_inversa               0\n",
       "dia_semana                 0\n",
       "horario                    0\n",
       "uf                         0\n",
       "br                        95\n",
       "km                        95\n",
       "municipio                  0\n",
       "causa_acidente             0\n",
       "tipo_acidente              0\n",
       "classificacao_acidente     0\n",
       "fase_dia                   0\n",
       "sentido_via                0\n",
       "condicao_metereologica     0\n",
       "tipo_pista                 0\n",
       "tracado_via                0\n",
       "uso_solo                   0\n",
       "pessoas                    0\n",
       "mortos                     0\n",
       "feridos_leves              0\n",
       "feridos_graves             0\n",
       "ilesos                     0\n",
       "ignorados                  0\n",
       "feridos                    0\n",
       "veiculos                   0\n",
       "latitude                   0\n",
       "longitude                  0\n",
       "regional                   0\n",
       "delegacia                  0\n",
       "uop                        0\n",
       "dtype: int64"
      ]
     },
     "execution_count": 10,
     "metadata": {},
     "output_type": "execute_result"
    }
   ],
   "source": [
    "#verificar retorno da base após alteração:\n",
    "\n",
    "dados.isnull().sum()"
   ]
  },
  {
   "cell_type": "code",
   "execution_count": 11,
   "id": "06c278d8",
   "metadata": {},
   "outputs": [
    {
     "name": "stdout",
     "output_type": "stream",
     "text": [
      "<class 'pandas.core.frame.DataFrame'>\n",
      "Int64Index: 67446 entries, 0 to 67445\n",
      "Data columns (total 30 columns):\n",
      " #   Column                  Non-Null Count  Dtype  \n",
      "---  ------                  --------------  -----  \n",
      " 0   id                      67446 non-null  float64\n",
      " 1   data_inversa            67446 non-null  object \n",
      " 2   dia_semana              67446 non-null  object \n",
      " 3   horario                 67446 non-null  object \n",
      " 4   uf                      67446 non-null  object \n",
      " 5   br                      67351 non-null  float64\n",
      " 6   km                      67351 non-null  object \n",
      " 7   municipio               67446 non-null  object \n",
      " 8   causa_acidente          67446 non-null  object \n",
      " 9   tipo_acidente           67446 non-null  object \n",
      " 10  classificacao_acidente  67446 non-null  object \n",
      " 11  fase_dia                67446 non-null  object \n",
      " 12  sentido_via             67446 non-null  object \n",
      " 13  condicao_metereologica  67446 non-null  object \n",
      " 14  tipo_pista              67446 non-null  object \n",
      " 15  tracado_via             67446 non-null  object \n",
      " 16  uso_solo                67446 non-null  object \n",
      " 17  pessoas                 67446 non-null  int64  \n",
      " 18  mortos                  67446 non-null  int64  \n",
      " 19  feridos_leves           67446 non-null  int64  \n",
      " 20  feridos_graves          67446 non-null  int64  \n",
      " 21  ilesos                  67446 non-null  int64  \n",
      " 22  ignorados               67446 non-null  int64  \n",
      " 23  feridos                 67446 non-null  int64  \n",
      " 24  veiculos                67446 non-null  int64  \n",
      " 25  latitude                67446 non-null  object \n",
      " 26  longitude               67446 non-null  object \n",
      " 27  regional                67446 non-null  object \n",
      " 28  delegacia               67446 non-null  object \n",
      " 29  uop                     67446 non-null  object \n",
      "dtypes: float64(2), int64(8), object(20)\n",
      "memory usage: 16.0+ MB\n"
     ]
    }
   ],
   "source": [
    "#exibir títulos das colunas e suas informações, como tipo de dados \n",
    "\n",
    "dados.info()"
   ]
  },
  {
   "cell_type": "code",
   "execution_count": 12,
   "id": "121497ae",
   "metadata": {},
   "outputs": [
    {
     "data": {
      "text/html": [
       "<div>\n",
       "<style scoped>\n",
       "    .dataframe tbody tr th:only-of-type {\n",
       "        vertical-align: middle;\n",
       "    }\n",
       "\n",
       "    .dataframe tbody tr th {\n",
       "        vertical-align: top;\n",
       "    }\n",
       "\n",
       "    .dataframe thead th {\n",
       "        text-align: right;\n",
       "    }\n",
       "</style>\n",
       "<table border=\"1\" class=\"dataframe\">\n",
       "  <thead>\n",
       "    <tr style=\"text-align: right;\">\n",
       "      <th></th>\n",
       "      <th>id</th>\n",
       "      <th>br</th>\n",
       "      <th>pessoas</th>\n",
       "      <th>mortos</th>\n",
       "      <th>feridos_leves</th>\n",
       "      <th>feridos_graves</th>\n",
       "      <th>ilesos</th>\n",
       "      <th>ignorados</th>\n",
       "      <th>feridos</th>\n",
       "      <th>veiculos</th>\n",
       "    </tr>\n",
       "  </thead>\n",
       "  <tbody>\n",
       "    <tr>\n",
       "      <th>count</th>\n",
       "      <td>67446.000000</td>\n",
       "      <td>67351.000000</td>\n",
       "      <td>67446.000000</td>\n",
       "      <td>67446.000000</td>\n",
       "      <td>67446.000000</td>\n",
       "      <td>67446.000000</td>\n",
       "      <td>67446.000000</td>\n",
       "      <td>67446.000000</td>\n",
       "      <td>67446.000000</td>\n",
       "      <td>67446.000000</td>\n",
       "    </tr>\n",
       "    <tr>\n",
       "      <th>mean</th>\n",
       "      <td>221684.776666</td>\n",
       "      <td>215.341702</td>\n",
       "      <td>2.405969</td>\n",
       "      <td>0.079071</td>\n",
       "      <td>0.897014</td>\n",
       "      <td>0.275376</td>\n",
       "      <td>1.017614</td>\n",
       "      <td>0.136895</td>\n",
       "      <td>1.172390</td>\n",
       "      <td>1.661344</td>\n",
       "    </tr>\n",
       "    <tr>\n",
       "      <th>std</th>\n",
       "      <td>22444.365650</td>\n",
       "      <td>132.006891</td>\n",
       "      <td>1.979497</td>\n",
       "      <td>0.322652</td>\n",
       "      <td>1.136673</td>\n",
       "      <td>0.625602</td>\n",
       "      <td>1.506529</td>\n",
       "      <td>0.405994</td>\n",
       "      <td>1.268847</td>\n",
       "      <td>0.726134</td>\n",
       "    </tr>\n",
       "    <tr>\n",
       "      <th>min</th>\n",
       "      <td>182210.000000</td>\n",
       "      <td>10.000000</td>\n",
       "      <td>1.000000</td>\n",
       "      <td>0.000000</td>\n",
       "      <td>0.000000</td>\n",
       "      <td>0.000000</td>\n",
       "      <td>0.000000</td>\n",
       "      <td>0.000000</td>\n",
       "      <td>0.000000</td>\n",
       "      <td>1.000000</td>\n",
       "    </tr>\n",
       "    <tr>\n",
       "      <th>25%</th>\n",
       "      <td>202254.250000</td>\n",
       "      <td>101.000000</td>\n",
       "      <td>1.000000</td>\n",
       "      <td>0.000000</td>\n",
       "      <td>0.000000</td>\n",
       "      <td>0.000000</td>\n",
       "      <td>0.000000</td>\n",
       "      <td>0.000000</td>\n",
       "      <td>1.000000</td>\n",
       "      <td>1.000000</td>\n",
       "    </tr>\n",
       "    <tr>\n",
       "      <th>50%</th>\n",
       "      <td>221577.500000</td>\n",
       "      <td>163.000000</td>\n",
       "      <td>2.000000</td>\n",
       "      <td>0.000000</td>\n",
       "      <td>1.000000</td>\n",
       "      <td>0.000000</td>\n",
       "      <td>1.000000</td>\n",
       "      <td>0.000000</td>\n",
       "      <td>1.000000</td>\n",
       "      <td>2.000000</td>\n",
       "    </tr>\n",
       "    <tr>\n",
       "      <th>75%</th>\n",
       "      <td>241145.750000</td>\n",
       "      <td>343.000000</td>\n",
       "      <td>3.000000</td>\n",
       "      <td>0.000000</td>\n",
       "      <td>1.000000</td>\n",
       "      <td>0.000000</td>\n",
       "      <td>1.000000</td>\n",
       "      <td>0.000000</td>\n",
       "      <td>1.000000</td>\n",
       "      <td>2.000000</td>\n",
       "    </tr>\n",
       "    <tr>\n",
       "      <th>max</th>\n",
       "      <td>266627.000000</td>\n",
       "      <td>495.000000</td>\n",
       "      <td>74.000000</td>\n",
       "      <td>7.000000</td>\n",
       "      <td>43.000000</td>\n",
       "      <td>22.000000</td>\n",
       "      <td>62.000000</td>\n",
       "      <td>10.000000</td>\n",
       "      <td>49.000000</td>\n",
       "      <td>14.000000</td>\n",
       "    </tr>\n",
       "  </tbody>\n",
       "</table>\n",
       "</div>"
      ],
      "text/plain": [
       "                  id            br       pessoas        mortos  feridos_leves  \\\n",
       "count   67446.000000  67351.000000  67446.000000  67446.000000   67446.000000   \n",
       "mean   221684.776666    215.341702      2.405969      0.079071       0.897014   \n",
       "std     22444.365650    132.006891      1.979497      0.322652       1.136673   \n",
       "min    182210.000000     10.000000      1.000000      0.000000       0.000000   \n",
       "25%    202254.250000    101.000000      1.000000      0.000000       0.000000   \n",
       "50%    221577.500000    163.000000      2.000000      0.000000       1.000000   \n",
       "75%    241145.750000    343.000000      3.000000      0.000000       1.000000   \n",
       "max    266627.000000    495.000000     74.000000      7.000000      43.000000   \n",
       "\n",
       "       feridos_graves        ilesos     ignorados       feridos      veiculos  \n",
       "count    67446.000000  67446.000000  67446.000000  67446.000000  67446.000000  \n",
       "mean         0.275376      1.017614      0.136895      1.172390      1.661344  \n",
       "std          0.625602      1.506529      0.405994      1.268847      0.726134  \n",
       "min          0.000000      0.000000      0.000000      0.000000      1.000000  \n",
       "25%          0.000000      0.000000      0.000000      1.000000      1.000000  \n",
       "50%          0.000000      1.000000      0.000000      1.000000      2.000000  \n",
       "75%          0.000000      1.000000      0.000000      1.000000      2.000000  \n",
       "max         22.000000     62.000000     10.000000     49.000000     14.000000  "
      ]
     },
     "execution_count": 12,
     "metadata": {},
     "output_type": "execute_result"
    }
   ],
   "source": [
    "#Estatísticas Descritivas >> Retorna medidas de tendência central\n",
    "#exibe dados estatísticos da base\n",
    "#Quantidade, média, desvio padrão, valor mínimo, 25% da coluna, 50% da coluna (média), 75% da coluna e valor máximo\n",
    "\n",
    "dados.describe()"
   ]
  },
  {
   "cell_type": "code",
   "execution_count": 13,
   "id": "3aae25d6",
   "metadata": {},
   "outputs": [
    {
     "data": {
      "text/html": [
       "<div>\n",
       "<style scoped>\n",
       "    .dataframe tbody tr th:only-of-type {\n",
       "        vertical-align: middle;\n",
       "    }\n",
       "\n",
       "    .dataframe tbody tr th {\n",
       "        vertical-align: top;\n",
       "    }\n",
       "\n",
       "    .dataframe thead th {\n",
       "        text-align: right;\n",
       "    }\n",
       "</style>\n",
       "<table border=\"1\" class=\"dataframe\">\n",
       "  <thead>\n",
       "    <tr style=\"text-align: right;\">\n",
       "      <th></th>\n",
       "      <th>45689</th>\n",
       "      <th>1172</th>\n",
       "      <th>45265</th>\n",
       "      <th>10577</th>\n",
       "      <th>66614</th>\n",
       "    </tr>\n",
       "  </thead>\n",
       "  <tbody>\n",
       "    <tr>\n",
       "      <th>id</th>\n",
       "      <td>235288.0</td>\n",
       "      <td>184101.0</td>\n",
       "      <td>234818.0</td>\n",
       "      <td>195127.0</td>\n",
       "      <td>259313.0</td>\n",
       "    </tr>\n",
       "    <tr>\n",
       "      <th>data_inversa</th>\n",
       "      <td>2019-09-13</td>\n",
       "      <td>2019-01-08</td>\n",
       "      <td>2019-09-11</td>\n",
       "      <td>2019-03-04</td>\n",
       "      <td>2019-12-28</td>\n",
       "    </tr>\n",
       "    <tr>\n",
       "      <th>dia_semana</th>\n",
       "      <td>sexta-feira</td>\n",
       "      <td>terça-feira</td>\n",
       "      <td>quarta-feira</td>\n",
       "      <td>segunda-feira</td>\n",
       "      <td>sábado</td>\n",
       "    </tr>\n",
       "    <tr>\n",
       "      <th>horario</th>\n",
       "      <td>18:00:00</td>\n",
       "      <td>22:40:00</td>\n",
       "      <td>22:00:00</td>\n",
       "      <td>07:30:00</td>\n",
       "      <td>14:15:00</td>\n",
       "    </tr>\n",
       "    <tr>\n",
       "      <th>uf</th>\n",
       "      <td>MG</td>\n",
       "      <td>DF</td>\n",
       "      <td>MS</td>\n",
       "      <td>MS</td>\n",
       "      <td>MG</td>\n",
       "    </tr>\n",
       "    <tr>\n",
       "      <th>br</th>\n",
       "      <td>381.0</td>\n",
       "      <td>20.0</td>\n",
       "      <td>163.0</td>\n",
       "      <td>267.0</td>\n",
       "      <td>40.0</td>\n",
       "    </tr>\n",
       "    <tr>\n",
       "      <th>km</th>\n",
       "      <td>557,5</td>\n",
       "      <td>19,4</td>\n",
       "      <td>256,4</td>\n",
       "      <td>170,1</td>\n",
       "      <td>527</td>\n",
       "    </tr>\n",
       "    <tr>\n",
       "      <th>municipio</th>\n",
       "      <td>ITAGUARA</td>\n",
       "      <td>BRASILIA</td>\n",
       "      <td>DOURADOS</td>\n",
       "      <td>NOVA ALVORADA DO SUL</td>\n",
       "      <td>CONTAGEM</td>\n",
       "    </tr>\n",
       "    <tr>\n",
       "      <th>causa_acidente</th>\n",
       "      <td>Desobediência às normas de trânsito pelo condutor</td>\n",
       "      <td>Falta de Atenção do Pedestre</td>\n",
       "      <td>Falta de Atenção à Condução</td>\n",
       "      <td>Desobediência às normas de trânsito pelo condutor</td>\n",
       "      <td>Velocidade Incompatível</td>\n",
       "    </tr>\n",
       "    <tr>\n",
       "      <th>tipo_acidente</th>\n",
       "      <td>Colisão lateral</td>\n",
       "      <td>Atropelamento de Pedestre</td>\n",
       "      <td>Colisão traseira</td>\n",
       "      <td>Tombamento</td>\n",
       "      <td>Saída de leito carroçável</td>\n",
       "    </tr>\n",
       "    <tr>\n",
       "      <th>classificacao_acidente</th>\n",
       "      <td>Sem Vítimas</td>\n",
       "      <td>Com Vítimas Feridas</td>\n",
       "      <td>Com Vítimas Feridas</td>\n",
       "      <td>Sem Vítimas</td>\n",
       "      <td>Com Vítimas Fatais</td>\n",
       "    </tr>\n",
       "    <tr>\n",
       "      <th>fase_dia</th>\n",
       "      <td>Plena Noite</td>\n",
       "      <td>Plena Noite</td>\n",
       "      <td>Plena Noite</td>\n",
       "      <td>Pleno dia</td>\n",
       "      <td>Pleno dia</td>\n",
       "    </tr>\n",
       "    <tr>\n",
       "      <th>sentido_via</th>\n",
       "      <td>Decrescente</td>\n",
       "      <td>Crescente</td>\n",
       "      <td>Crescente</td>\n",
       "      <td>Decrescente</td>\n",
       "      <td>Decrescente</td>\n",
       "    </tr>\n",
       "    <tr>\n",
       "      <th>condicao_metereologica</th>\n",
       "      <td>Céu Claro</td>\n",
       "      <td>Céu Claro</td>\n",
       "      <td>Céu Claro</td>\n",
       "      <td>Céu Claro</td>\n",
       "      <td>Sol</td>\n",
       "    </tr>\n",
       "    <tr>\n",
       "      <th>tipo_pista</th>\n",
       "      <td>Dupla</td>\n",
       "      <td>Dupla</td>\n",
       "      <td>Dupla</td>\n",
       "      <td>Simples</td>\n",
       "      <td>Dupla</td>\n",
       "    </tr>\n",
       "    <tr>\n",
       "      <th>tracado_via</th>\n",
       "      <td>Reta</td>\n",
       "      <td>Não Informado</td>\n",
       "      <td>Reta</td>\n",
       "      <td>Reta</td>\n",
       "      <td>Curva</td>\n",
       "    </tr>\n",
       "    <tr>\n",
       "      <th>uso_solo</th>\n",
       "      <td>Não</td>\n",
       "      <td>Não</td>\n",
       "      <td>Sim</td>\n",
       "      <td>Não</td>\n",
       "      <td>Sim</td>\n",
       "    </tr>\n",
       "    <tr>\n",
       "      <th>pessoas</th>\n",
       "      <td>3</td>\n",
       "      <td>2</td>\n",
       "      <td>2</td>\n",
       "      <td>1</td>\n",
       "      <td>2</td>\n",
       "    </tr>\n",
       "    <tr>\n",
       "      <th>mortos</th>\n",
       "      <td>0</td>\n",
       "      <td>0</td>\n",
       "      <td>0</td>\n",
       "      <td>0</td>\n",
       "      <td>1</td>\n",
       "    </tr>\n",
       "    <tr>\n",
       "      <th>feridos_leves</th>\n",
       "      <td>0</td>\n",
       "      <td>1</td>\n",
       "      <td>2</td>\n",
       "      <td>0</td>\n",
       "      <td>0</td>\n",
       "    </tr>\n",
       "    <tr>\n",
       "      <th>feridos_graves</th>\n",
       "      <td>0</td>\n",
       "      <td>0</td>\n",
       "      <td>0</td>\n",
       "      <td>0</td>\n",
       "      <td>1</td>\n",
       "    </tr>\n",
       "    <tr>\n",
       "      <th>ilesos</th>\n",
       "      <td>2</td>\n",
       "      <td>1</td>\n",
       "      <td>0</td>\n",
       "      <td>1</td>\n",
       "      <td>0</td>\n",
       "    </tr>\n",
       "    <tr>\n",
       "      <th>ignorados</th>\n",
       "      <td>1</td>\n",
       "      <td>0</td>\n",
       "      <td>0</td>\n",
       "      <td>0</td>\n",
       "      <td>0</td>\n",
       "    </tr>\n",
       "    <tr>\n",
       "      <th>feridos</th>\n",
       "      <td>0</td>\n",
       "      <td>1</td>\n",
       "      <td>2</td>\n",
       "      <td>0</td>\n",
       "      <td>1</td>\n",
       "    </tr>\n",
       "    <tr>\n",
       "      <th>veiculos</th>\n",
       "      <td>2</td>\n",
       "      <td>1</td>\n",
       "      <td>2</td>\n",
       "      <td>1</td>\n",
       "      <td>1</td>\n",
       "    </tr>\n",
       "    <tr>\n",
       "      <th>latitude</th>\n",
       "      <td>-20,36904</td>\n",
       "      <td>-15,612175</td>\n",
       "      <td>-22,25869</td>\n",
       "      <td>-21,62042</td>\n",
       "      <td>-19,9015</td>\n",
       "    </tr>\n",
       "    <tr>\n",
       "      <th>longitude</th>\n",
       "      <td>-44,46939</td>\n",
       "      <td>-47,700928</td>\n",
       "      <td>-54,80403</td>\n",
       "      <td>-53,6736</td>\n",
       "      <td>-44,04939</td>\n",
       "    </tr>\n",
       "    <tr>\n",
       "      <th>regional</th>\n",
       "      <td>SR-MG</td>\n",
       "      <td>SR-DF</td>\n",
       "      <td>SR-MS</td>\n",
       "      <td>SR-MS</td>\n",
       "      <td>SR-MG</td>\n",
       "    </tr>\n",
       "    <tr>\n",
       "      <th>delegacia</th>\n",
       "      <td>DEL4/4</td>\n",
       "      <td>UOP01/DEL02/DF</td>\n",
       "      <td>DEL3/4</td>\n",
       "      <td>DEL2</td>\n",
       "      <td>DEL4/1</td>\n",
       "    </tr>\n",
       "    <tr>\n",
       "      <th>uop</th>\n",
       "      <td>n/a</td>\n",
       "      <td>null</td>\n",
       "      <td>n/a</td>\n",
       "      <td>n/a</td>\n",
       "      <td>n/a</td>\n",
       "    </tr>\n",
       "  </tbody>\n",
       "</table>\n",
       "</div>"
      ],
      "text/plain": [
       "                                                                    45689  \\\n",
       "id                                                               235288.0   \n",
       "data_inversa                                                   2019-09-13   \n",
       "dia_semana                                                    sexta-feira   \n",
       "horario                                                          18:00:00   \n",
       "uf                                                                     MG   \n",
       "br                                                                  381.0   \n",
       "km                                                                  557,5   \n",
       "municipio                                                        ITAGUARA   \n",
       "causa_acidente          Desobediência às normas de trânsito pelo condutor   \n",
       "tipo_acidente                                             Colisão lateral   \n",
       "classificacao_acidente                                        Sem Vítimas   \n",
       "fase_dia                                                      Plena Noite   \n",
       "sentido_via                                                   Decrescente   \n",
       "condicao_metereologica                                          Céu Claro   \n",
       "tipo_pista                                                          Dupla   \n",
       "tracado_via                                                          Reta   \n",
       "uso_solo                                                              Não   \n",
       "pessoas                                                                 3   \n",
       "mortos                                                                  0   \n",
       "feridos_leves                                                           0   \n",
       "feridos_graves                                                          0   \n",
       "ilesos                                                                  2   \n",
       "ignorados                                                               1   \n",
       "feridos                                                                 0   \n",
       "veiculos                                                                2   \n",
       "latitude                                                        -20,36904   \n",
       "longitude                                                       -44,46939   \n",
       "regional                                                            SR-MG   \n",
       "delegacia                                                          DEL4/4   \n",
       "uop                                                                   n/a   \n",
       "\n",
       "                                               1172   \\\n",
       "id                                          184101.0   \n",
       "data_inversa                              2019-01-08   \n",
       "dia_semana                               terça-feira   \n",
       "horario                                     22:40:00   \n",
       "uf                                                DF   \n",
       "br                                              20.0   \n",
       "km                                              19,4   \n",
       "municipio                                   BRASILIA   \n",
       "causa_acidente          Falta de Atenção do Pedestre   \n",
       "tipo_acidente              Atropelamento de Pedestre   \n",
       "classificacao_acidente           Com Vítimas Feridas   \n",
       "fase_dia                                 Plena Noite   \n",
       "sentido_via                                Crescente   \n",
       "condicao_metereologica                     Céu Claro   \n",
       "tipo_pista                                     Dupla   \n",
       "tracado_via                            Não Informado   \n",
       "uso_solo                                         Não   \n",
       "pessoas                                            2   \n",
       "mortos                                             0   \n",
       "feridos_leves                                      1   \n",
       "feridos_graves                                     0   \n",
       "ilesos                                             1   \n",
       "ignorados                                          0   \n",
       "feridos                                            1   \n",
       "veiculos                                           1   \n",
       "latitude                                  -15,612175   \n",
       "longitude                                 -47,700928   \n",
       "regional                                       SR-DF   \n",
       "delegacia                             UOP01/DEL02/DF   \n",
       "uop                                             null   \n",
       "\n",
       "                                              45265  \\\n",
       "id                                         234818.0   \n",
       "data_inversa                             2019-09-11   \n",
       "dia_semana                             quarta-feira   \n",
       "horario                                    22:00:00   \n",
       "uf                                               MS   \n",
       "br                                            163.0   \n",
       "km                                            256,4   \n",
       "municipio                                  DOURADOS   \n",
       "causa_acidente          Falta de Atenção à Condução   \n",
       "tipo_acidente                      Colisão traseira   \n",
       "classificacao_acidente          Com Vítimas Feridas   \n",
       "fase_dia                                Plena Noite   \n",
       "sentido_via                               Crescente   \n",
       "condicao_metereologica                    Céu Claro   \n",
       "tipo_pista                                    Dupla   \n",
       "tracado_via                                    Reta   \n",
       "uso_solo                                        Sim   \n",
       "pessoas                                           2   \n",
       "mortos                                            0   \n",
       "feridos_leves                                     2   \n",
       "feridos_graves                                    0   \n",
       "ilesos                                            0   \n",
       "ignorados                                         0   \n",
       "feridos                                           2   \n",
       "veiculos                                          2   \n",
       "latitude                                  -22,25869   \n",
       "longitude                                 -54,80403   \n",
       "regional                                      SR-MS   \n",
       "delegacia                                    DEL3/4   \n",
       "uop                                             n/a   \n",
       "\n",
       "                                                                    10577  \\\n",
       "id                                                               195127.0   \n",
       "data_inversa                                                   2019-03-04   \n",
       "dia_semana                                                  segunda-feira   \n",
       "horario                                                          07:30:00   \n",
       "uf                                                                     MS   \n",
       "br                                                                  267.0   \n",
       "km                                                                  170,1   \n",
       "municipio                                            NOVA ALVORADA DO SUL   \n",
       "causa_acidente          Desobediência às normas de trânsito pelo condutor   \n",
       "tipo_acidente                                                  Tombamento   \n",
       "classificacao_acidente                                        Sem Vítimas   \n",
       "fase_dia                                                        Pleno dia   \n",
       "sentido_via                                                   Decrescente   \n",
       "condicao_metereologica                                          Céu Claro   \n",
       "tipo_pista                                                        Simples   \n",
       "tracado_via                                                          Reta   \n",
       "uso_solo                                                              Não   \n",
       "pessoas                                                                 1   \n",
       "mortos                                                                  0   \n",
       "feridos_leves                                                           0   \n",
       "feridos_graves                                                          0   \n",
       "ilesos                                                                  1   \n",
       "ignorados                                                               0   \n",
       "feridos                                                                 0   \n",
       "veiculos                                                                1   \n",
       "latitude                                                        -21,62042   \n",
       "longitude                                                        -53,6736   \n",
       "regional                                                            SR-MS   \n",
       "delegacia                                                            DEL2   \n",
       "uop                                                                   n/a   \n",
       "\n",
       "                                            66614  \n",
       "id                                       259313.0  \n",
       "data_inversa                           2019-12-28  \n",
       "dia_semana                                 sábado  \n",
       "horario                                  14:15:00  \n",
       "uf                                             MG  \n",
       "br                                           40.0  \n",
       "km                                            527  \n",
       "municipio                                CONTAGEM  \n",
       "causa_acidente            Velocidade Incompatível  \n",
       "tipo_acidente           Saída de leito carroçável  \n",
       "classificacao_acidente         Com Vítimas Fatais  \n",
       "fase_dia                                Pleno dia  \n",
       "sentido_via                           Decrescente  \n",
       "condicao_metereologica                        Sol  \n",
       "tipo_pista                                  Dupla  \n",
       "tracado_via                                 Curva  \n",
       "uso_solo                                      Sim  \n",
       "pessoas                                         2  \n",
       "mortos                                          1  \n",
       "feridos_leves                                   0  \n",
       "feridos_graves                                  1  \n",
       "ilesos                                          0  \n",
       "ignorados                                       0  \n",
       "feridos                                         1  \n",
       "veiculos                                        1  \n",
       "latitude                                 -19,9015  \n",
       "longitude                               -44,04939  \n",
       "regional                                    SR-MG  \n",
       "delegacia                                  DEL4/1  \n",
       "uop                                           n/a  "
      ]
     },
     "execution_count": 13,
     "metadata": {},
     "output_type": "execute_result"
    }
   ],
   "source": [
    "#Alternar colunas e linhas - outra visualização da base\n",
    "#Exibe 5 registros:\n",
    "\n",
    "dados.sample(5).T"
   ]
  },
  {
   "cell_type": "code",
   "execution_count": 14,
   "id": "2c7d6c90",
   "metadata": {},
   "outputs": [
    {
     "data": {
      "text/html": [
       "<div>\n",
       "<style scoped>\n",
       "    .dataframe tbody tr th:only-of-type {\n",
       "        vertical-align: middle;\n",
       "    }\n",
       "\n",
       "    .dataframe tbody tr th {\n",
       "        vertical-align: top;\n",
       "    }\n",
       "\n",
       "    .dataframe thead th {\n",
       "        text-align: right;\n",
       "    }\n",
       "</style>\n",
       "<table border=\"1\" class=\"dataframe\">\n",
       "  <thead>\n",
       "    <tr style=\"text-align: right;\">\n",
       "      <th></th>\n",
       "      <th>0</th>\n",
       "      <th>1</th>\n",
       "      <th>2</th>\n",
       "      <th>3</th>\n",
       "      <th>4</th>\n",
       "    </tr>\n",
       "  </thead>\n",
       "  <tbody>\n",
       "    <tr>\n",
       "      <th>id</th>\n",
       "      <td>182210.0</td>\n",
       "      <td>182211.0</td>\n",
       "      <td>182212.0</td>\n",
       "      <td>182214.0</td>\n",
       "      <td>182215.0</td>\n",
       "    </tr>\n",
       "    <tr>\n",
       "      <th>data_inversa</th>\n",
       "      <td>2019-01-01</td>\n",
       "      <td>2019-01-01</td>\n",
       "      <td>2019-01-01</td>\n",
       "      <td>2019-01-01</td>\n",
       "      <td>2019-01-01</td>\n",
       "    </tr>\n",
       "    <tr>\n",
       "      <th>dia_semana</th>\n",
       "      <td>terça-feira</td>\n",
       "      <td>terça-feira</td>\n",
       "      <td>terça-feira</td>\n",
       "      <td>terça-feira</td>\n",
       "      <td>terça-feira</td>\n",
       "    </tr>\n",
       "    <tr>\n",
       "      <th>horario</th>\n",
       "      <td>01:30:00</td>\n",
       "      <td>01:30:00</td>\n",
       "      <td>00:45:00</td>\n",
       "      <td>00:00:00</td>\n",
       "      <td>01:00:00</td>\n",
       "    </tr>\n",
       "    <tr>\n",
       "      <th>uf</th>\n",
       "      <td>SP</td>\n",
       "      <td>PR</td>\n",
       "      <td>SC</td>\n",
       "      <td>CE</td>\n",
       "      <td>MG</td>\n",
       "    </tr>\n",
       "    <tr>\n",
       "      <th>br</th>\n",
       "      <td>116.0</td>\n",
       "      <td>373.0</td>\n",
       "      <td>101.0</td>\n",
       "      <td>20.0</td>\n",
       "      <td>381.0</td>\n",
       "    </tr>\n",
       "    <tr>\n",
       "      <th>km</th>\n",
       "      <td>218</td>\n",
       "      <td>177,3</td>\n",
       "      <td>16</td>\n",
       "      <td>429,5</td>\n",
       "      <td>327</td>\n",
       "    </tr>\n",
       "    <tr>\n",
       "      <th>municipio</th>\n",
       "      <td>GUARULHOS</td>\n",
       "      <td>PONTA GROSSA</td>\n",
       "      <td>GARUVA</td>\n",
       "      <td>FORTALEZA</td>\n",
       "      <td>NOVA ERA</td>\n",
       "    </tr>\n",
       "    <tr>\n",
       "      <th>causa_acidente</th>\n",
       "      <td>Falta de Atenção à Condução</td>\n",
       "      <td>Falta de Atenção à Condução</td>\n",
       "      <td>Animais na Pista</td>\n",
       "      <td>Ingestão de Substâncias Psicoativas</td>\n",
       "      <td>Falta de Atenção à Condução</td>\n",
       "    </tr>\n",
       "    <tr>\n",
       "      <th>tipo_acidente</th>\n",
       "      <td>Colisão com objeto estático</td>\n",
       "      <td>Colisão traseira</td>\n",
       "      <td>Colisão com objeto estático</td>\n",
       "      <td>Colisão com objeto estático</td>\n",
       "      <td>Colisão transversal</td>\n",
       "    </tr>\n",
       "    <tr>\n",
       "      <th>classificacao_acidente</th>\n",
       "      <td>Com Vítimas Feridas</td>\n",
       "      <td>Com Vítimas Feridas</td>\n",
       "      <td>Com Vítimas Feridas</td>\n",
       "      <td>Com Vítimas Feridas</td>\n",
       "      <td>Com Vítimas Feridas</td>\n",
       "    </tr>\n",
       "    <tr>\n",
       "      <th>fase_dia</th>\n",
       "      <td>Plena Noite</td>\n",
       "      <td>Plena Noite</td>\n",
       "      <td>Plena Noite</td>\n",
       "      <td>Plena Noite</td>\n",
       "      <td>Plena Noite</td>\n",
       "    </tr>\n",
       "    <tr>\n",
       "      <th>sentido_via</th>\n",
       "      <td>Crescente</td>\n",
       "      <td>Crescente</td>\n",
       "      <td>Decrescente</td>\n",
       "      <td>Decrescente</td>\n",
       "      <td>Decrescente</td>\n",
       "    </tr>\n",
       "    <tr>\n",
       "      <th>condicao_metereologica</th>\n",
       "      <td>Céu Claro</td>\n",
       "      <td>Nublado</td>\n",
       "      <td>Céu Claro</td>\n",
       "      <td>Nublado</td>\n",
       "      <td>Nublado</td>\n",
       "    </tr>\n",
       "    <tr>\n",
       "      <th>tipo_pista</th>\n",
       "      <td>Múltipla</td>\n",
       "      <td>Dupla</td>\n",
       "      <td>Dupla</td>\n",
       "      <td>Dupla</td>\n",
       "      <td>Simples</td>\n",
       "    </tr>\n",
       "    <tr>\n",
       "      <th>tracado_via</th>\n",
       "      <td>Curva</td>\n",
       "      <td>Reta</td>\n",
       "      <td>Reta</td>\n",
       "      <td>Viaduto</td>\n",
       "      <td>Interseção de vias</td>\n",
       "    </tr>\n",
       "    <tr>\n",
       "      <th>uso_solo</th>\n",
       "      <td>Sim</td>\n",
       "      <td>Sim</td>\n",
       "      <td>Sim</td>\n",
       "      <td>Sim</td>\n",
       "      <td>Não</td>\n",
       "    </tr>\n",
       "    <tr>\n",
       "      <th>pessoas</th>\n",
       "      <td>4</td>\n",
       "      <td>1</td>\n",
       "      <td>1</td>\n",
       "      <td>1</td>\n",
       "      <td>2</td>\n",
       "    </tr>\n",
       "    <tr>\n",
       "      <th>mortos</th>\n",
       "      <td>0</td>\n",
       "      <td>0</td>\n",
       "      <td>0</td>\n",
       "      <td>0</td>\n",
       "      <td>0</td>\n",
       "    </tr>\n",
       "    <tr>\n",
       "      <th>feridos_leves</th>\n",
       "      <td>4</td>\n",
       "      <td>1</td>\n",
       "      <td>1</td>\n",
       "      <td>0</td>\n",
       "      <td>0</td>\n",
       "    </tr>\n",
       "    <tr>\n",
       "      <th>feridos_graves</th>\n",
       "      <td>0</td>\n",
       "      <td>0</td>\n",
       "      <td>0</td>\n",
       "      <td>1</td>\n",
       "      <td>1</td>\n",
       "    </tr>\n",
       "    <tr>\n",
       "      <th>ilesos</th>\n",
       "      <td>0</td>\n",
       "      <td>0</td>\n",
       "      <td>0</td>\n",
       "      <td>0</td>\n",
       "      <td>1</td>\n",
       "    </tr>\n",
       "    <tr>\n",
       "      <th>ignorados</th>\n",
       "      <td>0</td>\n",
       "      <td>0</td>\n",
       "      <td>0</td>\n",
       "      <td>0</td>\n",
       "      <td>0</td>\n",
       "    </tr>\n",
       "    <tr>\n",
       "      <th>feridos</th>\n",
       "      <td>4</td>\n",
       "      <td>1</td>\n",
       "      <td>1</td>\n",
       "      <td>1</td>\n",
       "      <td>1</td>\n",
       "    </tr>\n",
       "    <tr>\n",
       "      <th>veiculos</th>\n",
       "      <td>1</td>\n",
       "      <td>1</td>\n",
       "      <td>1</td>\n",
       "      <td>1</td>\n",
       "      <td>2</td>\n",
       "    </tr>\n",
       "    <tr>\n",
       "      <th>latitude</th>\n",
       "      <td>-23,46052014</td>\n",
       "      <td>-25,05533957</td>\n",
       "      <td>-26,1216</td>\n",
       "      <td>-3,76999</td>\n",
       "      <td>-19,7609</td>\n",
       "    </tr>\n",
       "    <tr>\n",
       "      <th>longitude</th>\n",
       "      <td>-46,48772478</td>\n",
       "      <td>-50,22776753</td>\n",
       "      <td>-48,8826</td>\n",
       "      <td>-38,670063</td>\n",
       "      <td>-43,0306</td>\n",
       "    </tr>\n",
       "    <tr>\n",
       "      <th>regional</th>\n",
       "      <td>SR-SP</td>\n",
       "      <td>SR-PR</td>\n",
       "      <td>SR-SC</td>\n",
       "      <td>SR-CE</td>\n",
       "      <td>SR-MG</td>\n",
       "    </tr>\n",
       "    <tr>\n",
       "      <th>delegacia</th>\n",
       "      <td>DEL6/1</td>\n",
       "      <td>DEL7/3</td>\n",
       "      <td>DEL8/3</td>\n",
       "      <td>DEL16/1</td>\n",
       "      <td>DEL4/3</td>\n",
       "    </tr>\n",
       "    <tr>\n",
       "      <th>uop</th>\n",
       "      <td>n/a</td>\n",
       "      <td>n/a</td>\n",
       "      <td>n/a</td>\n",
       "      <td>n/a</td>\n",
       "      <td>n/a</td>\n",
       "    </tr>\n",
       "  </tbody>\n",
       "</table>\n",
       "</div>"
      ],
      "text/plain": [
       "                                                  0  \\\n",
       "id                                         182210.0   \n",
       "data_inversa                             2019-01-01   \n",
       "dia_semana                              terça-feira   \n",
       "horario                                    01:30:00   \n",
       "uf                                               SP   \n",
       "br                                            116.0   \n",
       "km                                              218   \n",
       "municipio                                 GUARULHOS   \n",
       "causa_acidente          Falta de Atenção à Condução   \n",
       "tipo_acidente           Colisão com objeto estático   \n",
       "classificacao_acidente          Com Vítimas Feridas   \n",
       "fase_dia                                Plena Noite   \n",
       "sentido_via                               Crescente   \n",
       "condicao_metereologica                    Céu Claro   \n",
       "tipo_pista                                 Múltipla   \n",
       "tracado_via                                   Curva   \n",
       "uso_solo                                        Sim   \n",
       "pessoas                                           4   \n",
       "mortos                                            0   \n",
       "feridos_leves                                     4   \n",
       "feridos_graves                                    0   \n",
       "ilesos                                            0   \n",
       "ignorados                                         0   \n",
       "feridos                                           4   \n",
       "veiculos                                          1   \n",
       "latitude                               -23,46052014   \n",
       "longitude                              -46,48772478   \n",
       "regional                                      SR-SP   \n",
       "delegacia                                    DEL6/1   \n",
       "uop                                             n/a   \n",
       "\n",
       "                                                  1  \\\n",
       "id                                         182211.0   \n",
       "data_inversa                             2019-01-01   \n",
       "dia_semana                              terça-feira   \n",
       "horario                                    01:30:00   \n",
       "uf                                               PR   \n",
       "br                                            373.0   \n",
       "km                                            177,3   \n",
       "municipio                              PONTA GROSSA   \n",
       "causa_acidente          Falta de Atenção à Condução   \n",
       "tipo_acidente                      Colisão traseira   \n",
       "classificacao_acidente          Com Vítimas Feridas   \n",
       "fase_dia                                Plena Noite   \n",
       "sentido_via                               Crescente   \n",
       "condicao_metereologica                      Nublado   \n",
       "tipo_pista                                    Dupla   \n",
       "tracado_via                                    Reta   \n",
       "uso_solo                                        Sim   \n",
       "pessoas                                           1   \n",
       "mortos                                            0   \n",
       "feridos_leves                                     1   \n",
       "feridos_graves                                    0   \n",
       "ilesos                                            0   \n",
       "ignorados                                         0   \n",
       "feridos                                           1   \n",
       "veiculos                                          1   \n",
       "latitude                               -25,05533957   \n",
       "longitude                              -50,22776753   \n",
       "regional                                      SR-PR   \n",
       "delegacia                                    DEL7/3   \n",
       "uop                                             n/a   \n",
       "\n",
       "                                                  2  \\\n",
       "id                                         182212.0   \n",
       "data_inversa                             2019-01-01   \n",
       "dia_semana                              terça-feira   \n",
       "horario                                    00:45:00   \n",
       "uf                                               SC   \n",
       "br                                            101.0   \n",
       "km                                               16   \n",
       "municipio                                    GARUVA   \n",
       "causa_acidente                     Animais na Pista   \n",
       "tipo_acidente           Colisão com objeto estático   \n",
       "classificacao_acidente          Com Vítimas Feridas   \n",
       "fase_dia                                Plena Noite   \n",
       "sentido_via                             Decrescente   \n",
       "condicao_metereologica                    Céu Claro   \n",
       "tipo_pista                                    Dupla   \n",
       "tracado_via                                    Reta   \n",
       "uso_solo                                        Sim   \n",
       "pessoas                                           1   \n",
       "mortos                                            0   \n",
       "feridos_leves                                     1   \n",
       "feridos_graves                                    0   \n",
       "ilesos                                            0   \n",
       "ignorados                                         0   \n",
       "feridos                                           1   \n",
       "veiculos                                          1   \n",
       "latitude                                   -26,1216   \n",
       "longitude                                  -48,8826   \n",
       "regional                                      SR-SC   \n",
       "delegacia                                    DEL8/3   \n",
       "uop                                             n/a   \n",
       "\n",
       "                                                          3  \\\n",
       "id                                                 182214.0   \n",
       "data_inversa                                     2019-01-01   \n",
       "dia_semana                                      terça-feira   \n",
       "horario                                            00:00:00   \n",
       "uf                                                       CE   \n",
       "br                                                     20.0   \n",
       "km                                                    429,5   \n",
       "municipio                                         FORTALEZA   \n",
       "causa_acidente          Ingestão de Substâncias Psicoativas   \n",
       "tipo_acidente                   Colisão com objeto estático   \n",
       "classificacao_acidente                  Com Vítimas Feridas   \n",
       "fase_dia                                        Plena Noite   \n",
       "sentido_via                                     Decrescente   \n",
       "condicao_metereologica                              Nublado   \n",
       "tipo_pista                                            Dupla   \n",
       "tracado_via                                         Viaduto   \n",
       "uso_solo                                                Sim   \n",
       "pessoas                                                   1   \n",
       "mortos                                                    0   \n",
       "feridos_leves                                             0   \n",
       "feridos_graves                                            1   \n",
       "ilesos                                                    0   \n",
       "ignorados                                                 0   \n",
       "feridos                                                   1   \n",
       "veiculos                                                  1   \n",
       "latitude                                           -3,76999   \n",
       "longitude                                        -38,670063   \n",
       "regional                                              SR-CE   \n",
       "delegacia                                           DEL16/1   \n",
       "uop                                                     n/a   \n",
       "\n",
       "                                                  4  \n",
       "id                                         182215.0  \n",
       "data_inversa                             2019-01-01  \n",
       "dia_semana                              terça-feira  \n",
       "horario                                    01:00:00  \n",
       "uf                                               MG  \n",
       "br                                            381.0  \n",
       "km                                              327  \n",
       "municipio                                  NOVA ERA  \n",
       "causa_acidente          Falta de Atenção à Condução  \n",
       "tipo_acidente                   Colisão transversal  \n",
       "classificacao_acidente          Com Vítimas Feridas  \n",
       "fase_dia                                Plena Noite  \n",
       "sentido_via                             Decrescente  \n",
       "condicao_metereologica                      Nublado  \n",
       "tipo_pista                                  Simples  \n",
       "tracado_via                      Interseção de vias  \n",
       "uso_solo                                        Não  \n",
       "pessoas                                           2  \n",
       "mortos                                            0  \n",
       "feridos_leves                                     0  \n",
       "feridos_graves                                    1  \n",
       "ilesos                                            1  \n",
       "ignorados                                         0  \n",
       "feridos                                           1  \n",
       "veiculos                                          2  \n",
       "latitude                                   -19,7609  \n",
       "longitude                                  -43,0306  \n",
       "regional                                      SR-MG  \n",
       "delegacia                                    DEL4/3  \n",
       "uop                                             n/a  "
      ]
     },
     "execution_count": 14,
     "metadata": {},
     "output_type": "execute_result"
    }
   ],
   "source": [
    "#Alternar colunas e linhas - outra visualização da base\n",
    "#Exibe 5 primeiros registros:\n",
    "\n",
    "dados[0:5].T"
   ]
  },
  {
   "cell_type": "code",
   "execution_count": 15,
   "id": "cfca9223",
   "metadata": {
    "scrolled": false
   },
   "outputs": [
    {
     "data": {
      "text/html": [
       "<div>\n",
       "<style scoped>\n",
       "    .dataframe tbody tr th:only-of-type {\n",
       "        vertical-align: middle;\n",
       "    }\n",
       "\n",
       "    .dataframe tbody tr th {\n",
       "        vertical-align: top;\n",
       "    }\n",
       "\n",
       "    .dataframe thead th {\n",
       "        text-align: right;\n",
       "    }\n",
       "</style>\n",
       "<table border=\"1\" class=\"dataframe\">\n",
       "  <thead>\n",
       "    <tr style=\"text-align: right;\">\n",
       "      <th></th>\n",
       "      <th>id</th>\n",
       "      <th>data_inversa</th>\n",
       "      <th>dia_semana</th>\n",
       "      <th>horario</th>\n",
       "      <th>uf</th>\n",
       "      <th>br</th>\n",
       "      <th>km</th>\n",
       "      <th>municipio</th>\n",
       "      <th>causa_acidente</th>\n",
       "      <th>tipo_acidente</th>\n",
       "      <th>...</th>\n",
       "      <th>feridos_graves</th>\n",
       "      <th>ilesos</th>\n",
       "      <th>ignorados</th>\n",
       "      <th>feridos</th>\n",
       "      <th>veiculos</th>\n",
       "      <th>latitude</th>\n",
       "      <th>longitude</th>\n",
       "      <th>regional</th>\n",
       "      <th>delegacia</th>\n",
       "      <th>uop</th>\n",
       "    </tr>\n",
       "  </thead>\n",
       "  <tbody>\n",
       "    <tr>\n",
       "      <th>67441</th>\n",
       "      <td>266255.0</td>\n",
       "      <td>2019-10-07</td>\n",
       "      <td>segunda-feira</td>\n",
       "      <td>09:10:00</td>\n",
       "      <td>ES</td>\n",
       "      <td>101.0</td>\n",
       "      <td>270,5</td>\n",
       "      <td>SERRA</td>\n",
       "      <td>Falta de Atenção à Condução</td>\n",
       "      <td>Tombamento</td>\n",
       "      <td>...</td>\n",
       "      <td>1</td>\n",
       "      <td>1</td>\n",
       "      <td>0</td>\n",
       "      <td>1</td>\n",
       "      <td>2</td>\n",
       "      <td>-20,23107</td>\n",
       "      <td>-40,27387</td>\n",
       "      <td>SR-ES</td>\n",
       "      <td>DEL12/2</td>\n",
       "      <td>n/a</td>\n",
       "    </tr>\n",
       "    <tr>\n",
       "      <th>67442</th>\n",
       "      <td>266406.0</td>\n",
       "      <td>2019-11-25</td>\n",
       "      <td>segunda-feira</td>\n",
       "      <td>07:20:00</td>\n",
       "      <td>PR</td>\n",
       "      <td>116.0</td>\n",
       "      <td>125</td>\n",
       "      <td>FAZENDA RIO GRANDE</td>\n",
       "      <td>Falta de Atenção à Condução</td>\n",
       "      <td>Colisão lateral</td>\n",
       "      <td>...</td>\n",
       "      <td>0</td>\n",
       "      <td>1</td>\n",
       "      <td>1</td>\n",
       "      <td>1</td>\n",
       "      <td>2</td>\n",
       "      <td>-25,59505</td>\n",
       "      <td>-49,31631</td>\n",
       "      <td>SR-PR</td>\n",
       "      <td>DEL7/1</td>\n",
       "      <td>n/a</td>\n",
       "    </tr>\n",
       "    <tr>\n",
       "      <th>67443</th>\n",
       "      <td>266434.0</td>\n",
       "      <td>2019-06-03</td>\n",
       "      <td>segunda-feira</td>\n",
       "      <td>19:00:00</td>\n",
       "      <td>CE</td>\n",
       "      <td>222.0</td>\n",
       "      <td>1,4</td>\n",
       "      <td>CAUCAIA</td>\n",
       "      <td>Não guardar distância de segurança</td>\n",
       "      <td>Colisão traseira</td>\n",
       "      <td>...</td>\n",
       "      <td>1</td>\n",
       "      <td>1</td>\n",
       "      <td>0</td>\n",
       "      <td>1</td>\n",
       "      <td>2</td>\n",
       "      <td>-3,736507</td>\n",
       "      <td>-38,65337</td>\n",
       "      <td>SR-CE</td>\n",
       "      <td>DEL16/1</td>\n",
       "      <td>n/a</td>\n",
       "    </tr>\n",
       "    <tr>\n",
       "      <th>67444</th>\n",
       "      <td>266573.0</td>\n",
       "      <td>2019-07-13</td>\n",
       "      <td>sábado</td>\n",
       "      <td>19:35:00</td>\n",
       "      <td>PR</td>\n",
       "      <td>373.0</td>\n",
       "      <td>425</td>\n",
       "      <td>CANDOI</td>\n",
       "      <td>Defeito Mecânico no Veículo</td>\n",
       "      <td>Saída de leito carroçável</td>\n",
       "      <td>...</td>\n",
       "      <td>1</td>\n",
       "      <td>0</td>\n",
       "      <td>0</td>\n",
       "      <td>1</td>\n",
       "      <td>1</td>\n",
       "      <td>-25,7118</td>\n",
       "      <td>-52,18374</td>\n",
       "      <td>SR-PR</td>\n",
       "      <td>DEL7/3</td>\n",
       "      <td>n/a</td>\n",
       "    </tr>\n",
       "    <tr>\n",
       "      <th>67445</th>\n",
       "      <td>266627.0</td>\n",
       "      <td>2019-10-22</td>\n",
       "      <td>terça-feira</td>\n",
       "      <td>20:20:00</td>\n",
       "      <td>BA</td>\n",
       "      <td>324.0</td>\n",
       "      <td>608</td>\n",
       "      <td>SIMOES FILHO</td>\n",
       "      <td>Defeito na Via</td>\n",
       "      <td>Queda de ocupante de veículo</td>\n",
       "      <td>...</td>\n",
       "      <td>0</td>\n",
       "      <td>0</td>\n",
       "      <td>0</td>\n",
       "      <td>1</td>\n",
       "      <td>1</td>\n",
       "      <td>-12,78156</td>\n",
       "      <td>-38,41656</td>\n",
       "      <td>SR-BA</td>\n",
       "      <td>DEL10/1</td>\n",
       "      <td>n/a</td>\n",
       "    </tr>\n",
       "  </tbody>\n",
       "</table>\n",
       "<p>5 rows × 30 columns</p>\n",
       "</div>"
      ],
      "text/plain": [
       "             id data_inversa     dia_semana   horario  uf     br     km  \\\n",
       "67441  266255.0   2019-10-07  segunda-feira  09:10:00  ES  101.0  270,5   \n",
       "67442  266406.0   2019-11-25  segunda-feira  07:20:00  PR  116.0    125   \n",
       "67443  266434.0   2019-06-03  segunda-feira  19:00:00  CE  222.0    1,4   \n",
       "67444  266573.0   2019-07-13         sábado  19:35:00  PR  373.0    425   \n",
       "67445  266627.0   2019-10-22    terça-feira  20:20:00  BA  324.0    608   \n",
       "\n",
       "                municipio                      causa_acidente  \\\n",
       "67441               SERRA         Falta de Atenção à Condução   \n",
       "67442  FAZENDA RIO GRANDE         Falta de Atenção à Condução   \n",
       "67443             CAUCAIA  Não guardar distância de segurança   \n",
       "67444              CANDOI         Defeito Mecânico no Veículo   \n",
       "67445        SIMOES FILHO                      Defeito na Via   \n",
       "\n",
       "                      tipo_acidente  ... feridos_graves ilesos ignorados  \\\n",
       "67441                    Tombamento  ...              1      1         0   \n",
       "67442               Colisão lateral  ...              0      1         1   \n",
       "67443              Colisão traseira  ...              1      1         0   \n",
       "67444     Saída de leito carroçável  ...              1      0         0   \n",
       "67445  Queda de ocupante de veículo  ...              0      0         0   \n",
       "\n",
       "      feridos veiculos   latitude  longitude  regional  delegacia  uop  \n",
       "67441       1        2  -20,23107  -40,27387     SR-ES    DEL12/2  n/a  \n",
       "67442       1        2  -25,59505  -49,31631     SR-PR     DEL7/1  n/a  \n",
       "67443       1        2  -3,736507  -38,65337     SR-CE    DEL16/1  n/a  \n",
       "67444       1        1   -25,7118  -52,18374     SR-PR     DEL7/3  n/a  \n",
       "67445       1        1  -12,78156  -38,41656     SR-BA    DEL10/1  n/a  \n",
       "\n",
       "[5 rows x 30 columns]"
      ]
     },
     "execution_count": 15,
     "metadata": {},
     "output_type": "execute_result"
    }
   ],
   "source": [
    "#Exibe 5 últimos registros: (linhas)\n",
    "\n",
    "dados.tail()"
   ]
  },
  {
   "cell_type": "code",
   "execution_count": 16,
   "id": "143c9eaa",
   "metadata": {
    "scrolled": false
   },
   "outputs": [
    {
     "data": {
      "text/html": [
       "<div>\n",
       "<style scoped>\n",
       "    .dataframe tbody tr th:only-of-type {\n",
       "        vertical-align: middle;\n",
       "    }\n",
       "\n",
       "    .dataframe tbody tr th {\n",
       "        vertical-align: top;\n",
       "    }\n",
       "\n",
       "    .dataframe thead th {\n",
       "        text-align: right;\n",
       "    }\n",
       "</style>\n",
       "<table border=\"1\" class=\"dataframe\">\n",
       "  <thead>\n",
       "    <tr style=\"text-align: right;\">\n",
       "      <th></th>\n",
       "      <th>200</th>\n",
       "      <th>201</th>\n",
       "      <th>202</th>\n",
       "      <th>203</th>\n",
       "      <th>204</th>\n",
       "      <th>205</th>\n",
       "      <th>206</th>\n",
       "      <th>207</th>\n",
       "      <th>208</th>\n",
       "      <th>209</th>\n",
       "      <th>...</th>\n",
       "      <th>290</th>\n",
       "      <th>291</th>\n",
       "      <th>292</th>\n",
       "      <th>293</th>\n",
       "      <th>294</th>\n",
       "      <th>295</th>\n",
       "      <th>296</th>\n",
       "      <th>297</th>\n",
       "      <th>298</th>\n",
       "      <th>299</th>\n",
       "    </tr>\n",
       "  </thead>\n",
       "  <tbody>\n",
       "    <tr>\n",
       "      <th>id</th>\n",
       "      <td>182448.0</td>\n",
       "      <td>182449.0</td>\n",
       "      <td>182450.0</td>\n",
       "      <td>182451.0</td>\n",
       "      <td>182452.0</td>\n",
       "      <td>182455.0</td>\n",
       "      <td>182457.0</td>\n",
       "      <td>182458.0</td>\n",
       "      <td>182459.0</td>\n",
       "      <td>182460.0</td>\n",
       "      <td>...</td>\n",
       "      <td>182573.0</td>\n",
       "      <td>182575.0</td>\n",
       "      <td>182576.0</td>\n",
       "      <td>182577.0</td>\n",
       "      <td>182578.0</td>\n",
       "      <td>182579.0</td>\n",
       "      <td>182580.0</td>\n",
       "      <td>182581.0</td>\n",
       "      <td>182583.0</td>\n",
       "      <td>182584.0</td>\n",
       "    </tr>\n",
       "    <tr>\n",
       "      <th>data_inversa</th>\n",
       "      <td>2019-01-02</td>\n",
       "      <td>2019-01-01</td>\n",
       "      <td>2019-01-02</td>\n",
       "      <td>2019-01-02</td>\n",
       "      <td>2019-01-02</td>\n",
       "      <td>2019-01-02</td>\n",
       "      <td>2019-01-01</td>\n",
       "      <td>2019-01-02</td>\n",
       "      <td>2019-01-02</td>\n",
       "      <td>2019-01-02</td>\n",
       "      <td>...</td>\n",
       "      <td>2019-01-02</td>\n",
       "      <td>2019-01-02</td>\n",
       "      <td>2019-01-02</td>\n",
       "      <td>2019-01-02</td>\n",
       "      <td>2019-01-02</td>\n",
       "      <td>2019-01-02</td>\n",
       "      <td>2019-01-02</td>\n",
       "      <td>2019-01-02</td>\n",
       "      <td>2019-01-02</td>\n",
       "      <td>2019-01-02</td>\n",
       "    </tr>\n",
       "    <tr>\n",
       "      <th>dia_semana</th>\n",
       "      <td>quarta-feira</td>\n",
       "      <td>terça-feira</td>\n",
       "      <td>quarta-feira</td>\n",
       "      <td>quarta-feira</td>\n",
       "      <td>quarta-feira</td>\n",
       "      <td>quarta-feira</td>\n",
       "      <td>terça-feira</td>\n",
       "      <td>quarta-feira</td>\n",
       "      <td>quarta-feira</td>\n",
       "      <td>quarta-feira</td>\n",
       "      <td>...</td>\n",
       "      <td>quarta-feira</td>\n",
       "      <td>quarta-feira</td>\n",
       "      <td>quarta-feira</td>\n",
       "      <td>quarta-feira</td>\n",
       "      <td>quarta-feira</td>\n",
       "      <td>quarta-feira</td>\n",
       "      <td>quarta-feira</td>\n",
       "      <td>quarta-feira</td>\n",
       "      <td>quarta-feira</td>\n",
       "      <td>quarta-feira</td>\n",
       "    </tr>\n",
       "    <tr>\n",
       "      <th>horario</th>\n",
       "      <td>07:50:00</td>\n",
       "      <td>16:42:00</td>\n",
       "      <td>08:05:00</td>\n",
       "      <td>07:35:00</td>\n",
       "      <td>08:20:00</td>\n",
       "      <td>08:00:00</td>\n",
       "      <td>19:00:00</td>\n",
       "      <td>07:30:00</td>\n",
       "      <td>08:50:00</td>\n",
       "      <td>09:10:00</td>\n",
       "      <td>...</td>\n",
       "      <td>17:15:00</td>\n",
       "      <td>16:00:00</td>\n",
       "      <td>16:40:00</td>\n",
       "      <td>16:30:00</td>\n",
       "      <td>18:45:00</td>\n",
       "      <td>18:45:00</td>\n",
       "      <td>18:00:00</td>\n",
       "      <td>16:30:00</td>\n",
       "      <td>16:40:00</td>\n",
       "      <td>19:30:00</td>\n",
       "    </tr>\n",
       "    <tr>\n",
       "      <th>uf</th>\n",
       "      <td>RS</td>\n",
       "      <td>BA</td>\n",
       "      <td>MG</td>\n",
       "      <td>RS</td>\n",
       "      <td>RS</td>\n",
       "      <td>MG</td>\n",
       "      <td>RJ</td>\n",
       "      <td>RS</td>\n",
       "      <td>MG</td>\n",
       "      <td>PR</td>\n",
       "      <td>...</td>\n",
       "      <td>SC</td>\n",
       "      <td>RJ</td>\n",
       "      <td>SP</td>\n",
       "      <td>PB</td>\n",
       "      <td>SP</td>\n",
       "      <td>MG</td>\n",
       "      <td>SC</td>\n",
       "      <td>RJ</td>\n",
       "      <td>PB</td>\n",
       "      <td>SC</td>\n",
       "    </tr>\n",
       "    <tr>\n",
       "      <th>br</th>\n",
       "      <td>158.0</td>\n",
       "      <td>116.0</td>\n",
       "      <td>381.0</td>\n",
       "      <td>386.0</td>\n",
       "      <td>116.0</td>\n",
       "      <td>40.0</td>\n",
       "      <td>493.0</td>\n",
       "      <td>290.0</td>\n",
       "      <td>262.0</td>\n",
       "      <td>376.0</td>\n",
       "      <td>...</td>\n",
       "      <td>101.0</td>\n",
       "      <td>40.0</td>\n",
       "      <td>116.0</td>\n",
       "      <td>104.0</td>\n",
       "      <td>116.0</td>\n",
       "      <td>381.0</td>\n",
       "      <td>101.0</td>\n",
       "      <td>101.0</td>\n",
       "      <td>230.0</td>\n",
       "      <td>280.0</td>\n",
       "    </tr>\n",
       "    <tr>\n",
       "      <th>km</th>\n",
       "      <td>333,7</td>\n",
       "      <td>675</td>\n",
       "      <td>775,1</td>\n",
       "      <td>365</td>\n",
       "      <td>295,4</td>\n",
       "      <td>42,2</td>\n",
       "      <td>81</td>\n",
       "      <td>41,1</td>\n",
       "      <td>101</td>\n",
       "      <td>176,4</td>\n",
       "      <td>...</td>\n",
       "      <td>35,7</td>\n",
       "      <td>116</td>\n",
       "      <td>417,2</td>\n",
       "      <td>100</td>\n",
       "      <td>285</td>\n",
       "      <td>528,3</td>\n",
       "      <td>147</td>\n",
       "      <td>46,9</td>\n",
       "      <td>396,4</td>\n",
       "      <td>21,3</td>\n",
       "    </tr>\n",
       "    <tr>\n",
       "      <th>municipio</th>\n",
       "      <td>SANTA MARIA</td>\n",
       "      <td>JEQUIE</td>\n",
       "      <td>CAMPANHA</td>\n",
       "      <td>FAZENDA VILANOVA</td>\n",
       "      <td>GUAIBA</td>\n",
       "      <td>PARACATU</td>\n",
       "      <td>JAPERI</td>\n",
       "      <td>SANTO ANTONIO DA PATRULHA</td>\n",
       "      <td>ABRE CAMPO</td>\n",
       "      <td>MARINGA</td>\n",
       "      <td>...</td>\n",
       "      <td>JOINVILLE</td>\n",
       "      <td>DUQUE DE CAXIAS</td>\n",
       "      <td>JUQUIA</td>\n",
       "      <td>SAO SEBASTIAO DE LAGOA DE  ROCA</td>\n",
       "      <td>ITAPECERICA DA SERRA</td>\n",
       "      <td>BRUMADINHO</td>\n",
       "      <td>ITAPEMA</td>\n",
       "      <td>CAMPOS DOS GOYTACAZES</td>\n",
       "      <td>SAO BENTINHO</td>\n",
       "      <td>ARAQUARI</td>\n",
       "    </tr>\n",
       "    <tr>\n",
       "      <th>causa_acidente</th>\n",
       "      <td>Falta de Atenção à Condução</td>\n",
       "      <td>Falta de Atenção do Pedestre</td>\n",
       "      <td>Falta de Atenção à Condução</td>\n",
       "      <td>Condutor Dormindo</td>\n",
       "      <td>Defeito na Via</td>\n",
       "      <td>Falta de Atenção à Condução</td>\n",
       "      <td>Falta de Atenção à Condução</td>\n",
       "      <td>Falta de Atenção à Condução</td>\n",
       "      <td>Defeito Mecânico no Veículo</td>\n",
       "      <td>Pista Escorregadia</td>\n",
       "      <td>...</td>\n",
       "      <td>Desobediência às normas de trânsito pelo condutor</td>\n",
       "      <td>Falta de Atenção à Condução</td>\n",
       "      <td>Falta de Atenção à Condução</td>\n",
       "      <td>Falta de Atenção à Condução</td>\n",
       "      <td>Falta de Atenção à Condução</td>\n",
       "      <td>Velocidade Incompatível</td>\n",
       "      <td>Falta de Atenção à Condução</td>\n",
       "      <td>Falta de Atenção à Condução</td>\n",
       "      <td>Mal Súbito</td>\n",
       "      <td>Falta de Atenção à Condução</td>\n",
       "    </tr>\n",
       "    <tr>\n",
       "      <th>tipo_acidente</th>\n",
       "      <td>Colisão transversal</td>\n",
       "      <td>Atropelamento de Pedestre</td>\n",
       "      <td>Saída de leito carroçável</td>\n",
       "      <td>Colisão traseira</td>\n",
       "      <td>Tombamento</td>\n",
       "      <td>Colisão transversal</td>\n",
       "      <td>Saída de leito carroçável</td>\n",
       "      <td>Colisão traseira</td>\n",
       "      <td>Incêndio</td>\n",
       "      <td>Queda de ocupante de veículo</td>\n",
       "      <td>...</td>\n",
       "      <td>Queda de ocupante de veículo</td>\n",
       "      <td>Capotamento</td>\n",
       "      <td>Colisão com objeto estático</td>\n",
       "      <td>Colisão traseira</td>\n",
       "      <td>Colisão traseira</td>\n",
       "      <td>Tombamento</td>\n",
       "      <td>Colisão transversal</td>\n",
       "      <td>Colisão transversal</td>\n",
       "      <td>Queda de ocupante de veículo</td>\n",
       "      <td>Colisão transversal</td>\n",
       "    </tr>\n",
       "    <tr>\n",
       "      <th>classificacao_acidente</th>\n",
       "      <td>Com Vítimas Feridas</td>\n",
       "      <td>Com Vítimas Feridas</td>\n",
       "      <td>Com Vítimas Feridas</td>\n",
       "      <td>Com Vítimas Feridas</td>\n",
       "      <td>Com Vítimas Feridas</td>\n",
       "      <td>Com Vítimas Feridas</td>\n",
       "      <td>Sem Vítimas</td>\n",
       "      <td>Com Vítimas Feridas</td>\n",
       "      <td>Sem Vítimas</td>\n",
       "      <td>Com Vítimas Feridas</td>\n",
       "      <td>...</td>\n",
       "      <td>Com Vítimas Feridas</td>\n",
       "      <td>Com Vítimas Feridas</td>\n",
       "      <td>Com Vítimas Feridas</td>\n",
       "      <td>Sem Vítimas</td>\n",
       "      <td>Com Vítimas Feridas</td>\n",
       "      <td>Com Vítimas Feridas</td>\n",
       "      <td>Com Vítimas Feridas</td>\n",
       "      <td>Com Vítimas Feridas</td>\n",
       "      <td>Com Vítimas Fatais</td>\n",
       "      <td>Com Vítimas Feridas</td>\n",
       "    </tr>\n",
       "    <tr>\n",
       "      <th>fase_dia</th>\n",
       "      <td>Pleno dia</td>\n",
       "      <td>Pleno dia</td>\n",
       "      <td>Pleno dia</td>\n",
       "      <td>Pleno dia</td>\n",
       "      <td>Pleno dia</td>\n",
       "      <td>Pleno dia</td>\n",
       "      <td>Anoitecer</td>\n",
       "      <td>Pleno dia</td>\n",
       "      <td>Pleno dia</td>\n",
       "      <td>Pleno dia</td>\n",
       "      <td>...</td>\n",
       "      <td>Pleno dia</td>\n",
       "      <td>Pleno dia</td>\n",
       "      <td>Pleno dia</td>\n",
       "      <td>Pleno dia</td>\n",
       "      <td>Pleno dia</td>\n",
       "      <td>Anoitecer</td>\n",
       "      <td>Pleno dia</td>\n",
       "      <td>Pleno dia</td>\n",
       "      <td>Pleno dia</td>\n",
       "      <td>Anoitecer</td>\n",
       "    </tr>\n",
       "    <tr>\n",
       "      <th>sentido_via</th>\n",
       "      <td>Crescente</td>\n",
       "      <td>Crescente</td>\n",
       "      <td>Decrescente</td>\n",
       "      <td>Decrescente</td>\n",
       "      <td>Crescente</td>\n",
       "      <td>Crescente</td>\n",
       "      <td>Crescente</td>\n",
       "      <td>Crescente</td>\n",
       "      <td>Decrescente</td>\n",
       "      <td>Crescente</td>\n",
       "      <td>...</td>\n",
       "      <td>Decrescente</td>\n",
       "      <td>Decrescente</td>\n",
       "      <td>Crescente</td>\n",
       "      <td>Decrescente</td>\n",
       "      <td>Decrescente</td>\n",
       "      <td>Crescente</td>\n",
       "      <td>Decrescente</td>\n",
       "      <td>Crescente</td>\n",
       "      <td>Crescente</td>\n",
       "      <td>Crescente</td>\n",
       "    </tr>\n",
       "    <tr>\n",
       "      <th>condicao_metereologica</th>\n",
       "      <td>Sol</td>\n",
       "      <td>Céu Claro</td>\n",
       "      <td>Sol</td>\n",
       "      <td>Céu Claro</td>\n",
       "      <td>Céu Claro</td>\n",
       "      <td>Céu Claro</td>\n",
       "      <td>Nublado</td>\n",
       "      <td>Céu Claro</td>\n",
       "      <td>Céu Claro</td>\n",
       "      <td>Nublado</td>\n",
       "      <td>...</td>\n",
       "      <td>Céu Claro</td>\n",
       "      <td>Céu Claro</td>\n",
       "      <td>Chuva</td>\n",
       "      <td>Sol</td>\n",
       "      <td>Sol</td>\n",
       "      <td>Chuva</td>\n",
       "      <td>Céu Claro</td>\n",
       "      <td>Céu Claro</td>\n",
       "      <td>Céu Claro</td>\n",
       "      <td>Céu Claro</td>\n",
       "    </tr>\n",
       "    <tr>\n",
       "      <th>tipo_pista</th>\n",
       "      <td>Simples</td>\n",
       "      <td>Simples</td>\n",
       "      <td>Dupla</td>\n",
       "      <td>Dupla</td>\n",
       "      <td>Dupla</td>\n",
       "      <td>Simples</td>\n",
       "      <td>Dupla</td>\n",
       "      <td>Dupla</td>\n",
       "      <td>Simples</td>\n",
       "      <td>Dupla</td>\n",
       "      <td>...</td>\n",
       "      <td>Dupla</td>\n",
       "      <td>Múltipla</td>\n",
       "      <td>Dupla</td>\n",
       "      <td>Simples</td>\n",
       "      <td>Dupla</td>\n",
       "      <td>Dupla</td>\n",
       "      <td>Dupla</td>\n",
       "      <td>Simples</td>\n",
       "      <td>Simples</td>\n",
       "      <td>Simples</td>\n",
       "    </tr>\n",
       "    <tr>\n",
       "      <th>tracado_via</th>\n",
       "      <td>Reta</td>\n",
       "      <td>Reta</td>\n",
       "      <td>Curva</td>\n",
       "      <td>Reta</td>\n",
       "      <td>Reta</td>\n",
       "      <td>Não Informado</td>\n",
       "      <td>Reta</td>\n",
       "      <td>Reta</td>\n",
       "      <td>Curva</td>\n",
       "      <td>Interseção de vias</td>\n",
       "      <td>...</td>\n",
       "      <td>Reta</td>\n",
       "      <td>Reta</td>\n",
       "      <td>Curva</td>\n",
       "      <td>Reta</td>\n",
       "      <td>Reta</td>\n",
       "      <td>Curva</td>\n",
       "      <td>Reta</td>\n",
       "      <td>Interseção de vias</td>\n",
       "      <td>Reta</td>\n",
       "      <td>Reta</td>\n",
       "    </tr>\n",
       "    <tr>\n",
       "      <th>uso_solo</th>\n",
       "      <td>Sim</td>\n",
       "      <td>Sim</td>\n",
       "      <td>Não</td>\n",
       "      <td>Não</td>\n",
       "      <td>Sim</td>\n",
       "      <td>Sim</td>\n",
       "      <td>Não</td>\n",
       "      <td>Não</td>\n",
       "      <td>Não</td>\n",
       "      <td>Sim</td>\n",
       "      <td>...</td>\n",
       "      <td>Não</td>\n",
       "      <td>Sim</td>\n",
       "      <td>Sim</td>\n",
       "      <td>Não</td>\n",
       "      <td>Sim</td>\n",
       "      <td>Não</td>\n",
       "      <td>Sim</td>\n",
       "      <td>Sim</td>\n",
       "      <td>Não</td>\n",
       "      <td>Não</td>\n",
       "    </tr>\n",
       "    <tr>\n",
       "      <th>pessoas</th>\n",
       "      <td>2</td>\n",
       "      <td>2</td>\n",
       "      <td>3</td>\n",
       "      <td>4</td>\n",
       "      <td>1</td>\n",
       "      <td>2</td>\n",
       "      <td>1</td>\n",
       "      <td>4</td>\n",
       "      <td>2</td>\n",
       "      <td>1</td>\n",
       "      <td>...</td>\n",
       "      <td>2</td>\n",
       "      <td>1</td>\n",
       "      <td>3</td>\n",
       "      <td>2</td>\n",
       "      <td>4</td>\n",
       "      <td>5</td>\n",
       "      <td>3</td>\n",
       "      <td>5</td>\n",
       "      <td>6</td>\n",
       "      <td>3</td>\n",
       "    </tr>\n",
       "    <tr>\n",
       "      <th>mortos</th>\n",
       "      <td>0</td>\n",
       "      <td>0</td>\n",
       "      <td>0</td>\n",
       "      <td>0</td>\n",
       "      <td>0</td>\n",
       "      <td>0</td>\n",
       "      <td>0</td>\n",
       "      <td>0</td>\n",
       "      <td>0</td>\n",
       "      <td>0</td>\n",
       "      <td>...</td>\n",
       "      <td>0</td>\n",
       "      <td>0</td>\n",
       "      <td>0</td>\n",
       "      <td>0</td>\n",
       "      <td>0</td>\n",
       "      <td>0</td>\n",
       "      <td>0</td>\n",
       "      <td>0</td>\n",
       "      <td>1</td>\n",
       "      <td>0</td>\n",
       "    </tr>\n",
       "    <tr>\n",
       "      <th>feridos_leves</th>\n",
       "      <td>2</td>\n",
       "      <td>1</td>\n",
       "      <td>1</td>\n",
       "      <td>3</td>\n",
       "      <td>1</td>\n",
       "      <td>1</td>\n",
       "      <td>0</td>\n",
       "      <td>1</td>\n",
       "      <td>0</td>\n",
       "      <td>1</td>\n",
       "      <td>...</td>\n",
       "      <td>2</td>\n",
       "      <td>1</td>\n",
       "      <td>2</td>\n",
       "      <td>0</td>\n",
       "      <td>1</td>\n",
       "      <td>1</td>\n",
       "      <td>2</td>\n",
       "      <td>3</td>\n",
       "      <td>0</td>\n",
       "      <td>0</td>\n",
       "    </tr>\n",
       "    <tr>\n",
       "      <th>feridos_graves</th>\n",
       "      <td>0</td>\n",
       "      <td>0</td>\n",
       "      <td>0</td>\n",
       "      <td>0</td>\n",
       "      <td>0</td>\n",
       "      <td>0</td>\n",
       "      <td>0</td>\n",
       "      <td>0</td>\n",
       "      <td>0</td>\n",
       "      <td>0</td>\n",
       "      <td>...</td>\n",
       "      <td>0</td>\n",
       "      <td>0</td>\n",
       "      <td>0</td>\n",
       "      <td>0</td>\n",
       "      <td>0</td>\n",
       "      <td>2</td>\n",
       "      <td>0</td>\n",
       "      <td>0</td>\n",
       "      <td>0</td>\n",
       "      <td>3</td>\n",
       "    </tr>\n",
       "    <tr>\n",
       "      <th>ilesos</th>\n",
       "      <td>0</td>\n",
       "      <td>1</td>\n",
       "      <td>2</td>\n",
       "      <td>1</td>\n",
       "      <td>0</td>\n",
       "      <td>1</td>\n",
       "      <td>0</td>\n",
       "      <td>3</td>\n",
       "      <td>2</td>\n",
       "      <td>0</td>\n",
       "      <td>...</td>\n",
       "      <td>0</td>\n",
       "      <td>0</td>\n",
       "      <td>1</td>\n",
       "      <td>2</td>\n",
       "      <td>3</td>\n",
       "      <td>2</td>\n",
       "      <td>1</td>\n",
       "      <td>2</td>\n",
       "      <td>5</td>\n",
       "      <td>0</td>\n",
       "    </tr>\n",
       "    <tr>\n",
       "      <th>ignorados</th>\n",
       "      <td>0</td>\n",
       "      <td>0</td>\n",
       "      <td>0</td>\n",
       "      <td>0</td>\n",
       "      <td>0</td>\n",
       "      <td>0</td>\n",
       "      <td>1</td>\n",
       "      <td>0</td>\n",
       "      <td>0</td>\n",
       "      <td>0</td>\n",
       "      <td>...</td>\n",
       "      <td>0</td>\n",
       "      <td>0</td>\n",
       "      <td>0</td>\n",
       "      <td>0</td>\n",
       "      <td>0</td>\n",
       "      <td>0</td>\n",
       "      <td>0</td>\n",
       "      <td>0</td>\n",
       "      <td>0</td>\n",
       "      <td>0</td>\n",
       "    </tr>\n",
       "    <tr>\n",
       "      <th>feridos</th>\n",
       "      <td>2</td>\n",
       "      <td>1</td>\n",
       "      <td>1</td>\n",
       "      <td>3</td>\n",
       "      <td>1</td>\n",
       "      <td>1</td>\n",
       "      <td>0</td>\n",
       "      <td>1</td>\n",
       "      <td>0</td>\n",
       "      <td>1</td>\n",
       "      <td>...</td>\n",
       "      <td>2</td>\n",
       "      <td>1</td>\n",
       "      <td>2</td>\n",
       "      <td>0</td>\n",
       "      <td>1</td>\n",
       "      <td>3</td>\n",
       "      <td>2</td>\n",
       "      <td>3</td>\n",
       "      <td>0</td>\n",
       "      <td>3</td>\n",
       "    </tr>\n",
       "    <tr>\n",
       "      <th>veiculos</th>\n",
       "      <td>2</td>\n",
       "      <td>1</td>\n",
       "      <td>1</td>\n",
       "      <td>2</td>\n",
       "      <td>1</td>\n",
       "      <td>2</td>\n",
       "      <td>1</td>\n",
       "      <td>3</td>\n",
       "      <td>1</td>\n",
       "      <td>1</td>\n",
       "      <td>...</td>\n",
       "      <td>1</td>\n",
       "      <td>1</td>\n",
       "      <td>1</td>\n",
       "      <td>2</td>\n",
       "      <td>3</td>\n",
       "      <td>3</td>\n",
       "      <td>2</td>\n",
       "      <td>2</td>\n",
       "      <td>1</td>\n",
       "      <td>2</td>\n",
       "    </tr>\n",
       "    <tr>\n",
       "      <th>latitude</th>\n",
       "      <td>-29,708469</td>\n",
       "      <td>-13,87074672</td>\n",
       "      <td>-21,7953</td>\n",
       "      <td>-29,570097</td>\n",
       "      <td>-30,07971</td>\n",
       "      <td>-17,218784</td>\n",
       "      <td>-22,66203175</td>\n",
       "      <td>-29,886173</td>\n",
       "      <td>-20,289152</td>\n",
       "      <td>-23,41115363</td>\n",
       "      <td>...</td>\n",
       "      <td>-26,2766</td>\n",
       "      <td>-22,7468</td>\n",
       "      <td>-24,34834778</td>\n",
       "      <td>-7,045145</td>\n",
       "      <td>-23,6891079</td>\n",
       "      <td>-20,1634</td>\n",
       "      <td>-27,1012</td>\n",
       "      <td>-21,60639025</td>\n",
       "      <td>-6,841532</td>\n",
       "      <td>-26,370432</td>\n",
       "    </tr>\n",
       "    <tr>\n",
       "      <th>longitude</th>\n",
       "      <td>-53,864265</td>\n",
       "      <td>-40,09082794</td>\n",
       "      <td>-45,453</td>\n",
       "      <td>-51,865437</td>\n",
       "      <td>-51,341549</td>\n",
       "      <td>-46,866695</td>\n",
       "      <td>-43,62436473</td>\n",
       "      <td>-50,658577</td>\n",
       "      <td>-42,523285</td>\n",
       "      <td>-51,93649292</td>\n",
       "      <td>...</td>\n",
       "      <td>-48,8928</td>\n",
       "      <td>-43,2878</td>\n",
       "      <td>-47,65100956</td>\n",
       "      <td>-35,857178</td>\n",
       "      <td>-46,86172128</td>\n",
       "      <td>-44,3399</td>\n",
       "      <td>-48,618</td>\n",
       "      <td>-41,31675839</td>\n",
       "      <td>-37,749267</td>\n",
       "      <td>-48,692196</td>\n",
       "    </tr>\n",
       "    <tr>\n",
       "      <th>regional</th>\n",
       "      <td>SR-RS</td>\n",
       "      <td>SR-BA</td>\n",
       "      <td>SR-MG</td>\n",
       "      <td>SR-RS</td>\n",
       "      <td>SR-RS</td>\n",
       "      <td>SR-MG</td>\n",
       "      <td>SR-RJ</td>\n",
       "      <td>SR-RS</td>\n",
       "      <td>SR-MG</td>\n",
       "      <td>SR-PR</td>\n",
       "      <td>...</td>\n",
       "      <td>SR-SC</td>\n",
       "      <td>SR-RJ</td>\n",
       "      <td>SR-SP</td>\n",
       "      <td>SR-PB</td>\n",
       "      <td>SR-SP</td>\n",
       "      <td>SR-MG</td>\n",
       "      <td>SR-SC</td>\n",
       "      <td>SR-RJ</td>\n",
       "      <td>SR-PB</td>\n",
       "      <td>SR-SC</td>\n",
       "    </tr>\n",
       "    <tr>\n",
       "      <th>delegacia</th>\n",
       "      <td>DEL9/9</td>\n",
       "      <td>DEL10/3</td>\n",
       "      <td>DEL09</td>\n",
       "      <td>DEL9/4</td>\n",
       "      <td>DEL9/2</td>\n",
       "      <td>DEL4/14</td>\n",
       "      <td>DEL5/1</td>\n",
       "      <td>DEL9/3</td>\n",
       "      <td>DEL4/3</td>\n",
       "      <td>DEL7/7</td>\n",
       "      <td>...</td>\n",
       "      <td>DEL8/3</td>\n",
       "      <td>DEL5/1</td>\n",
       "      <td>DEL6/5</td>\n",
       "      <td>DEL14/2</td>\n",
       "      <td>DEL6/4</td>\n",
       "      <td>DEL4/4</td>\n",
       "      <td>DEL8/4</td>\n",
       "      <td>DEL5/8</td>\n",
       "      <td>DEL14/3</td>\n",
       "      <td>DEL8/3</td>\n",
       "    </tr>\n",
       "    <tr>\n",
       "      <th>uop</th>\n",
       "      <td>n/a</td>\n",
       "      <td>n/a</td>\n",
       "      <td>n/a</td>\n",
       "      <td>n/a</td>\n",
       "      <td>n/a</td>\n",
       "      <td>n/a</td>\n",
       "      <td>n/a</td>\n",
       "      <td>n/a</td>\n",
       "      <td>n/a</td>\n",
       "      <td>n/a</td>\n",
       "      <td>...</td>\n",
       "      <td>n/a</td>\n",
       "      <td>n/a</td>\n",
       "      <td>n/a</td>\n",
       "      <td>n/a</td>\n",
       "      <td>n/a</td>\n",
       "      <td>n/a</td>\n",
       "      <td>n/a</td>\n",
       "      <td>n/a</td>\n",
       "      <td>n/a</td>\n",
       "      <td>n/a</td>\n",
       "    </tr>\n",
       "  </tbody>\n",
       "</table>\n",
       "<p>30 rows × 100 columns</p>\n",
       "</div>"
      ],
      "text/plain": [
       "                                                200  \\\n",
       "id                                         182448.0   \n",
       "data_inversa                             2019-01-02   \n",
       "dia_semana                             quarta-feira   \n",
       "horario                                    07:50:00   \n",
       "uf                                               RS   \n",
       "br                                            158.0   \n",
       "km                                            333,7   \n",
       "municipio                               SANTA MARIA   \n",
       "causa_acidente          Falta de Atenção à Condução   \n",
       "tipo_acidente                   Colisão transversal   \n",
       "classificacao_acidente          Com Vítimas Feridas   \n",
       "fase_dia                                  Pleno dia   \n",
       "sentido_via                               Crescente   \n",
       "condicao_metereologica                          Sol   \n",
       "tipo_pista                                  Simples   \n",
       "tracado_via                                    Reta   \n",
       "uso_solo                                        Sim   \n",
       "pessoas                                           2   \n",
       "mortos                                            0   \n",
       "feridos_leves                                     2   \n",
       "feridos_graves                                    0   \n",
       "ilesos                                            0   \n",
       "ignorados                                         0   \n",
       "feridos                                           2   \n",
       "veiculos                                          2   \n",
       "latitude                                 -29,708469   \n",
       "longitude                                -53,864265   \n",
       "regional                                      SR-RS   \n",
       "delegacia                                    DEL9/9   \n",
       "uop                                             n/a   \n",
       "\n",
       "                                                 201  \\\n",
       "id                                          182449.0   \n",
       "data_inversa                              2019-01-01   \n",
       "dia_semana                               terça-feira   \n",
       "horario                                     16:42:00   \n",
       "uf                                                BA   \n",
       "br                                             116.0   \n",
       "km                                               675   \n",
       "municipio                                     JEQUIE   \n",
       "causa_acidente          Falta de Atenção do Pedestre   \n",
       "tipo_acidente              Atropelamento de Pedestre   \n",
       "classificacao_acidente           Com Vítimas Feridas   \n",
       "fase_dia                                   Pleno dia   \n",
       "sentido_via                                Crescente   \n",
       "condicao_metereologica                     Céu Claro   \n",
       "tipo_pista                                   Simples   \n",
       "tracado_via                                     Reta   \n",
       "uso_solo                                         Sim   \n",
       "pessoas                                            2   \n",
       "mortos                                             0   \n",
       "feridos_leves                                      1   \n",
       "feridos_graves                                     0   \n",
       "ilesos                                             1   \n",
       "ignorados                                          0   \n",
       "feridos                                            1   \n",
       "veiculos                                           1   \n",
       "latitude                                -13,87074672   \n",
       "longitude                               -40,09082794   \n",
       "regional                                       SR-BA   \n",
       "delegacia                                    DEL10/3   \n",
       "uop                                              n/a   \n",
       "\n",
       "                                                202                  203  \\\n",
       "id                                         182450.0             182451.0   \n",
       "data_inversa                             2019-01-02           2019-01-02   \n",
       "dia_semana                             quarta-feira         quarta-feira   \n",
       "horario                                    08:05:00             07:35:00   \n",
       "uf                                               MG                   RS   \n",
       "br                                            381.0                386.0   \n",
       "km                                            775,1                  365   \n",
       "municipio                                  CAMPANHA     FAZENDA VILANOVA   \n",
       "causa_acidente          Falta de Atenção à Condução    Condutor Dormindo   \n",
       "tipo_acidente             Saída de leito carroçável     Colisão traseira   \n",
       "classificacao_acidente          Com Vítimas Feridas  Com Vítimas Feridas   \n",
       "fase_dia                                  Pleno dia            Pleno dia   \n",
       "sentido_via                             Decrescente          Decrescente   \n",
       "condicao_metereologica                          Sol            Céu Claro   \n",
       "tipo_pista                                    Dupla                Dupla   \n",
       "tracado_via                                   Curva                 Reta   \n",
       "uso_solo                                        Não                  Não   \n",
       "pessoas                                           3                    4   \n",
       "mortos                                            0                    0   \n",
       "feridos_leves                                     1                    3   \n",
       "feridos_graves                                    0                    0   \n",
       "ilesos                                            2                    1   \n",
       "ignorados                                         0                    0   \n",
       "feridos                                           1                    3   \n",
       "veiculos                                          1                    2   \n",
       "latitude                                   -21,7953           -29,570097   \n",
       "longitude                                   -45,453           -51,865437   \n",
       "regional                                      SR-MG                SR-RS   \n",
       "delegacia                                     DEL09               DEL9/4   \n",
       "uop                                             n/a                  n/a   \n",
       "\n",
       "                                        204                          205  \\\n",
       "id                                 182452.0                     182455.0   \n",
       "data_inversa                     2019-01-02                   2019-01-02   \n",
       "dia_semana                     quarta-feira                 quarta-feira   \n",
       "horario                            08:20:00                     08:00:00   \n",
       "uf                                       RS                           MG   \n",
       "br                                    116.0                         40.0   \n",
       "km                                    295,4                         42,2   \n",
       "municipio                            GUAIBA                     PARACATU   \n",
       "causa_acidente               Defeito na Via  Falta de Atenção à Condução   \n",
       "tipo_acidente                    Tombamento          Colisão transversal   \n",
       "classificacao_acidente  Com Vítimas Feridas          Com Vítimas Feridas   \n",
       "fase_dia                          Pleno dia                    Pleno dia   \n",
       "sentido_via                       Crescente                    Crescente   \n",
       "condicao_metereologica            Céu Claro                    Céu Claro   \n",
       "tipo_pista                            Dupla                      Simples   \n",
       "tracado_via                            Reta                Não Informado   \n",
       "uso_solo                                Sim                          Sim   \n",
       "pessoas                                   1                            2   \n",
       "mortos                                    0                            0   \n",
       "feridos_leves                             1                            1   \n",
       "feridos_graves                            0                            0   \n",
       "ilesos                                    0                            1   \n",
       "ignorados                                 0                            0   \n",
       "feridos                                   1                            1   \n",
       "veiculos                                  1                            2   \n",
       "latitude                          -30,07971                   -17,218784   \n",
       "longitude                        -51,341549                   -46,866695   \n",
       "regional                              SR-RS                        SR-MG   \n",
       "delegacia                            DEL9/2                      DEL4/14   \n",
       "uop                                     n/a                          n/a   \n",
       "\n",
       "                                                206  \\\n",
       "id                                         182457.0   \n",
       "data_inversa                             2019-01-01   \n",
       "dia_semana                              terça-feira   \n",
       "horario                                    19:00:00   \n",
       "uf                                               RJ   \n",
       "br                                            493.0   \n",
       "km                                               81   \n",
       "municipio                                    JAPERI   \n",
       "causa_acidente          Falta de Atenção à Condução   \n",
       "tipo_acidente             Saída de leito carroçável   \n",
       "classificacao_acidente                  Sem Vítimas   \n",
       "fase_dia                                  Anoitecer   \n",
       "sentido_via                               Crescente   \n",
       "condicao_metereologica                      Nublado   \n",
       "tipo_pista                                    Dupla   \n",
       "tracado_via                                    Reta   \n",
       "uso_solo                                        Não   \n",
       "pessoas                                           1   \n",
       "mortos                                            0   \n",
       "feridos_leves                                     0   \n",
       "feridos_graves                                    0   \n",
       "ilesos                                            0   \n",
       "ignorados                                         1   \n",
       "feridos                                           0   \n",
       "veiculos                                          1   \n",
       "latitude                               -22,66203175   \n",
       "longitude                              -43,62436473   \n",
       "regional                                      SR-RJ   \n",
       "delegacia                                    DEL5/1   \n",
       "uop                                             n/a   \n",
       "\n",
       "                                                207  \\\n",
       "id                                         182458.0   \n",
       "data_inversa                             2019-01-02   \n",
       "dia_semana                             quarta-feira   \n",
       "horario                                    07:30:00   \n",
       "uf                                               RS   \n",
       "br                                            290.0   \n",
       "km                                             41,1   \n",
       "municipio                 SANTO ANTONIO DA PATRULHA   \n",
       "causa_acidente          Falta de Atenção à Condução   \n",
       "tipo_acidente                      Colisão traseira   \n",
       "classificacao_acidente          Com Vítimas Feridas   \n",
       "fase_dia                                  Pleno dia   \n",
       "sentido_via                               Crescente   \n",
       "condicao_metereologica                    Céu Claro   \n",
       "tipo_pista                                    Dupla   \n",
       "tracado_via                                    Reta   \n",
       "uso_solo                                        Não   \n",
       "pessoas                                           4   \n",
       "mortos                                            0   \n",
       "feridos_leves                                     1   \n",
       "feridos_graves                                    0   \n",
       "ilesos                                            3   \n",
       "ignorados                                         0   \n",
       "feridos                                           1   \n",
       "veiculos                                          3   \n",
       "latitude                                 -29,886173   \n",
       "longitude                                -50,658577   \n",
       "regional                                      SR-RS   \n",
       "delegacia                                    DEL9/3   \n",
       "uop                                             n/a   \n",
       "\n",
       "                                                208  \\\n",
       "id                                         182459.0   \n",
       "data_inversa                             2019-01-02   \n",
       "dia_semana                             quarta-feira   \n",
       "horario                                    08:50:00   \n",
       "uf                                               MG   \n",
       "br                                            262.0   \n",
       "km                                              101   \n",
       "municipio                                ABRE CAMPO   \n",
       "causa_acidente          Defeito Mecânico no Veículo   \n",
       "tipo_acidente                              Incêndio   \n",
       "classificacao_acidente                  Sem Vítimas   \n",
       "fase_dia                                  Pleno dia   \n",
       "sentido_via                             Decrescente   \n",
       "condicao_metereologica                    Céu Claro   \n",
       "tipo_pista                                  Simples   \n",
       "tracado_via                                   Curva   \n",
       "uso_solo                                        Não   \n",
       "pessoas                                           2   \n",
       "mortos                                            0   \n",
       "feridos_leves                                     0   \n",
       "feridos_graves                                    0   \n",
       "ilesos                                            2   \n",
       "ignorados                                         0   \n",
       "feridos                                           0   \n",
       "veiculos                                          1   \n",
       "latitude                                 -20,289152   \n",
       "longitude                                -42,523285   \n",
       "regional                                      SR-MG   \n",
       "delegacia                                    DEL4/3   \n",
       "uop                                             n/a   \n",
       "\n",
       "                                                 209  ...  \\\n",
       "id                                          182460.0  ...   \n",
       "data_inversa                              2019-01-02  ...   \n",
       "dia_semana                              quarta-feira  ...   \n",
       "horario                                     09:10:00  ...   \n",
       "uf                                                PR  ...   \n",
       "br                                             376.0  ...   \n",
       "km                                             176,4  ...   \n",
       "municipio                                    MARINGA  ...   \n",
       "causa_acidente                    Pista Escorregadia  ...   \n",
       "tipo_acidente           Queda de ocupante de veículo  ...   \n",
       "classificacao_acidente           Com Vítimas Feridas  ...   \n",
       "fase_dia                                   Pleno dia  ...   \n",
       "sentido_via                                Crescente  ...   \n",
       "condicao_metereologica                       Nublado  ...   \n",
       "tipo_pista                                     Dupla  ...   \n",
       "tracado_via                       Interseção de vias  ...   \n",
       "uso_solo                                         Sim  ...   \n",
       "pessoas                                            1  ...   \n",
       "mortos                                             0  ...   \n",
       "feridos_leves                                      1  ...   \n",
       "feridos_graves                                     0  ...   \n",
       "ilesos                                             0  ...   \n",
       "ignorados                                          0  ...   \n",
       "feridos                                            1  ...   \n",
       "veiculos                                           1  ...   \n",
       "latitude                                -23,41115363  ...   \n",
       "longitude                               -51,93649292  ...   \n",
       "regional                                       SR-PR  ...   \n",
       "delegacia                                     DEL7/7  ...   \n",
       "uop                                              n/a  ...   \n",
       "\n",
       "                                                                      290  \\\n",
       "id                                                               182573.0   \n",
       "data_inversa                                                   2019-01-02   \n",
       "dia_semana                                                   quarta-feira   \n",
       "horario                                                          17:15:00   \n",
       "uf                                                                     SC   \n",
       "br                                                                  101.0   \n",
       "km                                                                   35,7   \n",
       "municipio                                                       JOINVILLE   \n",
       "causa_acidente          Desobediência às normas de trânsito pelo condutor   \n",
       "tipo_acidente                                Queda de ocupante de veículo   \n",
       "classificacao_acidente                                Com Vítimas Feridas   \n",
       "fase_dia                                                        Pleno dia   \n",
       "sentido_via                                                   Decrescente   \n",
       "condicao_metereologica                                          Céu Claro   \n",
       "tipo_pista                                                          Dupla   \n",
       "tracado_via                                                          Reta   \n",
       "uso_solo                                                              Não   \n",
       "pessoas                                                                 2   \n",
       "mortos                                                                  0   \n",
       "feridos_leves                                                           2   \n",
       "feridos_graves                                                          0   \n",
       "ilesos                                                                  0   \n",
       "ignorados                                                               0   \n",
       "feridos                                                                 2   \n",
       "veiculos                                                                1   \n",
       "latitude                                                         -26,2766   \n",
       "longitude                                                        -48,8928   \n",
       "regional                                                            SR-SC   \n",
       "delegacia                                                          DEL8/3   \n",
       "uop                                                                   n/a   \n",
       "\n",
       "                                                291  \\\n",
       "id                                         182575.0   \n",
       "data_inversa                             2019-01-02   \n",
       "dia_semana                             quarta-feira   \n",
       "horario                                    16:00:00   \n",
       "uf                                               RJ   \n",
       "br                                             40.0   \n",
       "km                                              116   \n",
       "municipio                           DUQUE DE CAXIAS   \n",
       "causa_acidente          Falta de Atenção à Condução   \n",
       "tipo_acidente                           Capotamento   \n",
       "classificacao_acidente          Com Vítimas Feridas   \n",
       "fase_dia                                  Pleno dia   \n",
       "sentido_via                             Decrescente   \n",
       "condicao_metereologica                    Céu Claro   \n",
       "tipo_pista                                 Múltipla   \n",
       "tracado_via                                    Reta   \n",
       "uso_solo                                        Sim   \n",
       "pessoas                                           1   \n",
       "mortos                                            0   \n",
       "feridos_leves                                     1   \n",
       "feridos_graves                                    0   \n",
       "ilesos                                            0   \n",
       "ignorados                                         0   \n",
       "feridos                                           1   \n",
       "veiculos                                          1   \n",
       "latitude                                   -22,7468   \n",
       "longitude                                  -43,2878   \n",
       "regional                                      SR-RJ   \n",
       "delegacia                                    DEL5/1   \n",
       "uop                                             n/a   \n",
       "\n",
       "                                                292  \\\n",
       "id                                         182576.0   \n",
       "data_inversa                             2019-01-02   \n",
       "dia_semana                             quarta-feira   \n",
       "horario                                    16:40:00   \n",
       "uf                                               SP   \n",
       "br                                            116.0   \n",
       "km                                            417,2   \n",
       "municipio                                    JUQUIA   \n",
       "causa_acidente          Falta de Atenção à Condução   \n",
       "tipo_acidente           Colisão com objeto estático   \n",
       "classificacao_acidente          Com Vítimas Feridas   \n",
       "fase_dia                                  Pleno dia   \n",
       "sentido_via                               Crescente   \n",
       "condicao_metereologica                        Chuva   \n",
       "tipo_pista                                    Dupla   \n",
       "tracado_via                                   Curva   \n",
       "uso_solo                                        Sim   \n",
       "pessoas                                           3   \n",
       "mortos                                            0   \n",
       "feridos_leves                                     2   \n",
       "feridos_graves                                    0   \n",
       "ilesos                                            1   \n",
       "ignorados                                         0   \n",
       "feridos                                           2   \n",
       "veiculos                                          1   \n",
       "latitude                               -24,34834778   \n",
       "longitude                              -47,65100956   \n",
       "regional                                      SR-SP   \n",
       "delegacia                                    DEL6/5   \n",
       "uop                                             n/a   \n",
       "\n",
       "                                                    293  \\\n",
       "id                                             182577.0   \n",
       "data_inversa                                 2019-01-02   \n",
       "dia_semana                                 quarta-feira   \n",
       "horario                                        16:30:00   \n",
       "uf                                                   PB   \n",
       "br                                                104.0   \n",
       "km                                                  100   \n",
       "municipio               SAO SEBASTIAO DE LAGOA DE  ROCA   \n",
       "causa_acidente              Falta de Atenção à Condução   \n",
       "tipo_acidente                          Colisão traseira   \n",
       "classificacao_acidente                      Sem Vítimas   \n",
       "fase_dia                                      Pleno dia   \n",
       "sentido_via                                 Decrescente   \n",
       "condicao_metereologica                              Sol   \n",
       "tipo_pista                                      Simples   \n",
       "tracado_via                                        Reta   \n",
       "uso_solo                                            Não   \n",
       "pessoas                                               2   \n",
       "mortos                                                0   \n",
       "feridos_leves                                         0   \n",
       "feridos_graves                                        0   \n",
       "ilesos                                                2   \n",
       "ignorados                                             0   \n",
       "feridos                                               0   \n",
       "veiculos                                              2   \n",
       "latitude                                      -7,045145   \n",
       "longitude                                    -35,857178   \n",
       "regional                                          SR-PB   \n",
       "delegacia                                       DEL14/2   \n",
       "uop                                                 n/a   \n",
       "\n",
       "                                                294                      295  \\\n",
       "id                                         182578.0                 182579.0   \n",
       "data_inversa                             2019-01-02               2019-01-02   \n",
       "dia_semana                             quarta-feira             quarta-feira   \n",
       "horario                                    18:45:00                 18:45:00   \n",
       "uf                                               SP                       MG   \n",
       "br                                            116.0                    381.0   \n",
       "km                                              285                    528,3   \n",
       "municipio                      ITAPECERICA DA SERRA               BRUMADINHO   \n",
       "causa_acidente          Falta de Atenção à Condução  Velocidade Incompatível   \n",
       "tipo_acidente                      Colisão traseira               Tombamento   \n",
       "classificacao_acidente          Com Vítimas Feridas      Com Vítimas Feridas   \n",
       "fase_dia                                  Pleno dia                Anoitecer   \n",
       "sentido_via                             Decrescente                Crescente   \n",
       "condicao_metereologica                          Sol                    Chuva   \n",
       "tipo_pista                                    Dupla                    Dupla   \n",
       "tracado_via                                    Reta                    Curva   \n",
       "uso_solo                                        Sim                      Não   \n",
       "pessoas                                           4                        5   \n",
       "mortos                                            0                        0   \n",
       "feridos_leves                                     1                        1   \n",
       "feridos_graves                                    0                        2   \n",
       "ilesos                                            3                        2   \n",
       "ignorados                                         0                        0   \n",
       "feridos                                           1                        3   \n",
       "veiculos                                          3                        3   \n",
       "latitude                                -23,6891079                 -20,1634   \n",
       "longitude                              -46,86172128                 -44,3399   \n",
       "regional                                      SR-SP                    SR-MG   \n",
       "delegacia                                    DEL6/4                   DEL4/4   \n",
       "uop                                             n/a                      n/a   \n",
       "\n",
       "                                                296  \\\n",
       "id                                         182580.0   \n",
       "data_inversa                             2019-01-02   \n",
       "dia_semana                             quarta-feira   \n",
       "horario                                    18:00:00   \n",
       "uf                                               SC   \n",
       "br                                            101.0   \n",
       "km                                              147   \n",
       "municipio                                   ITAPEMA   \n",
       "causa_acidente          Falta de Atenção à Condução   \n",
       "tipo_acidente                   Colisão transversal   \n",
       "classificacao_acidente          Com Vítimas Feridas   \n",
       "fase_dia                                  Pleno dia   \n",
       "sentido_via                             Decrescente   \n",
       "condicao_metereologica                    Céu Claro   \n",
       "tipo_pista                                    Dupla   \n",
       "tracado_via                                    Reta   \n",
       "uso_solo                                        Sim   \n",
       "pessoas                                           3   \n",
       "mortos                                            0   \n",
       "feridos_leves                                     2   \n",
       "feridos_graves                                    0   \n",
       "ilesos                                            1   \n",
       "ignorados                                         0   \n",
       "feridos                                           2   \n",
       "veiculos                                          2   \n",
       "latitude                                   -27,1012   \n",
       "longitude                                   -48,618   \n",
       "regional                                      SR-SC   \n",
       "delegacia                                    DEL8/4   \n",
       "uop                                             n/a   \n",
       "\n",
       "                                                297  \\\n",
       "id                                         182581.0   \n",
       "data_inversa                             2019-01-02   \n",
       "dia_semana                             quarta-feira   \n",
       "horario                                    16:30:00   \n",
       "uf                                               RJ   \n",
       "br                                            101.0   \n",
       "km                                             46,9   \n",
       "municipio                     CAMPOS DOS GOYTACAZES   \n",
       "causa_acidente          Falta de Atenção à Condução   \n",
       "tipo_acidente                   Colisão transversal   \n",
       "classificacao_acidente          Com Vítimas Feridas   \n",
       "fase_dia                                  Pleno dia   \n",
       "sentido_via                               Crescente   \n",
       "condicao_metereologica                    Céu Claro   \n",
       "tipo_pista                                  Simples   \n",
       "tracado_via                      Interseção de vias   \n",
       "uso_solo                                        Sim   \n",
       "pessoas                                           5   \n",
       "mortos                                            0   \n",
       "feridos_leves                                     3   \n",
       "feridos_graves                                    0   \n",
       "ilesos                                            2   \n",
       "ignorados                                         0   \n",
       "feridos                                           3   \n",
       "veiculos                                          2   \n",
       "latitude                               -21,60639025   \n",
       "longitude                              -41,31675839   \n",
       "regional                                      SR-RJ   \n",
       "delegacia                                    DEL5/8   \n",
       "uop                                             n/a   \n",
       "\n",
       "                                                 298  \\\n",
       "id                                          182583.0   \n",
       "data_inversa                              2019-01-02   \n",
       "dia_semana                              quarta-feira   \n",
       "horario                                     16:40:00   \n",
       "uf                                                PB   \n",
       "br                                             230.0   \n",
       "km                                             396,4   \n",
       "municipio                               SAO BENTINHO   \n",
       "causa_acidente                            Mal Súbito   \n",
       "tipo_acidente           Queda de ocupante de veículo   \n",
       "classificacao_acidente            Com Vítimas Fatais   \n",
       "fase_dia                                   Pleno dia   \n",
       "sentido_via                                Crescente   \n",
       "condicao_metereologica                     Céu Claro   \n",
       "tipo_pista                                   Simples   \n",
       "tracado_via                                     Reta   \n",
       "uso_solo                                         Não   \n",
       "pessoas                                            6   \n",
       "mortos                                             1   \n",
       "feridos_leves                                      0   \n",
       "feridos_graves                                     0   \n",
       "ilesos                                             5   \n",
       "ignorados                                          0   \n",
       "feridos                                            0   \n",
       "veiculos                                           1   \n",
       "latitude                                   -6,841532   \n",
       "longitude                                 -37,749267   \n",
       "regional                                       SR-PB   \n",
       "delegacia                                    DEL14/3   \n",
       "uop                                              n/a   \n",
       "\n",
       "                                                299  \n",
       "id                                         182584.0  \n",
       "data_inversa                             2019-01-02  \n",
       "dia_semana                             quarta-feira  \n",
       "horario                                    19:30:00  \n",
       "uf                                               SC  \n",
       "br                                            280.0  \n",
       "km                                             21,3  \n",
       "municipio                                  ARAQUARI  \n",
       "causa_acidente          Falta de Atenção à Condução  \n",
       "tipo_acidente                   Colisão transversal  \n",
       "classificacao_acidente          Com Vítimas Feridas  \n",
       "fase_dia                                  Anoitecer  \n",
       "sentido_via                               Crescente  \n",
       "condicao_metereologica                    Céu Claro  \n",
       "tipo_pista                                  Simples  \n",
       "tracado_via                                    Reta  \n",
       "uso_solo                                        Não  \n",
       "pessoas                                           3  \n",
       "mortos                                            0  \n",
       "feridos_leves                                     0  \n",
       "feridos_graves                                    3  \n",
       "ilesos                                            0  \n",
       "ignorados                                         0  \n",
       "feridos                                           3  \n",
       "veiculos                                          2  \n",
       "latitude                                 -26,370432  \n",
       "longitude                                -48,692196  \n",
       "regional                                      SR-SC  \n",
       "delegacia                                    DEL8/3  \n",
       "uop                                             n/a  \n",
       "\n",
       "[30 rows x 100 columns]"
      ]
     },
     "execution_count": 16,
     "metadata": {},
     "output_type": "execute_result"
    }
   ],
   "source": [
    "#Alternar colunas e linhas - outra visualização da base\n",
    "#Exibe as linhas solicitadas:\n",
    "\n",
    "dados[200:300].T"
   ]
  },
  {
   "cell_type": "code",
   "execution_count": 17,
   "id": "3cddcb93",
   "metadata": {},
   "outputs": [
    {
     "data": {
      "text/html": [
       "<div>\n",
       "<style scoped>\n",
       "    .dataframe tbody tr th:only-of-type {\n",
       "        vertical-align: middle;\n",
       "    }\n",
       "\n",
       "    .dataframe tbody tr th {\n",
       "        vertical-align: top;\n",
       "    }\n",
       "\n",
       "    .dataframe thead th {\n",
       "        text-align: right;\n",
       "    }\n",
       "</style>\n",
       "<table border=\"1\" class=\"dataframe\">\n",
       "  <thead>\n",
       "    <tr style=\"text-align: right;\">\n",
       "      <th></th>\n",
       "      <th>uf</th>\n",
       "      <th>br</th>\n",
       "      <th>causa_acidente</th>\n",
       "      <th>classificacao_acidente</th>\n",
       "      <th>condicao_metereologica</th>\n",
       "      <th>mortos</th>\n",
       "      <th>feridos_leves</th>\n",
       "      <th>feridos_graves</th>\n",
       "      <th>latitude</th>\n",
       "      <th>longitude</th>\n",
       "    </tr>\n",
       "  </thead>\n",
       "  <tbody>\n",
       "    <tr>\n",
       "      <th>0</th>\n",
       "      <td>SP</td>\n",
       "      <td>116.0</td>\n",
       "      <td>Falta de Atenção à Condução</td>\n",
       "      <td>Com Vítimas Feridas</td>\n",
       "      <td>Céu Claro</td>\n",
       "      <td>0</td>\n",
       "      <td>4</td>\n",
       "      <td>0</td>\n",
       "      <td>-23,46052014</td>\n",
       "      <td>-46,48772478</td>\n",
       "    </tr>\n",
       "    <tr>\n",
       "      <th>1</th>\n",
       "      <td>PR</td>\n",
       "      <td>373.0</td>\n",
       "      <td>Falta de Atenção à Condução</td>\n",
       "      <td>Com Vítimas Feridas</td>\n",
       "      <td>Nublado</td>\n",
       "      <td>0</td>\n",
       "      <td>1</td>\n",
       "      <td>0</td>\n",
       "      <td>-25,05533957</td>\n",
       "      <td>-50,22776753</td>\n",
       "    </tr>\n",
       "    <tr>\n",
       "      <th>2</th>\n",
       "      <td>SC</td>\n",
       "      <td>101.0</td>\n",
       "      <td>Animais na Pista</td>\n",
       "      <td>Com Vítimas Feridas</td>\n",
       "      <td>Céu Claro</td>\n",
       "      <td>0</td>\n",
       "      <td>1</td>\n",
       "      <td>0</td>\n",
       "      <td>-26,1216</td>\n",
       "      <td>-48,8826</td>\n",
       "    </tr>\n",
       "    <tr>\n",
       "      <th>3</th>\n",
       "      <td>CE</td>\n",
       "      <td>20.0</td>\n",
       "      <td>Ingestão de Substâncias Psicoativas</td>\n",
       "      <td>Com Vítimas Feridas</td>\n",
       "      <td>Nublado</td>\n",
       "      <td>0</td>\n",
       "      <td>0</td>\n",
       "      <td>1</td>\n",
       "      <td>-3,76999</td>\n",
       "      <td>-38,670063</td>\n",
       "    </tr>\n",
       "    <tr>\n",
       "      <th>4</th>\n",
       "      <td>MG</td>\n",
       "      <td>381.0</td>\n",
       "      <td>Falta de Atenção à Condução</td>\n",
       "      <td>Com Vítimas Feridas</td>\n",
       "      <td>Nublado</td>\n",
       "      <td>0</td>\n",
       "      <td>0</td>\n",
       "      <td>1</td>\n",
       "      <td>-19,7609</td>\n",
       "      <td>-43,0306</td>\n",
       "    </tr>\n",
       "    <tr>\n",
       "      <th>...</th>\n",
       "      <td>...</td>\n",
       "      <td>...</td>\n",
       "      <td>...</td>\n",
       "      <td>...</td>\n",
       "      <td>...</td>\n",
       "      <td>...</td>\n",
       "      <td>...</td>\n",
       "      <td>...</td>\n",
       "      <td>...</td>\n",
       "      <td>...</td>\n",
       "    </tr>\n",
       "    <tr>\n",
       "      <th>67441</th>\n",
       "      <td>ES</td>\n",
       "      <td>101.0</td>\n",
       "      <td>Falta de Atenção à Condução</td>\n",
       "      <td>Com Vítimas Feridas</td>\n",
       "      <td>Céu Claro</td>\n",
       "      <td>0</td>\n",
       "      <td>0</td>\n",
       "      <td>1</td>\n",
       "      <td>-20,23107</td>\n",
       "      <td>-40,27387</td>\n",
       "    </tr>\n",
       "    <tr>\n",
       "      <th>67442</th>\n",
       "      <td>PR</td>\n",
       "      <td>116.0</td>\n",
       "      <td>Falta de Atenção à Condução</td>\n",
       "      <td>Com Vítimas Feridas</td>\n",
       "      <td>Céu Claro</td>\n",
       "      <td>0</td>\n",
       "      <td>1</td>\n",
       "      <td>0</td>\n",
       "      <td>-25,59505</td>\n",
       "      <td>-49,31631</td>\n",
       "    </tr>\n",
       "    <tr>\n",
       "      <th>67443</th>\n",
       "      <td>CE</td>\n",
       "      <td>222.0</td>\n",
       "      <td>Não guardar distância de segurança</td>\n",
       "      <td>Com Vítimas Feridas</td>\n",
       "      <td>Céu Claro</td>\n",
       "      <td>0</td>\n",
       "      <td>0</td>\n",
       "      <td>1</td>\n",
       "      <td>-3,736507</td>\n",
       "      <td>-38,65337</td>\n",
       "    </tr>\n",
       "    <tr>\n",
       "      <th>67444</th>\n",
       "      <td>PR</td>\n",
       "      <td>373.0</td>\n",
       "      <td>Defeito Mecânico no Veículo</td>\n",
       "      <td>Com Vítimas Feridas</td>\n",
       "      <td>Ignorado</td>\n",
       "      <td>0</td>\n",
       "      <td>0</td>\n",
       "      <td>1</td>\n",
       "      <td>-25,7118</td>\n",
       "      <td>-52,18374</td>\n",
       "    </tr>\n",
       "    <tr>\n",
       "      <th>67445</th>\n",
       "      <td>BA</td>\n",
       "      <td>324.0</td>\n",
       "      <td>Defeito na Via</td>\n",
       "      <td>Com Vítimas Feridas</td>\n",
       "      <td>Céu Claro</td>\n",
       "      <td>0</td>\n",
       "      <td>1</td>\n",
       "      <td>0</td>\n",
       "      <td>-12,78156</td>\n",
       "      <td>-38,41656</td>\n",
       "    </tr>\n",
       "  </tbody>\n",
       "</table>\n",
       "<p>67446 rows × 10 columns</p>\n",
       "</div>"
      ],
      "text/plain": [
       "       uf     br                       causa_acidente classificacao_acidente  \\\n",
       "0      SP  116.0          Falta de Atenção à Condução    Com Vítimas Feridas   \n",
       "1      PR  373.0          Falta de Atenção à Condução    Com Vítimas Feridas   \n",
       "2      SC  101.0                     Animais na Pista    Com Vítimas Feridas   \n",
       "3      CE   20.0  Ingestão de Substâncias Psicoativas    Com Vítimas Feridas   \n",
       "4      MG  381.0          Falta de Atenção à Condução    Com Vítimas Feridas   \n",
       "...    ..    ...                                  ...                    ...   \n",
       "67441  ES  101.0          Falta de Atenção à Condução    Com Vítimas Feridas   \n",
       "67442  PR  116.0          Falta de Atenção à Condução    Com Vítimas Feridas   \n",
       "67443  CE  222.0   Não guardar distância de segurança    Com Vítimas Feridas   \n",
       "67444  PR  373.0          Defeito Mecânico no Veículo    Com Vítimas Feridas   \n",
       "67445  BA  324.0                       Defeito na Via    Com Vítimas Feridas   \n",
       "\n",
       "      condicao_metereologica  mortos  feridos_leves  feridos_graves  \\\n",
       "0                  Céu Claro       0              4               0   \n",
       "1                    Nublado       0              1               0   \n",
       "2                  Céu Claro       0              1               0   \n",
       "3                    Nublado       0              0               1   \n",
       "4                    Nublado       0              0               1   \n",
       "...                      ...     ...            ...             ...   \n",
       "67441              Céu Claro       0              0               1   \n",
       "67442              Céu Claro       0              1               0   \n",
       "67443              Céu Claro       0              0               1   \n",
       "67444               Ignorado       0              0               1   \n",
       "67445              Céu Claro       0              1               0   \n",
       "\n",
       "           latitude     longitude  \n",
       "0      -23,46052014  -46,48772478  \n",
       "1      -25,05533957  -50,22776753  \n",
       "2          -26,1216      -48,8826  \n",
       "3          -3,76999    -38,670063  \n",
       "4          -19,7609      -43,0306  \n",
       "...             ...           ...  \n",
       "67441     -20,23107     -40,27387  \n",
       "67442     -25,59505     -49,31631  \n",
       "67443     -3,736507     -38,65337  \n",
       "67444      -25,7118     -52,18374  \n",
       "67445     -12,78156     -38,41656  \n",
       "\n",
       "[67446 rows x 10 columns]"
      ]
     },
     "execution_count": 17,
     "metadata": {},
     "output_type": "execute_result"
    }
   ],
   "source": [
    "#Selecionando Múltiplas Colunas\n",
    "#exibir tabela com colunas escolhidas/selecionadas\n",
    "\n",
    "dados[['uf', 'br', 'causa_acidente', 'classificacao_acidente', 'condicao_metereologica' ,'mortos', 'feridos_leves', 'feridos_graves', 'latitude', 'longitude']]"
   ]
  },
  {
   "cell_type": "code",
   "execution_count": 18,
   "id": "ebbb5b7c",
   "metadata": {},
   "outputs": [],
   "source": [
    "#Selecionando Múltiplas Colunas\n",
    "#exibir tabela com colunas escolhidas/selecionadas\n",
    "#guardar como nova tabela\n",
    "\n",
    "dados_selecionados = dados[['uf', 'br', 'causa_acidente', 'classificacao_acidente', 'condicao_metereologica' ,'mortos', 'feridos_leves', 'feridos_graves', 'latitude', 'longitude']]"
   ]
  },
  {
   "cell_type": "code",
   "execution_count": 19,
   "id": "0df168d4",
   "metadata": {},
   "outputs": [
    {
     "data": {
      "text/plain": [
       "Falta de Atenção à Condução                                                       24992\n",
       "Desobediência às normas de trânsito pelo condutor                                  8098\n",
       "Velocidade Incompatível                                                            6028\n",
       "Ingestão de Álcool                                                                 5419\n",
       "Não guardar distância de segurança                                                 4214\n",
       "Defeito Mecânico no Veículo                                                        3732\n",
       "Condutor Dormindo                                                                  2483\n",
       "Pista Escorregadia                                                                 2186\n",
       "Falta de Atenção do Pedestre                                                       1971\n",
       "Animais na Pista                                                                   1527\n",
       "Ultrapassagem Indevida                                                             1173\n",
       "Defeito na Via                                                                      973\n",
       "Avarias e/ou desgaste excessivo no pneu                                             799\n",
       "Mal Súbito                                                                          715\n",
       "Restrição de Visibilidade                                                           493\n",
       "Objeto estático sobre o leito carroçável                                            437\n",
       "Ingestão de álcool e/ou substâncias psicoativas pelo pedestre                       394\n",
       "Desobediência às normas de trânsito pelo pedestre                                   392\n",
       "Agressão Externa                                                                    384\n",
       "Carga excessiva e/ou mal acondicionada                                              305\n",
       "Sinalização da via insuficiente ou inadequada                                       247\n",
       "Fenômenos da Natureza                                                               230\n",
       "Deficiência ou não Acionamento do Sistema de Iluminação/Sinalização do Veículo      160\n",
       "Ingestão de Substâncias Psicoativas                                                  94\n",
       "Name: causa_acidente, dtype: int64"
      ]
     },
     "execution_count": 19,
     "metadata": {},
     "output_type": "execute_result"
    }
   ],
   "source": [
    "#Operações de Agregamento\n",
    "\n",
    "dados_select1 = dados_selecionados\n",
    "\n",
    "dados_select1['causa_acidente'].value_counts()"
   ]
  },
  {
   "cell_type": "code",
   "execution_count": 51,
   "id": "ccd0e77e",
   "metadata": {},
   "outputs": [
    {
     "data": {
      "text/plain": [
       "<AxesSubplot:>"
      ]
     },
     "execution_count": 51,
     "metadata": {},
     "output_type": "execute_result"
    },
    {
     "data": {
      "image/png": "[encoded data removed]",
      "text/plain": [
       "<Figure size 432x288 with 1 Axes>"
      ]
     },
     "metadata": {
      "needs_background": "light"
     },
     "output_type": "display_data"
    }
   ],
   "source": [
    "#gráfico de barras vertical\n",
    "\n",
    "dados_select1['causa_acidente'].value_counts().plot.bar(color='#00BFFF')"
   ]
  },
  {
   "cell_type": "code",
   "execution_count": 50,
   "id": "8e1aede1",
   "metadata": {},
   "outputs": [
    {
     "data": {
      "text/plain": [
       "<AxesSubplot:title={'center':'Gráfico de Barras'}>"
      ]
     },
     "execution_count": 50,
     "metadata": {},
     "output_type": "execute_result"
    },
    {
     "data": {
      "image/png": "[encoded data removed]",
      "text/plain": [
       "<Figure size 432x288 with 1 Axes>"
      ]
     },
     "metadata": {
      "needs_background": "light"
     },
     "output_type": "display_data"
    }
   ],
   "source": [
    "#graficos > barras horizontal\n",
    "\n",
    "grafico1 = dados_select1['causa_acidente'].value_counts()\n",
    "\n",
    "grafico1.plot( \n",
    "  x = 'causa acidente',  \n",
    "  kind = 'barh',  \n",
    "  stacked = True,  \n",
    "  title = 'Gráfico de Barras',  \n",
    "    color='#00BFFF', \n",
    "  mark_right = True)"
   ]
  },
  {
   "cell_type": "code",
   "execution_count": 56,
   "id": "73c969a6",
   "metadata": {},
   "outputs": [
    {
     "data": {
      "text/plain": [
       "<AxesSubplot:title={'center':'Gráfico de Barras'}>"
      ]
     },
     "execution_count": 56,
     "metadata": {},
     "output_type": "execute_result"
    },
    {
     "data": {
      "image/png": "[encoded data removed]",
      "text/plain": [
       "<Figure size 432x288 with 1 Axes>"
      ]
     },
     "metadata": {
      "needs_background": "light"
     },
     "output_type": "display_data"
    }
   ],
   "source": [
    "#graficos > barras horizontal\n",
    "#destaque para os 5 registros mais \n",
    "\n",
    "grafico2 = dados_select1['causa_acidente'].value_counts().head()\n",
    "\n",
    "grafico2.plot( \n",
    "  x = 'causa acidente',  \n",
    "  kind = 'barh',  \n",
    "  stacked = True,  \n",
    "  title = 'Gráfico de Barras',  \n",
    "    color='#00BFFF',\n",
    "  mark_right = True)"
   ]
  },
  {
   "cell_type": "code",
   "execution_count": 34,
   "id": "69a9a74b",
   "metadata": {},
   "outputs": [
    {
     "data": {
      "text/plain": [
       "Com Vítimas Feridas    51183\n",
       "Sem Vítimas            11671\n",
       "Com Vítimas Fatais      4592\n",
       "Name: classificacao_acidente, dtype: int64"
      ]
     },
     "execution_count": 34,
     "metadata": {},
     "output_type": "execute_result"
    }
   ],
   "source": [
    "#analise 2\n",
    "#Operações de Agregamento\n",
    "\n",
    "dados_select2 = dados_selecionados\n",
    "\n",
    "dados_select2['classificacao_acidente'].value_counts()"
   ]
  },
  {
   "cell_type": "code",
   "execution_count": 41,
   "id": "ddaa12b5",
   "metadata": {},
   "outputs": [
    {
     "data": {
      "application/vnd.plotly.v1+json": {
       "config": {
        "plotlyServerURL": "https://plot.ly"
       },
       "data": [
        {
         "domain": {
          "x": [
           0,
           1
          ],
          "y": [
           0,
           1
          ]
         },
         "hovertemplate": "label=%{label}<br>value=%{value}<extra></extra>",
         "labels": [
          "Com Vítimas Feridas",
          "Com Vítimas Fatais",
          "Sem Vítimas"
         ],
         "legendgroup": "",
         "name": "",
         "showlegend": true,
         "type": "pie",
         "values": [
          "51183",
          "4592",
          "11671"
         ]
        }
       ],
       "layout": {
        "height": 300,
        "legend": {
         "tracegroupgap": 0
        },
        "margin": {
         "t": 60
        },
        "template": {
         "data": {
          "bar": [
           {
            "error_x": {
             "color": "#2a3f5f"
            },
            "error_y": {
             "color": "#2a3f5f"
            },
            "marker": {
             "line": {
              "color": "#E5ECF6",
              "width": 0.5
             },
             "pattern": {
              "fillmode": "overlay",
              "size": 10,
              "solidity": 0.2
             }
            },
            "type": "bar"
           }
          ],
          "barpolar": [
           {
            "marker": {
             "line": {
              "color": "#E5ECF6",
              "width": 0.5
             },
             "pattern": {
              "fillmode": "overlay",
              "size": 10,
              "solidity": 0.2
             }
            },
            "type": "barpolar"
           }
          ],
          "carpet": [
           {
            "aaxis": {
             "endlinecolor": "#2a3f5f",
             "gridcolor": "white",
             "linecolor": "white",
             "minorgridcolor": "white",
             "startlinecolor": "#2a3f5f"
            },
            "baxis": {
             "endlinecolor": "#2a3f5f",
             "gridcolor": "white",
             "linecolor": "white",
             "minorgridcolor": "white",
             "startlinecolor": "#2a3f5f"
            },
            "type": "carpet"
           }
          ],
          "choropleth": [
           {
            "colorbar": {
             "outlinewidth": 0,
             "ticks": ""
            },
            "type": "choropleth"
           }
          ],
          "contour": [
           {
            "colorbar": {
             "outlinewidth": 0,
             "ticks": ""
            },
            "colorscale": [
             [
              0,
              "#0d0887"
             ],
             [
              0.1111111111111111,
              "#46039f"
             ],
             [
              0.2222222222222222,
              "#7201a8"
             ],
             [
              0.3333333333333333,
              "#9c179e"
             ],
             [
              0.4444444444444444,
              "#bd3786"
             ],
             [
              0.5555555555555556,
              "#d8576b"
             ],
             [
              0.6666666666666666,
              "#ed7953"
             ],
             [
              0.7777777777777778,
              "#fb9f3a"
             ],
             [
              0.8888888888888888,
              "#fdca26"
             ],
             [
              1,
              "#f0f921"
             ]
            ],
            "type": "contour"
           }
          ],
          "contourcarpet": [
           {
            "colorbar": {
             "outlinewidth": 0,
             "ticks": ""
            },
            "type": "contourcarpet"
           }
          ],
          "heatmap": [
           {
            "colorbar": {
             "outlinewidth": 0,
             "ticks": ""
            },
            "colorscale": [
             [
              0,
              "#0d0887"
             ],
             [
              0.1111111111111111,
              "#46039f"
             ],
             [
              0.2222222222222222,
              "#7201a8"
             ],
             [
              0.3333333333333333,
              "#9c179e"
             ],
             [
              0.4444444444444444,
              "#bd3786"
             ],
             [
              0.5555555555555556,
              "#d8576b"
             ],
             [
              0.6666666666666666,
              "#ed7953"
             ],
             [
              0.7777777777777778,
              "#fb9f3a"
             ],
             [
              0.8888888888888888,
              "#fdca26"
             ],
             [
              1,
              "#f0f921"
             ]
            ],
            "type": "heatmap"
           }
          ],
          "heatmapgl": [
           {
            "colorbar": {
             "outlinewidth": 0,
             "ticks": ""
            },
            "colorscale": [
             [
              0,
              "#0d0887"
             ],
             [
              0.1111111111111111,
              "#46039f"
             ],
             [
              0.2222222222222222,
              "#7201a8"
             ],
             [
              0.3333333333333333,
              "#9c179e"
             ],
             [
              0.4444444444444444,
              "#bd3786"
             ],
             [
              0.5555555555555556,
              "#d8576b"
             ],
             [
              0.6666666666666666,
              "#ed7953"
             ],
             [
              0.7777777777777778,
              "#fb9f3a"
             ],
             [
              0.8888888888888888,
              "#fdca26"
             ],
             [
              1,
              "#f0f921"
             ]
            ],
            "type": "heatmapgl"
           }
          ],
          "histogram": [
           {
            "marker": {
             "pattern": {
              "fillmode": "overlay",
              "size": 10,
              "solidity": 0.2
             }
            },
            "type": "histogram"
           }
          ],
          "histogram2d": [
           {
            "colorbar": {
             "outlinewidth": 0,
             "ticks": ""
            },
            "colorscale": [
             [
              0,
              "#0d0887"
             ],
             [
              0.1111111111111111,
              "#46039f"
             ],
             [
              0.2222222222222222,
              "#7201a8"
             ],
             [
              0.3333333333333333,
              "#9c179e"
             ],
             [
              0.4444444444444444,
              "#bd3786"
             ],
             [
              0.5555555555555556,
              "#d8576b"
             ],
             [
              0.6666666666666666,
              "#ed7953"
             ],
             [
              0.7777777777777778,
              "#fb9f3a"
             ],
             [
              0.8888888888888888,
              "#fdca26"
             ],
             [
              1,
              "#f0f921"
             ]
            ],
            "type": "histogram2d"
           }
          ],
          "histogram2dcontour": [
           {
            "colorbar": {
             "outlinewidth": 0,
             "ticks": ""
            },
            "colorscale": [
             [
              0,
              "#0d0887"
             ],
             [
              0.1111111111111111,
              "#46039f"
             ],
             [
              0.2222222222222222,
              "#7201a8"
             ],
             [
              0.3333333333333333,
              "#9c179e"
             ],
             [
              0.4444444444444444,
              "#bd3786"
             ],
             [
              0.5555555555555556,
              "#d8576b"
             ],
             [
              0.6666666666666666,
              "#ed7953"
             ],
             [
              0.7777777777777778,
              "#fb9f3a"
             ],
             [
              0.8888888888888888,
              "#fdca26"
             ],
             [
              1,
              "#f0f921"
             ]
            ],
            "type": "histogram2dcontour"
           }
          ],
          "mesh3d": [
           {
            "colorbar": {
             "outlinewidth": 0,
             "ticks": ""
            },
            "type": "mesh3d"
           }
          ],
          "parcoords": [
           {
            "line": {
             "colorbar": {
              "outlinewidth": 0,
              "ticks": ""
             }
            },
            "type": "parcoords"
           }
          ],
          "pie": [
           {
            "automargin": true,
            "type": "pie"
           }
          ],
          "scatter": [
           {
            "marker": {
             "colorbar": {
              "outlinewidth": 0,
              "ticks": ""
             }
            },
            "type": "scatter"
           }
          ],
          "scatter3d": [
           {
            "line": {
             "colorbar": {
              "outlinewidth": 0,
              "ticks": ""
             }
            },
            "marker": {
             "colorbar": {
              "outlinewidth": 0,
              "ticks": ""
             }
            },
            "type": "scatter3d"
           }
          ],
          "scattercarpet": [
           {
            "marker": {
             "colorbar": {
              "outlinewidth": 0,
              "ticks": ""
             }
            },
            "type": "scattercarpet"
           }
          ],
          "scattergeo": [
           {
            "marker": {
             "colorbar": {
              "outlinewidth": 0,
              "ticks": ""
             }
            },
            "type": "scattergeo"
           }
          ],
          "scattergl": [
           {
            "marker": {
             "colorbar": {
              "outlinewidth": 0,
              "ticks": ""
             }
            },
            "type": "scattergl"
           }
          ],
          "scattermapbox": [
           {
            "marker": {
             "colorbar": {
              "outlinewidth": 0,
              "ticks": ""
             }
            },
            "type": "scattermapbox"
           }
          ],
          "scatterpolar": [
           {
            "marker": {
             "colorbar": {
              "outlinewidth": 0,
              "ticks": ""
             }
            },
            "type": "scatterpolar"
           }
          ],
          "scatterpolargl": [
           {
            "marker": {
             "colorbar": {
              "outlinewidth": 0,
              "ticks": ""
             }
            },
            "type": "scatterpolargl"
           }
          ],
          "scatterternary": [
           {
            "marker": {
             "colorbar": {
              "outlinewidth": 0,
              "ticks": ""
             }
            },
            "type": "scatterternary"
           }
          ],
          "surface": [
           {
            "colorbar": {
             "outlinewidth": 0,
             "ticks": ""
            },
            "colorscale": [
             [
              0,
              "#0d0887"
             ],
             [
              0.1111111111111111,
              "#46039f"
             ],
             [
              0.2222222222222222,
              "#7201a8"
             ],
             [
              0.3333333333333333,
              "#9c179e"
             ],
             [
              0.4444444444444444,
              "#bd3786"
             ],
             [
              0.5555555555555556,
              "#d8576b"
             ],
             [
              0.6666666666666666,
              "#ed7953"
             ],
             [
              0.7777777777777778,
              "#fb9f3a"
             ],
             [
              0.8888888888888888,
              "#fdca26"
             ],
             [
              1,
              "#f0f921"
             ]
            ],
            "type": "surface"
           }
          ],
          "table": [
           {
            "cells": {
             "fill": {
              "color": "#EBF0F8"
             },
             "line": {
              "color": "white"
             }
            },
            "header": {
             "fill": {
              "color": "#C8D4E3"
             },
             "line": {
              "color": "white"
             }
            },
            "type": "table"
           }
          ]
         },
         "layout": {
          "annotationdefaults": {
           "arrowcolor": "#2a3f5f",
           "arrowhead": 0,
           "arrowwidth": 1
          },
          "autotypenumbers": "strict",
          "coloraxis": {
           "colorbar": {
            "outlinewidth": 0,
            "ticks": ""
           }
          },
          "colorscale": {
           "diverging": [
            [
             0,
             "#8e0152"
            ],
            [
             0.1,
             "#c51b7d"
            ],
            [
             0.2,
             "#de77ae"
            ],
            [
             0.3,
             "#f1b6da"
            ],
            [
             0.4,
             "#fde0ef"
            ],
            [
             0.5,
             "#f7f7f7"
            ],
            [
             0.6,
             "#e6f5d0"
            ],
            [
             0.7,
             "#b8e186"
            ],
            [
             0.8,
             "#7fbc41"
            ],
            [
             0.9,
             "#4d9221"
            ],
            [
             1,
             "#276419"
            ]
           ],
           "sequential": [
            [
             0,
             "#0d0887"
            ],
            [
             0.1111111111111111,
             "#46039f"
            ],
            [
             0.2222222222222222,
             "#7201a8"
            ],
            [
             0.3333333333333333,
             "#9c179e"
            ],
            [
             0.4444444444444444,
             "#bd3786"
            ],
            [
             0.5555555555555556,
             "#d8576b"
            ],
            [
             0.6666666666666666,
             "#ed7953"
            ],
            [
             0.7777777777777778,
             "#fb9f3a"
            ],
            [
             0.8888888888888888,
             "#fdca26"
            ],
            [
             1,
             "#f0f921"
            ]
           ],
           "sequentialminus": [
            [
             0,
             "#0d0887"
            ],
            [
             0.1111111111111111,
             "#46039f"
            ],
            [
             0.2222222222222222,
             "#7201a8"
            ],
            [
             0.3333333333333333,
             "#9c179e"
            ],
            [
             0.4444444444444444,
             "#bd3786"
            ],
            [
             0.5555555555555556,
             "#d8576b"
            ],
            [
             0.6666666666666666,
             "#ed7953"
            ],
            [
             0.7777777777777778,
             "#fb9f3a"
            ],
            [
             0.8888888888888888,
             "#fdca26"
            ],
            [
             1,
             "#f0f921"
            ]
           ]
          },
          "colorway": [
           "#636efa",
           "#EF553B",
           "#00cc96",
           "#ab63fa",
           "#FFA15A",
           "#19d3f3",
           "#FF6692",
           "#B6E880",
           "#FF97FF",
           "#FECB52"
          ],
          "font": {
           "color": "#2a3f5f"
          },
          "geo": {
           "bgcolor": "white",
           "lakecolor": "white",
           "landcolor": "#E5ECF6",
           "showlakes": true,
           "showland": true,
           "subunitcolor": "white"
          },
          "hoverlabel": {
           "align": "left"
          },
          "hovermode": "closest",
          "mapbox": {
           "style": "light"
          },
          "paper_bgcolor": "white",
          "plot_bgcolor": "#E5ECF6",
          "polar": {
           "angularaxis": {
            "gridcolor": "white",
            "linecolor": "white",
            "ticks": ""
           },
           "bgcolor": "#E5ECF6",
           "radialaxis": {
            "gridcolor": "white",
            "linecolor": "white",
            "ticks": ""
           }
          },
          "scene": {
           "xaxis": {
            "backgroundcolor": "#E5ECF6",
            "gridcolor": "white",
            "gridwidth": 2,
            "linecolor": "white",
            "showbackground": true,
            "ticks": "",
            "zerolinecolor": "white"
           },
           "yaxis": {
            "backgroundcolor": "#E5ECF6",
            "gridcolor": "white",
            "gridwidth": 2,
            "linecolor": "white",
            "showbackground": true,
            "ticks": "",
            "zerolinecolor": "white"
           },
           "zaxis": {
            "backgroundcolor": "#E5ECF6",
            "gridcolor": "white",
            "gridwidth": 2,
            "linecolor": "white",
            "showbackground": true,
            "ticks": "",
            "zerolinecolor": "white"
           }
          },
          "shapedefaults": {
           "line": {
            "color": "#2a3f5f"
           }
          },
          "ternary": {
           "aaxis": {
            "gridcolor": "white",
            "linecolor": "white",
            "ticks": ""
           },
           "baxis": {
            "gridcolor": "white",
            "linecolor": "white",
            "ticks": ""
           },
           "bgcolor": "#E5ECF6",
           "caxis": {
            "gridcolor": "white",
            "linecolor": "white",
            "ticks": ""
           }
          },
          "title": {
           "x": 0.05
          },
          "xaxis": {
           "automargin": true,
           "gridcolor": "white",
           "linecolor": "white",
           "ticks": "",
           "title": {
            "standoff": 15
           },
           "zerolinecolor": "white",
           "zerolinewidth": 2
          },
          "yaxis": {
           "automargin": true,
           "gridcolor": "white",
           "linecolor": "white",
           "ticks": "",
           "title": {
            "standoff": 15
           },
           "zerolinecolor": "white",
           "zerolinewidth": 2
          }
         }
        },
        "width": 700
       }
      },
      "text/html": [
       "<div>                            <div id=\"d2e820c8-2e0a-4d0f-a067-835006d0c291\" class=\"plotly-graph-div\" style=\"height:300px; width:700px;\"></div>            <script type=\"text/javascript\">                require([\"plotly\"], function(Plotly) {                    window.PLOTLYENV=window.PLOTLYENV || {};                                    if (document.getElementById(\"d2e820c8-2e0a-4d0f-a067-835006d0c291\")) {                    Plotly.newPlot(                        \"d2e820c8-2e0a-4d0f-a067-835006d0c291\",                        [{\"domain\":{\"x\":[0.0,1.0],\"y\":[0.0,1.0]},\"hovertemplate\":\"label=%{label}<br>value=%{value}<extra></extra>\",\"labels\":[\"Com V\\u00edtimas Feridas\",\"Com V\\u00edtimas Fatais\",\"Sem V\\u00edtimas\"],\"legendgroup\":\"\",\"name\":\"\",\"showlegend\":true,\"values\":[\"51183\",\"4592\",\"11671\"],\"type\":\"pie\"}],                        {\"template\":{\"data\":{\"bar\":[{\"error_x\":{\"color\":\"#2a3f5f\"},\"error_y\":{\"color\":\"#2a3f5f\"},\"marker\":{\"line\":{\"color\":\"#E5ECF6\",\"width\":0.5},\"pattern\":{\"fillmode\":\"overlay\",\"size\":10,\"solidity\":0.2}},\"type\":\"bar\"}],\"barpolar\":[{\"marker\":{\"line\":{\"color\":\"#E5ECF6\",\"width\":0.5},\"pattern\":{\"fillmode\":\"overlay\",\"size\":10,\"solidity\":0.2}},\"type\":\"barpolar\"}],\"carpet\":[{\"aaxis\":{\"endlinecolor\":\"#2a3f5f\",\"gridcolor\":\"white\",\"linecolor\":\"white\",\"minorgridcolor\":\"white\",\"startlinecolor\":\"#2a3f5f\"},\"baxis\":{\"endlinecolor\":\"#2a3f5f\",\"gridcolor\":\"white\",\"linecolor\":\"white\",\"minorgridcolor\":\"white\",\"startlinecolor\":\"#2a3f5f\"},\"type\":\"carpet\"}],\"choropleth\":[{\"colorbar\":{\"outlinewidth\":0,\"ticks\":\"\"},\"type\":\"choropleth\"}],\"contour\":[{\"colorbar\":{\"outlinewidth\":0,\"ticks\":\"\"},\"colorscale\":[[0.0,\"#0d0887\"],[0.1111111111111111,\"#46039f\"],[0.2222222222222222,\"#7201a8\"],[0.3333333333333333,\"#9c179e\"],[0.4444444444444444,\"#bd3786\"],[0.5555555555555556,\"#d8576b\"],[0.6666666666666666,\"#ed7953\"],[0.7777777777777778,\"#fb9f3a\"],[0.8888888888888888,\"#fdca26\"],[1.0,\"#f0f921\"]],\"type\":\"contour\"}],\"contourcarpet\":[{\"colorbar\":{\"outlinewidth\":0,\"ticks\":\"\"},\"type\":\"contourcarpet\"}],\"heatmap\":[{\"colorbar\":{\"outlinewidth\":0,\"ticks\":\"\"},\"colorscale\":[[0.0,\"#0d0887\"],[0.1111111111111111,\"#46039f\"],[0.2222222222222222,\"#7201a8\"],[0.3333333333333333,\"#9c179e\"],[0.4444444444444444,\"#bd3786\"],[0.5555555555555556,\"#d8576b\"],[0.6666666666666666,\"#ed7953\"],[0.7777777777777778,\"#fb9f3a\"],[0.8888888888888888,\"#fdca26\"],[1.0,\"#f0f921\"]],\"type\":\"heatmap\"}],\"heatmapgl\":[{\"colorbar\":{\"outlinewidth\":0,\"ticks\":\"\"},\"colorscale\":[[0.0,\"#0d0887\"],[0.1111111111111111,\"#46039f\"],[0.2222222222222222,\"#7201a8\"],[0.3333333333333333,\"#9c179e\"],[0.4444444444444444,\"#bd3786\"],[0.5555555555555556,\"#d8576b\"],[0.6666666666666666,\"#ed7953\"],[0.7777777777777778,\"#fb9f3a\"],[0.8888888888888888,\"#fdca26\"],[1.0,\"#f0f921\"]],\"type\":\"heatmapgl\"}],\"histogram\":[{\"marker\":{\"pattern\":{\"fillmode\":\"overlay\",\"size\":10,\"solidity\":0.2}},\"type\":\"histogram\"}],\"histogram2d\":[{\"colorbar\":{\"outlinewidth\":0,\"ticks\":\"\"},\"colorscale\":[[0.0,\"#0d0887\"],[0.1111111111111111,\"#46039f\"],[0.2222222222222222,\"#7201a8\"],[0.3333333333333333,\"#9c179e\"],[0.4444444444444444,\"#bd3786\"],[0.5555555555555556,\"#d8576b\"],[0.6666666666666666,\"#ed7953\"],[0.7777777777777778,\"#fb9f3a\"],[0.8888888888888888,\"#fdca26\"],[1.0,\"#f0f921\"]],\"type\":\"histogram2d\"}],\"histogram2dcontour\":[{\"colorbar\":{\"outlinewidth\":0,\"ticks\":\"\"},\"colorscale\":[[0.0,\"#0d0887\"],[0.1111111111111111,\"#46039f\"],[0.2222222222222222,\"#7201a8\"],[0.3333333333333333,\"#9c179e\"],[0.4444444444444444,\"#bd3786\"],[0.5555555555555556,\"#d8576b\"],[0.6666666666666666,\"#ed7953\"],[0.7777777777777778,\"#fb9f3a\"],[0.8888888888888888,\"#fdca26\"],[1.0,\"#f0f921\"]],\"type\":\"histogram2dcontour\"}],\"mesh3d\":[{\"colorbar\":{\"outlinewidth\":0,\"ticks\":\"\"},\"type\":\"mesh3d\"}],\"parcoords\":[{\"line\":{\"colorbar\":{\"outlinewidth\":0,\"ticks\":\"\"}},\"type\":\"parcoords\"}],\"pie\":[{\"automargin\":true,\"type\":\"pie\"}],\"scatter\":[{\"marker\":{\"colorbar\":{\"outlinewidth\":0,\"ticks\":\"\"}},\"type\":\"scatter\"}],\"scatter3d\":[{\"line\":{\"colorbar\":{\"outlinewidth\":0,\"ticks\":\"\"}},\"marker\":{\"colorbar\":{\"outlinewidth\":0,\"ticks\":\"\"}},\"type\":\"scatter3d\"}],\"scattercarpet\":[{\"marker\":{\"colorbar\":{\"outlinewidth\":0,\"ticks\":\"\"}},\"type\":\"scattercarpet\"}],\"scattergeo\":[{\"marker\":{\"colorbar\":{\"outlinewidth\":0,\"ticks\":\"\"}},\"type\":\"scattergeo\"}],\"scattergl\":[{\"marker\":{\"colorbar\":{\"outlinewidth\":0,\"ticks\":\"\"}},\"type\":\"scattergl\"}],\"scattermapbox\":[{\"marker\":{\"colorbar\":{\"outlinewidth\":0,\"ticks\":\"\"}},\"type\":\"scattermapbox\"}],\"scatterpolar\":[{\"marker\":{\"colorbar\":{\"outlinewidth\":0,\"ticks\":\"\"}},\"type\":\"scatterpolar\"}],\"scatterpolargl\":[{\"marker\":{\"colorbar\":{\"outlinewidth\":0,\"ticks\":\"\"}},\"type\":\"scatterpolargl\"}],\"scatterternary\":[{\"marker\":{\"colorbar\":{\"outlinewidth\":0,\"ticks\":\"\"}},\"type\":\"scatterternary\"}],\"surface\":[{\"colorbar\":{\"outlinewidth\":0,\"ticks\":\"\"},\"colorscale\":[[0.0,\"#0d0887\"],[0.1111111111111111,\"#46039f\"],[0.2222222222222222,\"#7201a8\"],[0.3333333333333333,\"#9c179e\"],[0.4444444444444444,\"#bd3786\"],[0.5555555555555556,\"#d8576b\"],[0.6666666666666666,\"#ed7953\"],[0.7777777777777778,\"#fb9f3a\"],[0.8888888888888888,\"#fdca26\"],[1.0,\"#f0f921\"]],\"type\":\"surface\"}],\"table\":[{\"cells\":{\"fill\":{\"color\":\"#EBF0F8\"},\"line\":{\"color\":\"white\"}},\"header\":{\"fill\":{\"color\":\"#C8D4E3\"},\"line\":{\"color\":\"white\"}},\"type\":\"table\"}]},\"layout\":{\"annotationdefaults\":{\"arrowcolor\":\"#2a3f5f\",\"arrowhead\":0,\"arrowwidth\":1},\"autotypenumbers\":\"strict\",\"coloraxis\":{\"colorbar\":{\"outlinewidth\":0,\"ticks\":\"\"}},\"colorscale\":{\"diverging\":[[0,\"#8e0152\"],[0.1,\"#c51b7d\"],[0.2,\"#de77ae\"],[0.3,\"#f1b6da\"],[0.4,\"#fde0ef\"],[0.5,\"#f7f7f7\"],[0.6,\"#e6f5d0\"],[0.7,\"#b8e186\"],[0.8,\"#7fbc41\"],[0.9,\"#4d9221\"],[1,\"#276419\"]],\"sequential\":[[0.0,\"#0d0887\"],[0.1111111111111111,\"#46039f\"],[0.2222222222222222,\"#7201a8\"],[0.3333333333333333,\"#9c179e\"],[0.4444444444444444,\"#bd3786\"],[0.5555555555555556,\"#d8576b\"],[0.6666666666666666,\"#ed7953\"],[0.7777777777777778,\"#fb9f3a\"],[0.8888888888888888,\"#fdca26\"],[1.0,\"#f0f921\"]],\"sequentialminus\":[[0.0,\"#0d0887\"],[0.1111111111111111,\"#46039f\"],[0.2222222222222222,\"#7201a8\"],[0.3333333333333333,\"#9c179e\"],[0.4444444444444444,\"#bd3786\"],[0.5555555555555556,\"#d8576b\"],[0.6666666666666666,\"#ed7953\"],[0.7777777777777778,\"#fb9f3a\"],[0.8888888888888888,\"#fdca26\"],[1.0,\"#f0f921\"]]},\"colorway\":[\"#636efa\",\"#EF553B\",\"#00cc96\",\"#ab63fa\",\"#FFA15A\",\"#19d3f3\",\"#FF6692\",\"#B6E880\",\"#FF97FF\",\"#FECB52\"],\"font\":{\"color\":\"#2a3f5f\"},\"geo\":{\"bgcolor\":\"white\",\"lakecolor\":\"white\",\"landcolor\":\"#E5ECF6\",\"showlakes\":true,\"showland\":true,\"subunitcolor\":\"white\"},\"hoverlabel\":{\"align\":\"left\"},\"hovermode\":\"closest\",\"mapbox\":{\"style\":\"light\"},\"paper_bgcolor\":\"white\",\"plot_bgcolor\":\"#E5ECF6\",\"polar\":{\"angularaxis\":{\"gridcolor\":\"white\",\"linecolor\":\"white\",\"ticks\":\"\"},\"bgcolor\":\"#E5ECF6\",\"radialaxis\":{\"gridcolor\":\"white\",\"linecolor\":\"white\",\"ticks\":\"\"}},\"scene\":{\"xaxis\":{\"backgroundcolor\":\"#E5ECF6\",\"gridcolor\":\"white\",\"gridwidth\":2,\"linecolor\":\"white\",\"showbackground\":true,\"ticks\":\"\",\"zerolinecolor\":\"white\"},\"yaxis\":{\"backgroundcolor\":\"#E5ECF6\",\"gridcolor\":\"white\",\"gridwidth\":2,\"linecolor\":\"white\",\"showbackground\":true,\"ticks\":\"\",\"zerolinecolor\":\"white\"},\"zaxis\":{\"backgroundcolor\":\"#E5ECF6\",\"gridcolor\":\"white\",\"gridwidth\":2,\"linecolor\":\"white\",\"showbackground\":true,\"ticks\":\"\",\"zerolinecolor\":\"white\"}},\"shapedefaults\":{\"line\":{\"color\":\"#2a3f5f\"}},\"ternary\":{\"aaxis\":{\"gridcolor\":\"white\",\"linecolor\":\"white\",\"ticks\":\"\"},\"baxis\":{\"gridcolor\":\"white\",\"linecolor\":\"white\",\"ticks\":\"\"},\"bgcolor\":\"#E5ECF6\",\"caxis\":{\"gridcolor\":\"white\",\"linecolor\":\"white\",\"ticks\":\"\"}},\"title\":{\"x\":0.05},\"xaxis\":{\"automargin\":true,\"gridcolor\":\"white\",\"linecolor\":\"white\",\"ticks\":\"\",\"title\":{\"standoff\":15},\"zerolinecolor\":\"white\",\"zerolinewidth\":2},\"yaxis\":{\"automargin\":true,\"gridcolor\":\"white\",\"linecolor\":\"white\",\"ticks\":\"\",\"title\":{\"standoff\":15},\"zerolinecolor\":\"white\",\"zerolinewidth\":2}}},\"legend\":{\"tracegroupgap\":0},\"margin\":{\"t\":60},\"height\":300,\"width\":700},                        {\"responsive\": true}                    ).then(function(){\n",
       "                            \n",
       "var gd = document.getElementById('d2e820c8-2e0a-4d0f-a067-835006d0c291');\n",
       "var x = new MutationObserver(function (mutations, observer) {{\n",
       "        var display = window.getComputedStyle(gd).display;\n",
       "        if (!display || display === 'none') {{\n",
       "            console.log([gd, 'removed!']);\n",
       "            Plotly.purge(gd);\n",
       "            observer.disconnect();\n",
       "        }}\n",
       "}});\n",
       "\n",
       "// Listen for the removal of the full notebook cells\n",
       "var notebookContainer = gd.closest('#notebook-container');\n",
       "if (notebookContainer) {{\n",
       "    x.observe(notebookContainer, {childList: true});\n",
       "}}\n",
       "\n",
       "// Listen for the clearing of the current output cell\n",
       "var outputEl = gd.closest('.output');\n",
       "if (outputEl) {{\n",
       "    x.observe(outputEl, {childList: true});\n",
       "}}\n",
       "\n",
       "                        })                };                });            </script>        </div>"
      ]
     },
     "metadata": {},
     "output_type": "display_data"
    }
   ],
   "source": [
    "#lib plot > pizza\n",
    "dados_x= ['Com Vítimas Feridas', 'Com Vítimas Fatais', 'Sem Vítimas' ]\n",
    "dados_y= ['51183', '4592', '11671']\n",
    "\n",
    "fig = px.pie(names=dados_x, values= dados_y, width=700, height=300)\n",
    "fig.show()"
   ]
  },
  {
   "cell_type": "code",
   "execution_count": 60,
   "id": "cc8f38c5",
   "metadata": {},
   "outputs": [
    {
     "data": {
      "application/vnd.plotly.v1+json": {
       "config": {
        "plotlyServerURL": "https://plot.ly"
       },
       "data": [
        {
         "alignmentgroup": "True",
         "hovertemplate": "x=%{x}<br>y=%{y}<extra></extra>",
         "legendgroup": "",
         "marker": {
          "color": "#636efa",
          "pattern": {
           "shape": ""
          }
         },
         "name": "",
         "offsetgroup": "",
         "orientation": "v",
         "showlegend": false,
         "textposition": "auto",
         "type": "bar",
         "x": [
          "Com Vítimas Feridas",
          "Com Vítimas Fatais",
          "Sem Vítimas"
         ],
         "xaxis": "x",
         "y": [
          51183,
          4592,
          11671
         ],
         "yaxis": "y"
        }
       ],
       "layout": {
        "barmode": "relative",
        "height": 500,
        "legend": {
         "tracegroupgap": 0
        },
        "margin": {
         "t": 60
        },
        "template": {
         "data": {
          "bar": [
           {
            "error_x": {
             "color": "#2a3f5f"
            },
            "error_y": {
             "color": "#2a3f5f"
            },
            "marker": {
             "line": {
              "color": "#E5ECF6",
              "width": 0.5
             },
             "pattern": {
              "fillmode": "overlay",
              "size": 10,
              "solidity": 0.2
             }
            },
            "type": "bar"
           }
          ],
          "barpolar": [
           {
            "marker": {
             "line": {
              "color": "#E5ECF6",
              "width": 0.5
             },
             "pattern": {
              "fillmode": "overlay",
              "size": 10,
              "solidity": 0.2
             }
            },
            "type": "barpolar"
           }
          ],
          "carpet": [
           {
            "aaxis": {
             "endlinecolor": "#2a3f5f",
             "gridcolor": "white",
             "linecolor": "white",
             "minorgridcolor": "white",
             "startlinecolor": "#2a3f5f"
            },
            "baxis": {
             "endlinecolor": "#2a3f5f",
             "gridcolor": "white",
             "linecolor": "white",
             "minorgridcolor": "white",
             "startlinecolor": "#2a3f5f"
            },
            "type": "carpet"
           }
          ],
          "choropleth": [
           {
            "colorbar": {
             "outlinewidth": 0,
             "ticks": ""
            },
            "type": "choropleth"
           }
          ],
          "contour": [
           {
            "colorbar": {
             "outlinewidth": 0,
             "ticks": ""
            },
            "colorscale": [
             [
              0,
              "#0d0887"
             ],
             [
              0.1111111111111111,
              "#46039f"
             ],
             [
              0.2222222222222222,
              "#7201a8"
             ],
             [
              0.3333333333333333,
              "#9c179e"
             ],
             [
              0.4444444444444444,
              "#bd3786"
             ],
             [
              0.5555555555555556,
              "#d8576b"
             ],
             [
              0.6666666666666666,
              "#ed7953"
             ],
             [
              0.7777777777777778,
              "#fb9f3a"
             ],
             [
              0.8888888888888888,
              "#fdca26"
             ],
             [
              1,
              "#f0f921"
             ]
            ],
            "type": "contour"
           }
          ],
          "contourcarpet": [
           {
            "colorbar": {
             "outlinewidth": 0,
             "ticks": ""
            },
            "type": "contourcarpet"
           }
          ],
          "heatmap": [
           {
            "colorbar": {
             "outlinewidth": 0,
             "ticks": ""
            },
            "colorscale": [
             [
              0,
              "#0d0887"
             ],
             [
              0.1111111111111111,
              "#46039f"
             ],
             [
              0.2222222222222222,
              "#7201a8"
             ],
             [
              0.3333333333333333,
              "#9c179e"
             ],
             [
              0.4444444444444444,
              "#bd3786"
             ],
             [
              0.5555555555555556,
              "#d8576b"
             ],
             [
              0.6666666666666666,
              "#ed7953"
             ],
             [
              0.7777777777777778,
              "#fb9f3a"
             ],
             [
              0.8888888888888888,
              "#fdca26"
             ],
             [
              1,
              "#f0f921"
             ]
            ],
            "type": "heatmap"
           }
          ],
          "heatmapgl": [
           {
            "colorbar": {
             "outlinewidth": 0,
             "ticks": ""
            },
            "colorscale": [
             [
              0,
              "#0d0887"
             ],
             [
              0.1111111111111111,
              "#46039f"
             ],
             [
              0.2222222222222222,
              "#7201a8"
             ],
             [
              0.3333333333333333,
              "#9c179e"
             ],
             [
              0.4444444444444444,
              "#bd3786"
             ],
             [
              0.5555555555555556,
              "#d8576b"
             ],
             [
              0.6666666666666666,
              "#ed7953"
             ],
             [
              0.7777777777777778,
              "#fb9f3a"
             ],
             [
              0.8888888888888888,
              "#fdca26"
             ],
             [
              1,
              "#f0f921"
             ]
            ],
            "type": "heatmapgl"
           }
          ],
          "histogram": [
           {
            "marker": {
             "pattern": {
              "fillmode": "overlay",
              "size": 10,
              "solidity": 0.2
             }
            },
            "type": "histogram"
           }
          ],
          "histogram2d": [
           {
            "colorbar": {
             "outlinewidth": 0,
             "ticks": ""
            },
            "colorscale": [
             [
              0,
              "#0d0887"
             ],
             [
              0.1111111111111111,
              "#46039f"
             ],
             [
              0.2222222222222222,
              "#7201a8"
             ],
             [
              0.3333333333333333,
              "#9c179e"
             ],
             [
              0.4444444444444444,
              "#bd3786"
             ],
             [
              0.5555555555555556,
              "#d8576b"
             ],
             [
              0.6666666666666666,
              "#ed7953"
             ],
             [
              0.7777777777777778,
              "#fb9f3a"
             ],
             [
              0.8888888888888888,
              "#fdca26"
             ],
             [
              1,
              "#f0f921"
             ]
            ],
            "type": "histogram2d"
           }
          ],
          "histogram2dcontour": [
           {
            "colorbar": {
             "outlinewidth": 0,
             "ticks": ""
            },
            "colorscale": [
             [
              0,
              "#0d0887"
             ],
             [
              0.1111111111111111,
              "#46039f"
             ],
             [
              0.2222222222222222,
              "#7201a8"
             ],
             [
              0.3333333333333333,
              "#9c179e"
             ],
             [
              0.4444444444444444,
              "#bd3786"
             ],
             [
              0.5555555555555556,
              "#d8576b"
             ],
             [
              0.6666666666666666,
              "#ed7953"
             ],
             [
              0.7777777777777778,
              "#fb9f3a"
             ],
             [
              0.8888888888888888,
              "#fdca26"
             ],
             [
              1,
              "#f0f921"
             ]
            ],
            "type": "histogram2dcontour"
           }
          ],
          "mesh3d": [
           {
            "colorbar": {
             "outlinewidth": 0,
             "ticks": ""
            },
            "type": "mesh3d"
           }
          ],
          "parcoords": [
           {
            "line": {
             "colorbar": {
              "outlinewidth": 0,
              "ticks": ""
             }
            },
            "type": "parcoords"
           }
          ],
          "pie": [
           {
            "automargin": true,
            "type": "pie"
           }
          ],
          "scatter": [
           {
            "marker": {
             "colorbar": {
              "outlinewidth": 0,
              "ticks": ""
             }
            },
            "type": "scatter"
           }
          ],
          "scatter3d": [
           {
            "line": {
             "colorbar": {
              "outlinewidth": 0,
              "ticks": ""
             }
            },
            "marker": {
             "colorbar": {
              "outlinewidth": 0,
              "ticks": ""
             }
            },
            "type": "scatter3d"
           }
          ],
          "scattercarpet": [
           {
            "marker": {
             "colorbar": {
              "outlinewidth": 0,
              "ticks": ""
             }
            },
            "type": "scattercarpet"
           }
          ],
          "scattergeo": [
           {
            "marker": {
             "colorbar": {
              "outlinewidth": 0,
              "ticks": ""
             }
            },
            "type": "scattergeo"
           }
          ],
          "scattergl": [
           {
            "marker": {
             "colorbar": {
              "outlinewidth": 0,
              "ticks": ""
             }
            },
            "type": "scattergl"
           }
          ],
          "scattermapbox": [
           {
            "marker": {
             "colorbar": {
              "outlinewidth": 0,
              "ticks": ""
             }
            },
            "type": "scattermapbox"
           }
          ],
          "scatterpolar": [
           {
            "marker": {
             "colorbar": {
              "outlinewidth": 0,
              "ticks": ""
             }
            },
            "type": "scatterpolar"
           }
          ],
          "scatterpolargl": [
           {
            "marker": {
             "colorbar": {
              "outlinewidth": 0,
              "ticks": ""
             }
            },
            "type": "scatterpolargl"
           }
          ],
          "scatterternary": [
           {
            "marker": {
             "colorbar": {
              "outlinewidth": 0,
              "ticks": ""
             }
            },
            "type": "scatterternary"
           }
          ],
          "surface": [
           {
            "colorbar": {
             "outlinewidth": 0,
             "ticks": ""
            },
            "colorscale": [
             [
              0,
              "#0d0887"
             ],
             [
              0.1111111111111111,
              "#46039f"
             ],
             [
              0.2222222222222222,
              "#7201a8"
             ],
             [
              0.3333333333333333,
              "#9c179e"
             ],
             [
              0.4444444444444444,
              "#bd3786"
             ],
             [
              0.5555555555555556,
              "#d8576b"
             ],
             [
              0.6666666666666666,
              "#ed7953"
             ],
             [
              0.7777777777777778,
              "#fb9f3a"
             ],
             [
              0.8888888888888888,
              "#fdca26"
             ],
             [
              1,
              "#f0f921"
             ]
            ],
            "type": "surface"
           }
          ],
          "table": [
           {
            "cells": {
             "fill": {
              "color": "#EBF0F8"
             },
             "line": {
              "color": "white"
             }
            },
            "header": {
             "fill": {
              "color": "#C8D4E3"
             },
             "line": {
              "color": "white"
             }
            },
            "type": "table"
           }
          ]
         },
         "layout": {
          "annotationdefaults": {
           "arrowcolor": "#2a3f5f",
           "arrowhead": 0,
           "arrowwidth": 1
          },
          "autotypenumbers": "strict",
          "coloraxis": {
           "colorbar": {
            "outlinewidth": 0,
            "ticks": ""
           }
          },
          "colorscale": {
           "diverging": [
            [
             0,
             "#8e0152"
            ],
            [
             0.1,
             "#c51b7d"
            ],
            [
             0.2,
             "#de77ae"
            ],
            [
             0.3,
             "#f1b6da"
            ],
            [
             0.4,
             "#fde0ef"
            ],
            [
             0.5,
             "#f7f7f7"
            ],
            [
             0.6,
             "#e6f5d0"
            ],
            [
             0.7,
             "#b8e186"
            ],
            [
             0.8,
             "#7fbc41"
            ],
            [
             0.9,
             "#4d9221"
            ],
            [
             1,
             "#276419"
            ]
           ],
           "sequential": [
            [
             0,
             "#0d0887"
            ],
            [
             0.1111111111111111,
             "#46039f"
            ],
            [
             0.2222222222222222,
             "#7201a8"
            ],
            [
             0.3333333333333333,
             "#9c179e"
            ],
            [
             0.4444444444444444,
             "#bd3786"
            ],
            [
             0.5555555555555556,
             "#d8576b"
            ],
            [
             0.6666666666666666,
             "#ed7953"
            ],
            [
             0.7777777777777778,
             "#fb9f3a"
            ],
            [
             0.8888888888888888,
             "#fdca26"
            ],
            [
             1,
             "#f0f921"
            ]
           ],
           "sequentialminus": [
            [
             0,
             "#0d0887"
            ],
            [
             0.1111111111111111,
             "#46039f"
            ],
            [
             0.2222222222222222,
             "#7201a8"
            ],
            [
             0.3333333333333333,
             "#9c179e"
            ],
            [
             0.4444444444444444,
             "#bd3786"
            ],
            [
             0.5555555555555556,
             "#d8576b"
            ],
            [
             0.6666666666666666,
             "#ed7953"
            ],
            [
             0.7777777777777778,
             "#fb9f3a"
            ],
            [
             0.8888888888888888,
             "#fdca26"
            ],
            [
             1,
             "#f0f921"
            ]
           ]
          },
          "colorway": [
           "#636efa",
           "#EF553B",
           "#00cc96",
           "#ab63fa",
           "#FFA15A",
           "#19d3f3",
           "#FF6692",
           "#B6E880",
           "#FF97FF",
           "#FECB52"
          ],
          "font": {
           "color": "#2a3f5f"
          },
          "geo": {
           "bgcolor": "white",
           "lakecolor": "white",
           "landcolor": "#E5ECF6",
           "showlakes": true,
           "showland": true,
           "subunitcolor": "white"
          },
          "hoverlabel": {
           "align": "left"
          },
          "hovermode": "closest",
          "mapbox": {
           "style": "light"
          },
          "paper_bgcolor": "white",
          "plot_bgcolor": "#E5ECF6",
          "polar": {
           "angularaxis": {
            "gridcolor": "white",
            "linecolor": "white",
            "ticks": ""
           },
           "bgcolor": "#E5ECF6",
           "radialaxis": {
            "gridcolor": "white",
            "linecolor": "white",
            "ticks": ""
           }
          },
          "scene": {
           "xaxis": {
            "backgroundcolor": "#E5ECF6",
            "gridcolor": "white",
            "gridwidth": 2,
            "linecolor": "white",
            "showbackground": true,
            "ticks": "",
            "zerolinecolor": "white"
           },
           "yaxis": {
            "backgroundcolor": "#E5ECF6",
            "gridcolor": "white",
            "gridwidth": 2,
            "linecolor": "white",
            "showbackground": true,
            "ticks": "",
            "zerolinecolor": "white"
           },
           "zaxis": {
            "backgroundcolor": "#E5ECF6",
            "gridcolor": "white",
            "gridwidth": 2,
            "linecolor": "white",
            "showbackground": true,
            "ticks": "",
            "zerolinecolor": "white"
           }
          },
          "shapedefaults": {
           "line": {
            "color": "#2a3f5f"
           }
          },
          "ternary": {
           "aaxis": {
            "gridcolor": "white",
            "linecolor": "white",
            "ticks": ""
           },
           "baxis": {
            "gridcolor": "white",
            "linecolor": "white",
            "ticks": ""
           },
           "bgcolor": "#E5ECF6",
           "caxis": {
            "gridcolor": "white",
            "linecolor": "white",
            "ticks": ""
           }
          },
          "title": {
           "x": 0.05
          },
          "xaxis": {
           "automargin": true,
           "gridcolor": "white",
           "linecolor": "white",
           "ticks": "",
           "title": {
            "standoff": 15
           },
           "zerolinecolor": "white",
           "zerolinewidth": 2
          },
          "yaxis": {
           "automargin": true,
           "gridcolor": "white",
           "linecolor": "white",
           "ticks": "",
           "title": {
            "standoff": 15
           },
           "zerolinecolor": "white",
           "zerolinewidth": 2
          }
         }
        },
        "width": 400,
        "xaxis": {
         "anchor": "y",
         "domain": [
          0,
          1
         ],
         "title": {
          "text": "x"
         }
        },
        "yaxis": {
         "anchor": "x",
         "domain": [
          0,
          1
         ],
         "title": {
          "text": "y"
         }
        }
       }
      },
      "text/html": [
       "<div>                            <div id=\"ed0faaf4-f2d8-4c56-9b66-6d4418467c4a\" class=\"plotly-graph-div\" style=\"height:500px; width:400px;\"></div>            <script type=\"text/javascript\">                require([\"plotly\"], function(Plotly) {                    window.PLOTLYENV=window.PLOTLYENV || {};                                    if (document.getElementById(\"ed0faaf4-f2d8-4c56-9b66-6d4418467c4a\")) {                    Plotly.newPlot(                        \"ed0faaf4-f2d8-4c56-9b66-6d4418467c4a\",                        [{\"alignmentgroup\":\"True\",\"hovertemplate\":\"x=%{x}<br>y=%{y}<extra></extra>\",\"legendgroup\":\"\",\"marker\":{\"color\":\"#636efa\",\"pattern\":{\"shape\":\"\"}},\"name\":\"\",\"offsetgroup\":\"\",\"orientation\":\"v\",\"showlegend\":false,\"textposition\":\"auto\",\"x\":[\"Com V\\u00edtimas Feridas\",\"Com V\\u00edtimas Fatais\",\"Sem V\\u00edtimas\"],\"xaxis\":\"x\",\"y\":[51183,4592,11671],\"yaxis\":\"y\",\"type\":\"bar\"}],                        {\"template\":{\"data\":{\"bar\":[{\"error_x\":{\"color\":\"#2a3f5f\"},\"error_y\":{\"color\":\"#2a3f5f\"},\"marker\":{\"line\":{\"color\":\"#E5ECF6\",\"width\":0.5},\"pattern\":{\"fillmode\":\"overlay\",\"size\":10,\"solidity\":0.2}},\"type\":\"bar\"}],\"barpolar\":[{\"marker\":{\"line\":{\"color\":\"#E5ECF6\",\"width\":0.5},\"pattern\":{\"fillmode\":\"overlay\",\"size\":10,\"solidity\":0.2}},\"type\":\"barpolar\"}],\"carpet\":[{\"aaxis\":{\"endlinecolor\":\"#2a3f5f\",\"gridcolor\":\"white\",\"linecolor\":\"white\",\"minorgridcolor\":\"white\",\"startlinecolor\":\"#2a3f5f\"},\"baxis\":{\"endlinecolor\":\"#2a3f5f\",\"gridcolor\":\"white\",\"linecolor\":\"white\",\"minorgridcolor\":\"white\",\"startlinecolor\":\"#2a3f5f\"},\"type\":\"carpet\"}],\"choropleth\":[{\"colorbar\":{\"outlinewidth\":0,\"ticks\":\"\"},\"type\":\"choropleth\"}],\"contour\":[{\"colorbar\":{\"outlinewidth\":0,\"ticks\":\"\"},\"colorscale\":[[0.0,\"#0d0887\"],[0.1111111111111111,\"#46039f\"],[0.2222222222222222,\"#7201a8\"],[0.3333333333333333,\"#9c179e\"],[0.4444444444444444,\"#bd3786\"],[0.5555555555555556,\"#d8576b\"],[0.6666666666666666,\"#ed7953\"],[0.7777777777777778,\"#fb9f3a\"],[0.8888888888888888,\"#fdca26\"],[1.0,\"#f0f921\"]],\"type\":\"contour\"}],\"contourcarpet\":[{\"colorbar\":{\"outlinewidth\":0,\"ticks\":\"\"},\"type\":\"contourcarpet\"}],\"heatmap\":[{\"colorbar\":{\"outlinewidth\":0,\"ticks\":\"\"},\"colorscale\":[[0.0,\"#0d0887\"],[0.1111111111111111,\"#46039f\"],[0.2222222222222222,\"#7201a8\"],[0.3333333333333333,\"#9c179e\"],[0.4444444444444444,\"#bd3786\"],[0.5555555555555556,\"#d8576b\"],[0.6666666666666666,\"#ed7953\"],[0.7777777777777778,\"#fb9f3a\"],[0.8888888888888888,\"#fdca26\"],[1.0,\"#f0f921\"]],\"type\":\"heatmap\"}],\"heatmapgl\":[{\"colorbar\":{\"outlinewidth\":0,\"ticks\":\"\"},\"colorscale\":[[0.0,\"#0d0887\"],[0.1111111111111111,\"#46039f\"],[0.2222222222222222,\"#7201a8\"],[0.3333333333333333,\"#9c179e\"],[0.4444444444444444,\"#bd3786\"],[0.5555555555555556,\"#d8576b\"],[0.6666666666666666,\"#ed7953\"],[0.7777777777777778,\"#fb9f3a\"],[0.8888888888888888,\"#fdca26\"],[1.0,\"#f0f921\"]],\"type\":\"heatmapgl\"}],\"histogram\":[{\"marker\":{\"pattern\":{\"fillmode\":\"overlay\",\"size\":10,\"solidity\":0.2}},\"type\":\"histogram\"}],\"histogram2d\":[{\"colorbar\":{\"outlinewidth\":0,\"ticks\":\"\"},\"colorscale\":[[0.0,\"#0d0887\"],[0.1111111111111111,\"#46039f\"],[0.2222222222222222,\"#7201a8\"],[0.3333333333333333,\"#9c179e\"],[0.4444444444444444,\"#bd3786\"],[0.5555555555555556,\"#d8576b\"],[0.6666666666666666,\"#ed7953\"],[0.7777777777777778,\"#fb9f3a\"],[0.8888888888888888,\"#fdca26\"],[1.0,\"#f0f921\"]],\"type\":\"histogram2d\"}],\"histogram2dcontour\":[{\"colorbar\":{\"outlinewidth\":0,\"ticks\":\"\"},\"colorscale\":[[0.0,\"#0d0887\"],[0.1111111111111111,\"#46039f\"],[0.2222222222222222,\"#7201a8\"],[0.3333333333333333,\"#9c179e\"],[0.4444444444444444,\"#bd3786\"],[0.5555555555555556,\"#d8576b\"],[0.6666666666666666,\"#ed7953\"],[0.7777777777777778,\"#fb9f3a\"],[0.8888888888888888,\"#fdca26\"],[1.0,\"#f0f921\"]],\"type\":\"histogram2dcontour\"}],\"mesh3d\":[{\"colorbar\":{\"outlinewidth\":0,\"ticks\":\"\"},\"type\":\"mesh3d\"}],\"parcoords\":[{\"line\":{\"colorbar\":{\"outlinewidth\":0,\"ticks\":\"\"}},\"type\":\"parcoords\"}],\"pie\":[{\"automargin\":true,\"type\":\"pie\"}],\"scatter\":[{\"marker\":{\"colorbar\":{\"outlinewidth\":0,\"ticks\":\"\"}},\"type\":\"scatter\"}],\"scatter3d\":[{\"line\":{\"colorbar\":{\"outlinewidth\":0,\"ticks\":\"\"}},\"marker\":{\"colorbar\":{\"outlinewidth\":0,\"ticks\":\"\"}},\"type\":\"scatter3d\"}],\"scattercarpet\":[{\"marker\":{\"colorbar\":{\"outlinewidth\":0,\"ticks\":\"\"}},\"type\":\"scattercarpet\"}],\"scattergeo\":[{\"marker\":{\"colorbar\":{\"outlinewidth\":0,\"ticks\":\"\"}},\"type\":\"scattergeo\"}],\"scattergl\":[{\"marker\":{\"colorbar\":{\"outlinewidth\":0,\"ticks\":\"\"}},\"type\":\"scattergl\"}],\"scattermapbox\":[{\"marker\":{\"colorbar\":{\"outlinewidth\":0,\"ticks\":\"\"}},\"type\":\"scattermapbox\"}],\"scatterpolar\":[{\"marker\":{\"colorbar\":{\"outlinewidth\":0,\"ticks\":\"\"}},\"type\":\"scatterpolar\"}],\"scatterpolargl\":[{\"marker\":{\"colorbar\":{\"outlinewidth\":0,\"ticks\":\"\"}},\"type\":\"scatterpolargl\"}],\"scatterternary\":[{\"marker\":{\"colorbar\":{\"outlinewidth\":0,\"ticks\":\"\"}},\"type\":\"scatterternary\"}],\"surface\":[{\"colorbar\":{\"outlinewidth\":0,\"ticks\":\"\"},\"colorscale\":[[0.0,\"#0d0887\"],[0.1111111111111111,\"#46039f\"],[0.2222222222222222,\"#7201a8\"],[0.3333333333333333,\"#9c179e\"],[0.4444444444444444,\"#bd3786\"],[0.5555555555555556,\"#d8576b\"],[0.6666666666666666,\"#ed7953\"],[0.7777777777777778,\"#fb9f3a\"],[0.8888888888888888,\"#fdca26\"],[1.0,\"#f0f921\"]],\"type\":\"surface\"}],\"table\":[{\"cells\":{\"fill\":{\"color\":\"#EBF0F8\"},\"line\":{\"color\":\"white\"}},\"header\":{\"fill\":{\"color\":\"#C8D4E3\"},\"line\":{\"color\":\"white\"}},\"type\":\"table\"}]},\"layout\":{\"annotationdefaults\":{\"arrowcolor\":\"#2a3f5f\",\"arrowhead\":0,\"arrowwidth\":1},\"autotypenumbers\":\"strict\",\"coloraxis\":{\"colorbar\":{\"outlinewidth\":0,\"ticks\":\"\"}},\"colorscale\":{\"diverging\":[[0,\"#8e0152\"],[0.1,\"#c51b7d\"],[0.2,\"#de77ae\"],[0.3,\"#f1b6da\"],[0.4,\"#fde0ef\"],[0.5,\"#f7f7f7\"],[0.6,\"#e6f5d0\"],[0.7,\"#b8e186\"],[0.8,\"#7fbc41\"],[0.9,\"#4d9221\"],[1,\"#276419\"]],\"sequential\":[[0.0,\"#0d0887\"],[0.1111111111111111,\"#46039f\"],[0.2222222222222222,\"#7201a8\"],[0.3333333333333333,\"#9c179e\"],[0.4444444444444444,\"#bd3786\"],[0.5555555555555556,\"#d8576b\"],[0.6666666666666666,\"#ed7953\"],[0.7777777777777778,\"#fb9f3a\"],[0.8888888888888888,\"#fdca26\"],[1.0,\"#f0f921\"]],\"sequentialminus\":[[0.0,\"#0d0887\"],[0.1111111111111111,\"#46039f\"],[0.2222222222222222,\"#7201a8\"],[0.3333333333333333,\"#9c179e\"],[0.4444444444444444,\"#bd3786\"],[0.5555555555555556,\"#d8576b\"],[0.6666666666666666,\"#ed7953\"],[0.7777777777777778,\"#fb9f3a\"],[0.8888888888888888,\"#fdca26\"],[1.0,\"#f0f921\"]]},\"colorway\":[\"#636efa\",\"#EF553B\",\"#00cc96\",\"#ab63fa\",\"#FFA15A\",\"#19d3f3\",\"#FF6692\",\"#B6E880\",\"#FF97FF\",\"#FECB52\"],\"font\":{\"color\":\"#2a3f5f\"},\"geo\":{\"bgcolor\":\"white\",\"lakecolor\":\"white\",\"landcolor\":\"#E5ECF6\",\"showlakes\":true,\"showland\":true,\"subunitcolor\":\"white\"},\"hoverlabel\":{\"align\":\"left\"},\"hovermode\":\"closest\",\"mapbox\":{\"style\":\"light\"},\"paper_bgcolor\":\"white\",\"plot_bgcolor\":\"#E5ECF6\",\"polar\":{\"angularaxis\":{\"gridcolor\":\"white\",\"linecolor\":\"white\",\"ticks\":\"\"},\"bgcolor\":\"#E5ECF6\",\"radialaxis\":{\"gridcolor\":\"white\",\"linecolor\":\"white\",\"ticks\":\"\"}},\"scene\":{\"xaxis\":{\"backgroundcolor\":\"#E5ECF6\",\"gridcolor\":\"white\",\"gridwidth\":2,\"linecolor\":\"white\",\"showbackground\":true,\"ticks\":\"\",\"zerolinecolor\":\"white\"},\"yaxis\":{\"backgroundcolor\":\"#E5ECF6\",\"gridcolor\":\"white\",\"gridwidth\":2,\"linecolor\":\"white\",\"showbackground\":true,\"ticks\":\"\",\"zerolinecolor\":\"white\"},\"zaxis\":{\"backgroundcolor\":\"#E5ECF6\",\"gridcolor\":\"white\",\"gridwidth\":2,\"linecolor\":\"white\",\"showbackground\":true,\"ticks\":\"\",\"zerolinecolor\":\"white\"}},\"shapedefaults\":{\"line\":{\"color\":\"#2a3f5f\"}},\"ternary\":{\"aaxis\":{\"gridcolor\":\"white\",\"linecolor\":\"white\",\"ticks\":\"\"},\"baxis\":{\"gridcolor\":\"white\",\"linecolor\":\"white\",\"ticks\":\"\"},\"bgcolor\":\"#E5ECF6\",\"caxis\":{\"gridcolor\":\"white\",\"linecolor\":\"white\",\"ticks\":\"\"}},\"title\":{\"x\":0.05},\"xaxis\":{\"automargin\":true,\"gridcolor\":\"white\",\"linecolor\":\"white\",\"ticks\":\"\",\"title\":{\"standoff\":15},\"zerolinecolor\":\"white\",\"zerolinewidth\":2},\"yaxis\":{\"automargin\":true,\"gridcolor\":\"white\",\"linecolor\":\"white\",\"ticks\":\"\",\"title\":{\"standoff\":15},\"zerolinecolor\":\"white\",\"zerolinewidth\":2}}},\"xaxis\":{\"anchor\":\"y\",\"domain\":[0.0,1.0],\"title\":{\"text\":\"x\"}},\"yaxis\":{\"anchor\":\"x\",\"domain\":[0.0,1.0],\"title\":{\"text\":\"y\"}},\"legend\":{\"tracegroupgap\":0},\"margin\":{\"t\":60},\"barmode\":\"relative\",\"height\":500,\"width\":400},                        {\"responsive\": true}                    ).then(function(){\n",
       "                            \n",
       "var gd = document.getElementById('ed0faaf4-f2d8-4c56-9b66-6d4418467c4a');\n",
       "var x = new MutationObserver(function (mutations, observer) {{\n",
       "        var display = window.getComputedStyle(gd).display;\n",
       "        if (!display || display === 'none') {{\n",
       "            console.log([gd, 'removed!']);\n",
       "            Plotly.purge(gd);\n",
       "            observer.disconnect();\n",
       "        }}\n",
       "}});\n",
       "\n",
       "// Listen for the removal of the full notebook cells\n",
       "var notebookContainer = gd.closest('#notebook-container');\n",
       "if (notebookContainer) {{\n",
       "    x.observe(notebookContainer, {childList: true});\n",
       "}}\n",
       "\n",
       "// Listen for the clearing of the current output cell\n",
       "var outputEl = gd.closest('.output');\n",
       "if (outputEl) {{\n",
       "    x.observe(outputEl, {childList: true});\n",
       "}}\n",
       "\n",
       "                        })                };                });            </script>        </div>"
      ]
     },
     "metadata": {},
     "output_type": "display_data"
    }
   ],
   "source": [
    "#lib plot > barras vertical\n",
    "#gráfico interativo\n",
    "\n",
    "dados_x= ['Com Vítimas Feridas', 'Com Vítimas Fatais', 'Sem Vítimas' ]\n",
    "dados_y= [51183, 4592, 11671]\n",
    "\n",
    "fig = px.bar(x=dados_x, y=dados_y, width=400, height=500)\n",
    "fig.show()"
   ]
  },
  {
   "cell_type": "code",
   "execution_count": 53,
   "id": "4ad9a8e7",
   "metadata": {},
   "outputs": [
    {
     "data": {
      "application/vnd.plotly.v1+json": {
       "config": {
        "plotlyServerURL": "https://plot.ly"
       },
       "data": [
        {
         "hovertemplate": "x=%{x}<br>y=%{y}<extra></extra>",
         "legendgroup": "",
         "line": {
          "color": "#636efa",
          "dash": "solid"
         },
         "marker": {
          "symbol": "circle"
         },
         "mode": "lines",
         "name": "",
         "orientation": "v",
         "showlegend": false,
         "type": "scatter",
         "x": [
          "Com Vítimas Feridas",
          "Com Vítimas Fatais",
          "Sem Vítimas"
         ],
         "xaxis": "x",
         "y": [
          51183,
          4592,
          11671
         ],
         "yaxis": "y"
        }
       ],
       "layout": {
        "height": 300,
        "legend": {
         "tracegroupgap": 0
        },
        "template": {
         "data": {
          "bar": [
           {
            "error_x": {
             "color": "#2a3f5f"
            },
            "error_y": {
             "color": "#2a3f5f"
            },
            "marker": {
             "line": {
              "color": "#E5ECF6",
              "width": 0.5
             },
             "pattern": {
              "fillmode": "overlay",
              "size": 10,
              "solidity": 0.2
             }
            },
            "type": "bar"
           }
          ],
          "barpolar": [
           {
            "marker": {
             "line": {
              "color": "#E5ECF6",
              "width": 0.5
             },
             "pattern": {
              "fillmode": "overlay",
              "size": 10,
              "solidity": 0.2
             }
            },
            "type": "barpolar"
           }
          ],
          "carpet": [
           {
            "aaxis": {
             "endlinecolor": "#2a3f5f",
             "gridcolor": "white",
             "linecolor": "white",
             "minorgridcolor": "white",
             "startlinecolor": "#2a3f5f"
            },
            "baxis": {
             "endlinecolor": "#2a3f5f",
             "gridcolor": "white",
             "linecolor": "white",
             "minorgridcolor": "white",
             "startlinecolor": "#2a3f5f"
            },
            "type": "carpet"
           }
          ],
          "choropleth": [
           {
            "colorbar": {
             "outlinewidth": 0,
             "ticks": ""
            },
            "type": "choropleth"
           }
          ],
          "contour": [
           {
            "colorbar": {
             "outlinewidth": 0,
             "ticks": ""
            },
            "colorscale": [
             [
              0,
              "#0d0887"
             ],
             [
              0.1111111111111111,
              "#46039f"
             ],
             [
              0.2222222222222222,
              "#7201a8"
             ],
             [
              0.3333333333333333,
              "#9c179e"
             ],
             [
              0.4444444444444444,
              "#bd3786"
             ],
             [
              0.5555555555555556,
              "#d8576b"
             ],
             [
              0.6666666666666666,
              "#ed7953"
             ],
             [
              0.7777777777777778,
              "#fb9f3a"
             ],
             [
              0.8888888888888888,
              "#fdca26"
             ],
             [
              1,
              "#f0f921"
             ]
            ],
            "type": "contour"
           }
          ],
          "contourcarpet": [
           {
            "colorbar": {
             "outlinewidth": 0,
             "ticks": ""
            },
            "type": "contourcarpet"
           }
          ],
          "heatmap": [
           {
            "colorbar": {
             "outlinewidth": 0,
             "ticks": ""
            },
            "colorscale": [
             [
              0,
              "#0d0887"
             ],
             [
              0.1111111111111111,
              "#46039f"
             ],
             [
              0.2222222222222222,
              "#7201a8"
             ],
             [
              0.3333333333333333,
              "#9c179e"
             ],
             [
              0.4444444444444444,
              "#bd3786"
             ],
             [
              0.5555555555555556,
              "#d8576b"
             ],
             [
              0.6666666666666666,
              "#ed7953"
             ],
             [
              0.7777777777777778,
              "#fb9f3a"
             ],
             [
              0.8888888888888888,
              "#fdca26"
             ],
             [
              1,
              "#f0f921"
             ]
            ],
            "type": "heatmap"
           }
          ],
          "heatmapgl": [
           {
            "colorbar": {
             "outlinewidth": 0,
             "ticks": ""
            },
            "colorscale": [
             [
              0,
              "#0d0887"
             ],
             [
              0.1111111111111111,
              "#46039f"
             ],
             [
              0.2222222222222222,
              "#7201a8"
             ],
             [
              0.3333333333333333,
              "#9c179e"
             ],
             [
              0.4444444444444444,
              "#bd3786"
             ],
             [
              0.5555555555555556,
              "#d8576b"
             ],
             [
              0.6666666666666666,
              "#ed7953"
             ],
             [
              0.7777777777777778,
              "#fb9f3a"
             ],
             [
              0.8888888888888888,
              "#fdca26"
             ],
             [
              1,
              "#f0f921"
             ]
            ],
            "type": "heatmapgl"
           }
          ],
          "histogram": [
           {
            "marker": {
             "pattern": {
              "fillmode": "overlay",
              "size": 10,
              "solidity": 0.2
             }
            },
            "type": "histogram"
           }
          ],
          "histogram2d": [
           {
            "colorbar": {
             "outlinewidth": 0,
             "ticks": ""
            },
            "colorscale": [
             [
              0,
              "#0d0887"
             ],
             [
              0.1111111111111111,
              "#46039f"
             ],
             [
              0.2222222222222222,
              "#7201a8"
             ],
             [
              0.3333333333333333,
              "#9c179e"
             ],
             [
              0.4444444444444444,
              "#bd3786"
             ],
             [
              0.5555555555555556,
              "#d8576b"
             ],
             [
              0.6666666666666666,
              "#ed7953"
             ],
             [
              0.7777777777777778,
              "#fb9f3a"
             ],
             [
              0.8888888888888888,
              "#fdca26"
             ],
             [
              1,
              "#f0f921"
             ]
            ],
            "type": "histogram2d"
           }
          ],
          "histogram2dcontour": [
           {
            "colorbar": {
             "outlinewidth": 0,
             "ticks": ""
            },
            "colorscale": [
             [
              0,
              "#0d0887"
             ],
             [
              0.1111111111111111,
              "#46039f"
             ],
             [
              0.2222222222222222,
              "#7201a8"
             ],
             [
              0.3333333333333333,
              "#9c179e"
             ],
             [
              0.4444444444444444,
              "#bd3786"
             ],
             [
              0.5555555555555556,
              "#d8576b"
             ],
             [
              0.6666666666666666,
              "#ed7953"
             ],
             [
              0.7777777777777778,
              "#fb9f3a"
             ],
             [
              0.8888888888888888,
              "#fdca26"
             ],
             [
              1,
              "#f0f921"
             ]
            ],
            "type": "histogram2dcontour"
           }
          ],
          "mesh3d": [
           {
            "colorbar": {
             "outlinewidth": 0,
             "ticks": ""
            },
            "type": "mesh3d"
           }
          ],
          "parcoords": [
           {
            "line": {
             "colorbar": {
              "outlinewidth": 0,
              "ticks": ""
             }
            },
            "type": "parcoords"
           }
          ],
          "pie": [
           {
            "automargin": true,
            "type": "pie"
           }
          ],
          "scatter": [
           {
            "marker": {
             "colorbar": {
              "outlinewidth": 0,
              "ticks": ""
             }
            },
            "type": "scatter"
           }
          ],
          "scatter3d": [
           {
            "line": {
             "colorbar": {
              "outlinewidth": 0,
              "ticks": ""
             }
            },
            "marker": {
             "colorbar": {
              "outlinewidth": 0,
              "ticks": ""
             }
            },
            "type": "scatter3d"
           }
          ],
          "scattercarpet": [
           {
            "marker": {
             "colorbar": {
              "outlinewidth": 0,
              "ticks": ""
             }
            },
            "type": "scattercarpet"
           }
          ],
          "scattergeo": [
           {
            "marker": {
             "colorbar": {
              "outlinewidth": 0,
              "ticks": ""
             }
            },
            "type": "scattergeo"
           }
          ],
          "scattergl": [
           {
            "marker": {
             "colorbar": {
              "outlinewidth": 0,
              "ticks": ""
             }
            },
            "type": "scattergl"
           }
          ],
          "scattermapbox": [
           {
            "marker": {
             "colorbar": {
              "outlinewidth": 0,
              "ticks": ""
             }
            },
            "type": "scattermapbox"
           }
          ],
          "scatterpolar": [
           {
            "marker": {
             "colorbar": {
              "outlinewidth": 0,
              "ticks": ""
             }
            },
            "type": "scatterpolar"
           }
          ],
          "scatterpolargl": [
           {
            "marker": {
             "colorbar": {
              "outlinewidth": 0,
              "ticks": ""
             }
            },
            "type": "scatterpolargl"
           }
          ],
          "scatterternary": [
           {
            "marker": {
             "colorbar": {
              "outlinewidth": 0,
              "ticks": ""
             }
            },
            "type": "scatterternary"
           }
          ],
          "surface": [
           {
            "colorbar": {
             "outlinewidth": 0,
             "ticks": ""
            },
            "colorscale": [
             [
              0,
              "#0d0887"
             ],
             [
              0.1111111111111111,
              "#46039f"
             ],
             [
              0.2222222222222222,
              "#7201a8"
             ],
             [
              0.3333333333333333,
              "#9c179e"
             ],
             [
              0.4444444444444444,
              "#bd3786"
             ],
             [
              0.5555555555555556,
              "#d8576b"
             ],
             [
              0.6666666666666666,
              "#ed7953"
             ],
             [
              0.7777777777777778,
              "#fb9f3a"
             ],
             [
              0.8888888888888888,
              "#fdca26"
             ],
             [
              1,
              "#f0f921"
             ]
            ],
            "type": "surface"
           }
          ],
          "table": [
           {
            "cells": {
             "fill": {
              "color": "#EBF0F8"
             },
             "line": {
              "color": "white"
             }
            },
            "header": {
             "fill": {
              "color": "#C8D4E3"
             },
             "line": {
              "color": "white"
             }
            },
            "type": "table"
           }
          ]
         },
         "layout": {
          "annotationdefaults": {
           "arrowcolor": "#2a3f5f",
           "arrowhead": 0,
           "arrowwidth": 1
          },
          "autotypenumbers": "strict",
          "coloraxis": {
           "colorbar": {
            "outlinewidth": 0,
            "ticks": ""
           }
          },
          "colorscale": {
           "diverging": [
            [
             0,
             "#8e0152"
            ],
            [
             0.1,
             "#c51b7d"
            ],
            [
             0.2,
             "#de77ae"
            ],
            [
             0.3,
             "#f1b6da"
            ],
            [
             0.4,
             "#fde0ef"
            ],
            [
             0.5,
             "#f7f7f7"
            ],
            [
             0.6,
             "#e6f5d0"
            ],
            [
             0.7,
             "#b8e186"
            ],
            [
             0.8,
             "#7fbc41"
            ],
            [
             0.9,
             "#4d9221"
            ],
            [
             1,
             "#276419"
            ]
           ],
           "sequential": [
            [
             0,
             "#0d0887"
            ],
            [
             0.1111111111111111,
             "#46039f"
            ],
            [
             0.2222222222222222,
             "#7201a8"
            ],
            [
             0.3333333333333333,
             "#9c179e"
            ],
            [
             0.4444444444444444,
             "#bd3786"
            ],
            [
             0.5555555555555556,
             "#d8576b"
            ],
            [
             0.6666666666666666,
             "#ed7953"
            ],
            [
             0.7777777777777778,
             "#fb9f3a"
            ],
            [
             0.8888888888888888,
             "#fdca26"
            ],
            [
             1,
             "#f0f921"
            ]
           ],
           "sequentialminus": [
            [
             0,
             "#0d0887"
            ],
            [
             0.1111111111111111,
             "#46039f"
            ],
            [
             0.2222222222222222,
             "#7201a8"
            ],
            [
             0.3333333333333333,
             "#9c179e"
            ],
            [
             0.4444444444444444,
             "#bd3786"
            ],
            [
             0.5555555555555556,
             "#d8576b"
            ],
            [
             0.6666666666666666,
             "#ed7953"
            ],
            [
             0.7777777777777778,
             "#fb9f3a"
            ],
            [
             0.8888888888888888,
             "#fdca26"
            ],
            [
             1,
             "#f0f921"
            ]
           ]
          },
          "colorway": [
           "#636efa",
           "#EF553B",
           "#00cc96",
           "#ab63fa",
           "#FFA15A",
           "#19d3f3",
           "#FF6692",
           "#B6E880",
           "#FF97FF",
           "#FECB52"
          ],
          "font": {
           "color": "#2a3f5f"
          },
          "geo": {
           "bgcolor": "white",
           "lakecolor": "white",
           "landcolor": "#E5ECF6",
           "showlakes": true,
           "showland": true,
           "subunitcolor": "white"
          },
          "hoverlabel": {
           "align": "left"
          },
          "hovermode": "closest",
          "mapbox": {
           "style": "light"
          },
          "paper_bgcolor": "white",
          "plot_bgcolor": "#E5ECF6",
          "polar": {
           "angularaxis": {
            "gridcolor": "white",
            "linecolor": "white",
            "ticks": ""
           },
           "bgcolor": "#E5ECF6",
           "radialaxis": {
            "gridcolor": "white",
            "linecolor": "white",
            "ticks": ""
           }
          },
          "scene": {
           "xaxis": {
            "backgroundcolor": "#E5ECF6",
            "gridcolor": "white",
            "gridwidth": 2,
            "linecolor": "white",
            "showbackground": true,
            "ticks": "",
            "zerolinecolor": "white"
           },
           "yaxis": {
            "backgroundcolor": "#E5ECF6",
            "gridcolor": "white",
            "gridwidth": 2,
            "linecolor": "white",
            "showbackground": true,
            "ticks": "",
            "zerolinecolor": "white"
           },
           "zaxis": {
            "backgroundcolor": "#E5ECF6",
            "gridcolor": "white",
            "gridwidth": 2,
            "linecolor": "white",
            "showbackground": true,
            "ticks": "",
            "zerolinecolor": "white"
           }
          },
          "shapedefaults": {
           "line": {
            "color": "#2a3f5f"
           }
          },
          "ternary": {
           "aaxis": {
            "gridcolor": "white",
            "linecolor": "white",
            "ticks": ""
           },
           "baxis": {
            "gridcolor": "white",
            "linecolor": "white",
            "ticks": ""
           },
           "bgcolor": "#E5ECF6",
           "caxis": {
            "gridcolor": "white",
            "linecolor": "white",
            "ticks": ""
           }
          },
          "title": {
           "x": 0.05
          },
          "xaxis": {
           "automargin": true,
           "gridcolor": "white",
           "linecolor": "white",
           "ticks": "",
           "title": {
            "standoff": 15
           },
           "zerolinecolor": "white",
           "zerolinewidth": 2
          },
          "yaxis": {
           "automargin": true,
           "gridcolor": "white",
           "linecolor": "white",
           "ticks": "",
           "title": {
            "standoff": 15
           },
           "zerolinecolor": "white",
           "zerolinewidth": 2
          }
         }
        },
        "title": {
         "text": "Acidentes por tipo em 2019"
        },
        "width": 700,
        "xaxis": {
         "anchor": "y",
         "domain": [
          0,
          1
         ],
         "title": {
          "text": "x"
         }
        },
        "yaxis": {
         "anchor": "x",
         "domain": [
          0,
          1
         ],
         "title": {
          "text": "Qtd"
         }
        }
       }
      },
      "text/html": [
       "<div>                            <div id=\"f503d147-1616-4487-8f9e-3e0b01eeaad7\" class=\"plotly-graph-div\" style=\"height:300px; width:700px;\"></div>            <script type=\"text/javascript\">                require([\"plotly\"], function(Plotly) {                    window.PLOTLYENV=window.PLOTLYENV || {};                                    if (document.getElementById(\"f503d147-1616-4487-8f9e-3e0b01eeaad7\")) {                    Plotly.newPlot(                        \"f503d147-1616-4487-8f9e-3e0b01eeaad7\",                        [{\"hovertemplate\":\"x=%{x}<br>y=%{y}<extra></extra>\",\"legendgroup\":\"\",\"line\":{\"color\":\"#636efa\",\"dash\":\"solid\"},\"marker\":{\"symbol\":\"circle\"},\"mode\":\"lines\",\"name\":\"\",\"orientation\":\"v\",\"showlegend\":false,\"x\":[\"Com V\\u00edtimas Feridas\",\"Com V\\u00edtimas Fatais\",\"Sem V\\u00edtimas\"],\"xaxis\":\"x\",\"y\":[51183,4592,11671],\"yaxis\":\"y\",\"type\":\"scatter\"}],                        {\"template\":{\"data\":{\"bar\":[{\"error_x\":{\"color\":\"#2a3f5f\"},\"error_y\":{\"color\":\"#2a3f5f\"},\"marker\":{\"line\":{\"color\":\"#E5ECF6\",\"width\":0.5},\"pattern\":{\"fillmode\":\"overlay\",\"size\":10,\"solidity\":0.2}},\"type\":\"bar\"}],\"barpolar\":[{\"marker\":{\"line\":{\"color\":\"#E5ECF6\",\"width\":0.5},\"pattern\":{\"fillmode\":\"overlay\",\"size\":10,\"solidity\":0.2}},\"type\":\"barpolar\"}],\"carpet\":[{\"aaxis\":{\"endlinecolor\":\"#2a3f5f\",\"gridcolor\":\"white\",\"linecolor\":\"white\",\"minorgridcolor\":\"white\",\"startlinecolor\":\"#2a3f5f\"},\"baxis\":{\"endlinecolor\":\"#2a3f5f\",\"gridcolor\":\"white\",\"linecolor\":\"white\",\"minorgridcolor\":\"white\",\"startlinecolor\":\"#2a3f5f\"},\"type\":\"carpet\"}],\"choropleth\":[{\"colorbar\":{\"outlinewidth\":0,\"ticks\":\"\"},\"type\":\"choropleth\"}],\"contour\":[{\"colorbar\":{\"outlinewidth\":0,\"ticks\":\"\"},\"colorscale\":[[0.0,\"#0d0887\"],[0.1111111111111111,\"#46039f\"],[0.2222222222222222,\"#7201a8\"],[0.3333333333333333,\"#9c179e\"],[0.4444444444444444,\"#bd3786\"],[0.5555555555555556,\"#d8576b\"],[0.6666666666666666,\"#ed7953\"],[0.7777777777777778,\"#fb9f3a\"],[0.8888888888888888,\"#fdca26\"],[1.0,\"#f0f921\"]],\"type\":\"contour\"}],\"contourcarpet\":[{\"colorbar\":{\"outlinewidth\":0,\"ticks\":\"\"},\"type\":\"contourcarpet\"}],\"heatmap\":[{\"colorbar\":{\"outlinewidth\":0,\"ticks\":\"\"},\"colorscale\":[[0.0,\"#0d0887\"],[0.1111111111111111,\"#46039f\"],[0.2222222222222222,\"#7201a8\"],[0.3333333333333333,\"#9c179e\"],[0.4444444444444444,\"#bd3786\"],[0.5555555555555556,\"#d8576b\"],[0.6666666666666666,\"#ed7953\"],[0.7777777777777778,\"#fb9f3a\"],[0.8888888888888888,\"#fdca26\"],[1.0,\"#f0f921\"]],\"type\":\"heatmap\"}],\"heatmapgl\":[{\"colorbar\":{\"outlinewidth\":0,\"ticks\":\"\"},\"colorscale\":[[0.0,\"#0d0887\"],[0.1111111111111111,\"#46039f\"],[0.2222222222222222,\"#7201a8\"],[0.3333333333333333,\"#9c179e\"],[0.4444444444444444,\"#bd3786\"],[0.5555555555555556,\"#d8576b\"],[0.6666666666666666,\"#ed7953\"],[0.7777777777777778,\"#fb9f3a\"],[0.8888888888888888,\"#fdca26\"],[1.0,\"#f0f921\"]],\"type\":\"heatmapgl\"}],\"histogram\":[{\"marker\":{\"pattern\":{\"fillmode\":\"overlay\",\"size\":10,\"solidity\":0.2}},\"type\":\"histogram\"}],\"histogram2d\":[{\"colorbar\":{\"outlinewidth\":0,\"ticks\":\"\"},\"colorscale\":[[0.0,\"#0d0887\"],[0.1111111111111111,\"#46039f\"],[0.2222222222222222,\"#7201a8\"],[0.3333333333333333,\"#9c179e\"],[0.4444444444444444,\"#bd3786\"],[0.5555555555555556,\"#d8576b\"],[0.6666666666666666,\"#ed7953\"],[0.7777777777777778,\"#fb9f3a\"],[0.8888888888888888,\"#fdca26\"],[1.0,\"#f0f921\"]],\"type\":\"histogram2d\"}],\"histogram2dcontour\":[{\"colorbar\":{\"outlinewidth\":0,\"ticks\":\"\"},\"colorscale\":[[0.0,\"#0d0887\"],[0.1111111111111111,\"#46039f\"],[0.2222222222222222,\"#7201a8\"],[0.3333333333333333,\"#9c179e\"],[0.4444444444444444,\"#bd3786\"],[0.5555555555555556,\"#d8576b\"],[0.6666666666666666,\"#ed7953\"],[0.7777777777777778,\"#fb9f3a\"],[0.8888888888888888,\"#fdca26\"],[1.0,\"#f0f921\"]],\"type\":\"histogram2dcontour\"}],\"mesh3d\":[{\"colorbar\":{\"outlinewidth\":0,\"ticks\":\"\"},\"type\":\"mesh3d\"}],\"parcoords\":[{\"line\":{\"colorbar\":{\"outlinewidth\":0,\"ticks\":\"\"}},\"type\":\"parcoords\"}],\"pie\":[{\"automargin\":true,\"type\":\"pie\"}],\"scatter\":[{\"marker\":{\"colorbar\":{\"outlinewidth\":0,\"ticks\":\"\"}},\"type\":\"scatter\"}],\"scatter3d\":[{\"line\":{\"colorbar\":{\"outlinewidth\":0,\"ticks\":\"\"}},\"marker\":{\"colorbar\":{\"outlinewidth\":0,\"ticks\":\"\"}},\"type\":\"scatter3d\"}],\"scattercarpet\":[{\"marker\":{\"colorbar\":{\"outlinewidth\":0,\"ticks\":\"\"}},\"type\":\"scattercarpet\"}],\"scattergeo\":[{\"marker\":{\"colorbar\":{\"outlinewidth\":0,\"ticks\":\"\"}},\"type\":\"scattergeo\"}],\"scattergl\":[{\"marker\":{\"colorbar\":{\"outlinewidth\":0,\"ticks\":\"\"}},\"type\":\"scattergl\"}],\"scattermapbox\":[{\"marker\":{\"colorbar\":{\"outlinewidth\":0,\"ticks\":\"\"}},\"type\":\"scattermapbox\"}],\"scatterpolar\":[{\"marker\":{\"colorbar\":{\"outlinewidth\":0,\"ticks\":\"\"}},\"type\":\"scatterpolar\"}],\"scatterpolargl\":[{\"marker\":{\"colorbar\":{\"outlinewidth\":0,\"ticks\":\"\"}},\"type\":\"scatterpolargl\"}],\"scatterternary\":[{\"marker\":{\"colorbar\":{\"outlinewidth\":0,\"ticks\":\"\"}},\"type\":\"scatterternary\"}],\"surface\":[{\"colorbar\":{\"outlinewidth\":0,\"ticks\":\"\"},\"colorscale\":[[0.0,\"#0d0887\"],[0.1111111111111111,\"#46039f\"],[0.2222222222222222,\"#7201a8\"],[0.3333333333333333,\"#9c179e\"],[0.4444444444444444,\"#bd3786\"],[0.5555555555555556,\"#d8576b\"],[0.6666666666666666,\"#ed7953\"],[0.7777777777777778,\"#fb9f3a\"],[0.8888888888888888,\"#fdca26\"],[1.0,\"#f0f921\"]],\"type\":\"surface\"}],\"table\":[{\"cells\":{\"fill\":{\"color\":\"#EBF0F8\"},\"line\":{\"color\":\"white\"}},\"header\":{\"fill\":{\"color\":\"#C8D4E3\"},\"line\":{\"color\":\"white\"}},\"type\":\"table\"}]},\"layout\":{\"annotationdefaults\":{\"arrowcolor\":\"#2a3f5f\",\"arrowhead\":0,\"arrowwidth\":1},\"autotypenumbers\":\"strict\",\"coloraxis\":{\"colorbar\":{\"outlinewidth\":0,\"ticks\":\"\"}},\"colorscale\":{\"diverging\":[[0,\"#8e0152\"],[0.1,\"#c51b7d\"],[0.2,\"#de77ae\"],[0.3,\"#f1b6da\"],[0.4,\"#fde0ef\"],[0.5,\"#f7f7f7\"],[0.6,\"#e6f5d0\"],[0.7,\"#b8e186\"],[0.8,\"#7fbc41\"],[0.9,\"#4d9221\"],[1,\"#276419\"]],\"sequential\":[[0.0,\"#0d0887\"],[0.1111111111111111,\"#46039f\"],[0.2222222222222222,\"#7201a8\"],[0.3333333333333333,\"#9c179e\"],[0.4444444444444444,\"#bd3786\"],[0.5555555555555556,\"#d8576b\"],[0.6666666666666666,\"#ed7953\"],[0.7777777777777778,\"#fb9f3a\"],[0.8888888888888888,\"#fdca26\"],[1.0,\"#f0f921\"]],\"sequentialminus\":[[0.0,\"#0d0887\"],[0.1111111111111111,\"#46039f\"],[0.2222222222222222,\"#7201a8\"],[0.3333333333333333,\"#9c179e\"],[0.4444444444444444,\"#bd3786\"],[0.5555555555555556,\"#d8576b\"],[0.6666666666666666,\"#ed7953\"],[0.7777777777777778,\"#fb9f3a\"],[0.8888888888888888,\"#fdca26\"],[1.0,\"#f0f921\"]]},\"colorway\":[\"#636efa\",\"#EF553B\",\"#00cc96\",\"#ab63fa\",\"#FFA15A\",\"#19d3f3\",\"#FF6692\",\"#B6E880\",\"#FF97FF\",\"#FECB52\"],\"font\":{\"color\":\"#2a3f5f\"},\"geo\":{\"bgcolor\":\"white\",\"lakecolor\":\"white\",\"landcolor\":\"#E5ECF6\",\"showlakes\":true,\"showland\":true,\"subunitcolor\":\"white\"},\"hoverlabel\":{\"align\":\"left\"},\"hovermode\":\"closest\",\"mapbox\":{\"style\":\"light\"},\"paper_bgcolor\":\"white\",\"plot_bgcolor\":\"#E5ECF6\",\"polar\":{\"angularaxis\":{\"gridcolor\":\"white\",\"linecolor\":\"white\",\"ticks\":\"\"},\"bgcolor\":\"#E5ECF6\",\"radialaxis\":{\"gridcolor\":\"white\",\"linecolor\":\"white\",\"ticks\":\"\"}},\"scene\":{\"xaxis\":{\"backgroundcolor\":\"#E5ECF6\",\"gridcolor\":\"white\",\"gridwidth\":2,\"linecolor\":\"white\",\"showbackground\":true,\"ticks\":\"\",\"zerolinecolor\":\"white\"},\"yaxis\":{\"backgroundcolor\":\"#E5ECF6\",\"gridcolor\":\"white\",\"gridwidth\":2,\"linecolor\":\"white\",\"showbackground\":true,\"ticks\":\"\",\"zerolinecolor\":\"white\"},\"zaxis\":{\"backgroundcolor\":\"#E5ECF6\",\"gridcolor\":\"white\",\"gridwidth\":2,\"linecolor\":\"white\",\"showbackground\":true,\"ticks\":\"\",\"zerolinecolor\":\"white\"}},\"shapedefaults\":{\"line\":{\"color\":\"#2a3f5f\"}},\"ternary\":{\"aaxis\":{\"gridcolor\":\"white\",\"linecolor\":\"white\",\"ticks\":\"\"},\"baxis\":{\"gridcolor\":\"white\",\"linecolor\":\"white\",\"ticks\":\"\"},\"bgcolor\":\"#E5ECF6\",\"caxis\":{\"gridcolor\":\"white\",\"linecolor\":\"white\",\"ticks\":\"\"}},\"title\":{\"x\":0.05},\"xaxis\":{\"automargin\":true,\"gridcolor\":\"white\",\"linecolor\":\"white\",\"ticks\":\"\",\"title\":{\"standoff\":15},\"zerolinecolor\":\"white\",\"zerolinewidth\":2},\"yaxis\":{\"automargin\":true,\"gridcolor\":\"white\",\"linecolor\":\"white\",\"ticks\":\"\",\"title\":{\"standoff\":15},\"zerolinecolor\":\"white\",\"zerolinewidth\":2}}},\"xaxis\":{\"anchor\":\"y\",\"domain\":[0.0,1.0],\"title\":{\"text\":\"x\"}},\"yaxis\":{\"anchor\":\"x\",\"domain\":[0.0,1.0],\"title\":{\"text\":\"Qtd\"}},\"legend\":{\"tracegroupgap\":0},\"title\":{\"text\":\"Acidentes por tipo em 2019\"},\"height\":300,\"width\":700},                        {\"responsive\": true}                    ).then(function(){\n",
       "                            \n",
       "var gd = document.getElementById('f503d147-1616-4487-8f9e-3e0b01eeaad7');\n",
       "var x = new MutationObserver(function (mutations, observer) {{\n",
       "        var display = window.getComputedStyle(gd).display;\n",
       "        if (!display || display === 'none') {{\n",
       "            console.log([gd, 'removed!']);\n",
       "            Plotly.purge(gd);\n",
       "            observer.disconnect();\n",
       "        }}\n",
       "}});\n",
       "\n",
       "// Listen for the removal of the full notebook cells\n",
       "var notebookContainer = gd.closest('#notebook-container');\n",
       "if (notebookContainer) {{\n",
       "    x.observe(notebookContainer, {childList: true});\n",
       "}}\n",
       "\n",
       "// Listen for the clearing of the current output cell\n",
       "var outputEl = gd.closest('.output');\n",
       "if (outputEl) {{\n",
       "    x.observe(outputEl, {childList: true});\n",
       "}}\n",
       "\n",
       "                        })                };                });            </script>        </div>"
      ]
     },
     "metadata": {},
     "output_type": "display_data"
    }
   ],
   "source": [
    "#lib plot > linhas\n",
    "#grafico interativo\n",
    "#gráfico com apenas 1 ano fica incorreto.. utilizar barras\n",
    "\n",
    "dados_x= ['Com Vítimas Feridas', 'Com Vítimas Fatais', 'Sem Vítimas' ]\n",
    "dados_y= [51183, 4592, 11671]\n",
    "\n",
    "fig = px.line(x=dados_x, y=dados_y, title= 'Acidentes por tipo em 2019', width=700, height=300)\n",
    "fig.update_yaxes(title='Qtd')\n",
    "fig.show()"
   ]
  },
  {
   "cell_type": "code",
   "execution_count": null,
   "id": "c75bbf1f",
   "metadata": {},
   "outputs": [],
   "source": []
  }
 ],
 "metadata": {
  "kernelspec": {
   "display_name": "Python 3 (ipykernel)",
   "language": "python",
   "name": "python3"
  },
  "language_info": {
   "codemirror_mode": {
    "name": "ipython",
    "version": 3
   },
   "file_extension": ".py",
   "mimetype": "text/x-python",
   "name": "python",
   "nbconvert_exporter": "python",
   "pygments_lexer": "ipython3",
   "version": "3.9.7"
  }
 },
 "nbformat": 4,
 "nbformat_minor": 5
}
